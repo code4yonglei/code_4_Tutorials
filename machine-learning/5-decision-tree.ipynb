{
 "cells": [
  {
   "cell_type": "markdown",
   "id": "a47a19e9-a12c-4ab8-b074-7bc4daf611ca",
   "metadata": {},
   "source": [
    "# Tutorial 5 - Decision Tree"
   ]
  },
  {
   "cell_type": "code",
   "execution_count": null,
   "id": "2f685ebf-adf2-4ff5-9552-5185a9842331",
   "metadata": {},
   "outputs": [],
   "source": []
  },
  {
   "cell_type": "code",
   "execution_count": null,
   "id": "aa6fe4c6-fc22-46f8-a290-288fed1360a3",
   "metadata": {},
   "outputs": [],
   "source": []
  },
  {
   "cell_type": "markdown",
   "id": "8e45d040-e1f5-411f-a1cd-da314146c1be",
   "metadata": {},
   "source": [
    "A decision tree is a supervised learning algorithm that is used for classification and regression modeling. Regression is a method used for predictive modeling, so these trees are used to either classify data or predict what will come next. "
   ]
  },
  {
   "cell_type": "markdown",
   "id": "47589ef7-a6fc-45f9-97b8-d4148fb96382",
   "metadata": {},
   "source": [
    "Decision trees look like flowcharts, starting at the `root node` with a specific question of data, that leads to branches that hold potential answers. The branches then lead to `decision (internal) nodes`, which ask more questions that lead to more outcomes. This goes on until the data reaches what’s called a `terminal (or leaf) node` and ends."
   ]
  },
  {
   "cell_type": "markdown",
   "id": "665981d7-0d2e-489e-83e0-b97705db1338",
   "metadata": {},
   "source": [
    "In machine learning, there are four main methods of training algorithms: \n",
    "- supervised\n",
    "- unsupervised\n",
    "- reinforcement learning\n",
    "- semi-supervised learning"
   ]
  },
  {
   "cell_type": "markdown",
   "id": "8e448723-8ef1-4f00-a27d-0ea7cf8d85b3",
   "metadata": {},
   "source": [
    "A decision tree helps us visualize how a supervised learning algorithm leads to specific outcomes."
   ]
  },
  {
   "cell_type": "code",
   "execution_count": null,
   "id": "c4db4072-2e8e-499c-b69c-7fb090aa4813",
   "metadata": {},
   "outputs": [],
   "source": []
  },
  {
   "cell_type": "code",
   "execution_count": null,
   "id": "51e289cd-8ebf-4b9e-a009-1b101e6d49cf",
   "metadata": {},
   "outputs": [],
   "source": []
  },
  {
   "cell_type": "code",
   "execution_count": 1,
   "id": "8f4e8109-81be-45ce-82ef-12f0c94030f5",
   "metadata": {},
   "outputs": [
    {
     "data": {
      "text/plain": [
       "'1.2.1'"
      ]
     },
     "execution_count": 1,
     "metadata": {},
     "output_type": "execute_result"
    }
   ],
   "source": [
    "import sklearn\n",
    "sklearn.__version__"
   ]
  },
  {
   "cell_type": "code",
   "execution_count": 2,
   "id": "baa33256-8690-48cf-9bce-1f3d7ca004bb",
   "metadata": {},
   "outputs": [
    {
     "ename": "SyntaxError",
     "evalue": "invalid syntax (1960107447.py, line 1)",
     "output_type": "error",
     "traceback": [
      "\u001b[0;36m  Cell \u001b[0;32mIn[2], line 1\u001b[0;36m\u001b[0m\n\u001b[0;31m    nosetest sklearn -exe\u001b[0m\n\u001b[0m             ^\u001b[0m\n\u001b[0;31mSyntaxError\u001b[0m\u001b[0;31m:\u001b[0m invalid syntax\n"
     ]
    }
   ],
   "source": []
  },
  {
   "cell_type": "code",
   "execution_count": null,
   "id": "fde84574-8337-46a8-8dc2-d5c303434be8",
   "metadata": {},
   "outputs": [],
   "source": []
  }
 ],
 "metadata": {
  "kernelspec": {
   "display_name": "Python 3 (ipykernel)",
   "language": "python",
   "name": "python3"
  },
  "language_info": {
   "codemirror_mode": {
    "name": "ipython",
    "version": 3
   },
   "file_extension": ".py",
   "mimetype": "text/x-python",
   "name": "python",
   "nbconvert_exporter": "python",
   "pygments_lexer": "ipython3",
   "version": "3.10.8"
  }
 },
 "nbformat": 4,
 "nbformat_minor": 5
}
