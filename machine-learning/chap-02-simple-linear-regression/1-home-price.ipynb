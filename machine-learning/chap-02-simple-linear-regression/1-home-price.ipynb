{
 "cells": [
  {
   "cell_type": "code",
   "execution_count": 1,
   "id": "f6c0afdc-a485-4ff6-a56c-06aed3df9e34",
   "metadata": {},
   "outputs": [],
   "source": [
    "import numpy as np\n",
    "import pandas as pd\n",
    "import matplotlib.pyplot as plt"
   ]
  },
  {
   "cell_type": "markdown",
   "id": "ab5c4f3b-72f2-4ab6-a01e-b1f23db4d32f",
   "metadata": {},
   "source": [
    "## 1. Data visualization"
   ]
  },
  {
   "cell_type": "code",
   "execution_count": 2,
   "id": "97e1d4fc-0e34-4ab1-9b2c-84d38295617d",
   "metadata": {},
   "outputs": [
    {
     "data": {
      "text/html": [
       "<div>\n",
       "<style scoped>\n",
       "    .dataframe tbody tr th:only-of-type {\n",
       "        vertical-align: middle;\n",
       "    }\n",
       "\n",
       "    .dataframe tbody tr th {\n",
       "        vertical-align: top;\n",
       "    }\n",
       "\n",
       "    .dataframe thead th {\n",
       "        text-align: right;\n",
       "    }\n",
       "</style>\n",
       "<table border=\"1\" class=\"dataframe\">\n",
       "  <thead>\n",
       "    <tr style=\"text-align: right;\">\n",
       "      <th></th>\n",
       "      <th>area</th>\n",
       "      <th>price</th>\n",
       "    </tr>\n",
       "  </thead>\n",
       "  <tbody>\n",
       "    <tr>\n",
       "      <th>0</th>\n",
       "      <td>2600</td>\n",
       "      <td>610</td>\n",
       "    </tr>\n",
       "    <tr>\n",
       "      <th>1</th>\n",
       "      <td>3000</td>\n",
       "      <td>650</td>\n",
       "    </tr>\n",
       "    <tr>\n",
       "      <th>2</th>\n",
       "      <td>3200</td>\n",
       "      <td>710</td>\n",
       "    </tr>\n",
       "    <tr>\n",
       "      <th>3</th>\n",
       "      <td>3600</td>\n",
       "      <td>780</td>\n",
       "    </tr>\n",
       "    <tr>\n",
       "      <th>4</th>\n",
       "      <td>4000</td>\n",
       "      <td>880</td>\n",
       "    </tr>\n",
       "  </tbody>\n",
       "</table>\n",
       "</div>"
      ],
      "text/plain": [
       "   area  price\n",
       "0  2600    610\n",
       "1  3000    650\n",
       "2  3200    710\n",
       "3  3600    780\n",
       "4  4000    880"
      ]
     },
     "execution_count": 2,
     "metadata": {},
     "output_type": "execute_result"
    }
   ],
   "source": [
    "df1 = pd.read_csv(\"1-home-price-train.csv\")\n",
    "df1"
   ]
  },
  {
   "cell_type": "code",
   "execution_count": 3,
   "id": "68731d12-5c3f-4ab2-8275-8b94978ca0e0",
   "metadata": {},
   "outputs": [
    {
     "data": {
      "image/png": "[encoded data removed]",
      "text/plain": [
       "<Figure size 640x480 with 1 Axes>"
      ]
     },
     "metadata": {},
     "output_type": "display_data"
    }
   ],
   "source": [
    "plt.figure()\n",
    "plt.title(\"House price plotted against house size\")\n",
    "plt.scatter(df1.area, df1.price, color=\"red\", marker='o')\n",
    "plt.xlabel(\"House area (square feet)\")\n",
    "plt.ylabel(\"House price (*1000 USD)\")\n",
    "plt.grid(True)\n",
    "\n",
    "plt.show()\n",
    "# plt.savefig(\"./1-house-price-0.png\")"
   ]
  },
  {
   "cell_type": "markdown",
   "id": "525d7222-712e-4598-84c0-21d2f66feefb",
   "metadata": {},
   "source": [
    "## 2. Linear regression"
   ]
  },
  {
   "cell_type": "code",
   "execution_count": 4,
   "id": "d2d79ea4-c620-439d-af9e-843f12624252",
   "metadata": {},
   "outputs": [],
   "source": [
    "from sklearn.linear_model import LinearRegression"
   ]
  },
  {
   "cell_type": "code",
   "execution_count": 5,
   "id": "aa795d3b-3df6-4cf1-b6d7-c94d614578c3",
   "metadata": {},
   "outputs": [
    {
     "data": {
      "text/html": [
       "<style>#sk-container-id-1 {\n",
       "  /* Definition of color scheme common for light and dark mode */\n",
       "  --sklearn-color-text: black;\n",
       "  --sklearn-color-line: gray;\n",
       "  /* Definition of color scheme for unfitted estimators */\n",
       "  --sklearn-color-unfitted-level-0: #fff5e6;\n",
       "  --sklearn-color-unfitted-level-1: #f6e4d2;\n",
       "  --sklearn-color-unfitted-level-2: #ffe0b3;\n",
       "  --sklearn-color-unfitted-level-3: chocolate;\n",
       "  /* Definition of color scheme for fitted estimators */\n",
       "  --sklearn-color-fitted-level-0: #f0f8ff;\n",
       "  --sklearn-color-fitted-level-1: #d4ebff;\n",
       "  --sklearn-color-fitted-level-2: #b3dbfd;\n",
       "  --sklearn-color-fitted-level-3: cornflowerblue;\n",
       "\n",
       "  /* Specific color for light theme */\n",
       "  --sklearn-color-text-on-default-background: var(--sg-text-color, var(--theme-code-foreground, var(--jp-content-font-color1, black)));\n",
       "  --sklearn-color-background: var(--sg-background-color, var(--theme-background, var(--jp-layout-color0, white)));\n",
       "  --sklearn-color-border-box: var(--sg-text-color, var(--theme-code-foreground, var(--jp-content-font-color1, black)));\n",
       "  --sklearn-color-icon: #696969;\n",
       "\n",
       "  @media (prefers-color-scheme: dark) {\n",
       "    /* Redefinition of color scheme for dark theme */\n",
       "    --sklearn-color-text-on-default-background: var(--sg-text-color, var(--theme-code-foreground, var(--jp-content-font-color1, white)));\n",
       "    --sklearn-color-background: var(--sg-background-color, var(--theme-background, var(--jp-layout-color0, #111)));\n",
       "    --sklearn-color-border-box: var(--sg-text-color, var(--theme-code-foreground, var(--jp-content-font-color1, white)));\n",
       "    --sklearn-color-icon: #878787;\n",
       "  }\n",
       "}\n",
       "\n",
       "#sk-container-id-1 {\n",
       "  color: var(--sklearn-color-text);\n",
       "}\n",
       "\n",
       "#sk-container-id-1 pre {\n",
       "  padding: 0;\n",
       "}\n",
       "\n",
       "#sk-container-id-1 input.sk-hidden--visually {\n",
       "  border: 0;\n",
       "  clip: rect(1px 1px 1px 1px);\n",
       "  clip: rect(1px, 1px, 1px, 1px);\n",
       "  height: 1px;\n",
       "  margin: -1px;\n",
       "  overflow: hidden;\n",
       "  padding: 0;\n",
       "  position: absolute;\n",
       "  width: 1px;\n",
       "}\n",
       "\n",
       "#sk-container-id-1 div.sk-dashed-wrapped {\n",
       "  border: 1px dashed var(--sklearn-color-line);\n",
       "  margin: 0 0.4em 0.5em 0.4em;\n",
       "  box-sizing: border-box;\n",
       "  padding-bottom: 0.4em;\n",
       "  background-color: var(--sklearn-color-background);\n",
       "}\n",
       "\n",
       "#sk-container-id-1 div.sk-container {\n",
       "  /* jupyter's `normalize.less` sets `[hidden] { display: none; }`\n",
       "     but bootstrap.min.css set `[hidden] { display: none !important; }`\n",
       "     so we also need the `!important` here to be able to override the\n",
       "     default hidden behavior on the sphinx rendered scikit-learn.org.\n",
       "     See: https://github.com/scikit-learn/scikit-learn/issues/21755 */\n",
       "  display: inline-block !important;\n",
       "  position: relative;\n",
       "}\n",
       "\n",
       "#sk-container-id-1 div.sk-text-repr-fallback {\n",
       "  display: none;\n",
       "}\n",
       "\n",
       "div.sk-parallel-item,\n",
       "div.sk-serial,\n",
       "div.sk-item {\n",
       "  /* draw centered vertical line to link estimators */\n",
       "  background-image: linear-gradient(var(--sklearn-color-text-on-default-background), var(--sklearn-color-text-on-default-background));\n",
       "  background-size: 2px 100%;\n",
       "  background-repeat: no-repeat;\n",
       "  background-position: center center;\n",
       "}\n",
       "\n",
       "/* Parallel-specific style estimator block */\n",
       "\n",
       "#sk-container-id-1 div.sk-parallel-item::after {\n",
       "  content: \"\";\n",
       "  width: 100%;\n",
       "  border-bottom: 2px solid var(--sklearn-color-text-on-default-background);\n",
       "  flex-grow: 1;\n",
       "}\n",
       "\n",
       "#sk-container-id-1 div.sk-parallel {\n",
       "  display: flex;\n",
       "  align-items: stretch;\n",
       "  justify-content: center;\n",
       "  background-color: var(--sklearn-color-background);\n",
       "  position: relative;\n",
       "}\n",
       "\n",
       "#sk-container-id-1 div.sk-parallel-item {\n",
       "  display: flex;\n",
       "  flex-direction: column;\n",
       "}\n",
       "\n",
       "#sk-container-id-1 div.sk-parallel-item:first-child::after {\n",
       "  align-self: flex-end;\n",
       "  width: 50%;\n",
       "}\n",
       "\n",
       "#sk-container-id-1 div.sk-parallel-item:last-child::after {\n",
       "  align-self: flex-start;\n",
       "  width: 50%;\n",
       "}\n",
       "\n",
       "#sk-container-id-1 div.sk-parallel-item:only-child::after {\n",
       "  width: 0;\n",
       "}\n",
       "\n",
       "/* Serial-specific style estimator block */\n",
       "\n",
       "#sk-container-id-1 div.sk-serial {\n",
       "  display: flex;\n",
       "  flex-direction: column;\n",
       "  align-items: center;\n",
       "  background-color: var(--sklearn-color-background);\n",
       "  padding-right: 1em;\n",
       "  padding-left: 1em;\n",
       "}\n",
       "\n",
       "\n",
       "/* Toggleable style: style used for estimator/Pipeline/ColumnTransformer box that is\n",
       "clickable and can be expanded/collapsed.\n",
       "- Pipeline and ColumnTransformer use this feature and define the default style\n",
       "- Estimators will overwrite some part of the style using the `sk-estimator` class\n",
       "*/\n",
       "\n",
       "/* Pipeline and ColumnTransformer style (default) */\n",
       "\n",
       "#sk-container-id-1 div.sk-toggleable {\n",
       "  /* Default theme specific background. It is overwritten whether we have a\n",
       "  specific estimator or a Pipeline/ColumnTransformer */\n",
       "  background-color: var(--sklearn-color-background);\n",
       "}\n",
       "\n",
       "/* Toggleable label */\n",
       "#sk-container-id-1 label.sk-toggleable__label {\n",
       "  cursor: pointer;\n",
       "  display: block;\n",
       "  width: 100%;\n",
       "  margin-bottom: 0;\n",
       "  padding: 0.5em;\n",
       "  box-sizing: border-box;\n",
       "  text-align: center;\n",
       "}\n",
       "\n",
       "#sk-container-id-1 label.sk-toggleable__label-arrow:before {\n",
       "  /* Arrow on the left of the label */\n",
       "  content: \"▸\";\n",
       "  float: left;\n",
       "  margin-right: 0.25em;\n",
       "  color: var(--sklearn-color-icon);\n",
       "}\n",
       "\n",
       "#sk-container-id-1 label.sk-toggleable__label-arrow:hover:before {\n",
       "  color: var(--sklearn-color-text);\n",
       "}\n",
       "\n",
       "/* Toggleable content - dropdown */\n",
       "\n",
       "#sk-container-id-1 div.sk-toggleable__content {\n",
       "  max-height: 0;\n",
       "  max-width: 0;\n",
       "  overflow: hidden;\n",
       "  text-align: left;\n",
       "  /* unfitted */\n",
       "  background-color: var(--sklearn-color-unfitted-level-0);\n",
       "}\n",
       "\n",
       "#sk-container-id-1 div.sk-toggleable__content.fitted {\n",
       "  /* fitted */\n",
       "  background-color: var(--sklearn-color-fitted-level-0);\n",
       "}\n",
       "\n",
       "#sk-container-id-1 div.sk-toggleable__content pre {\n",
       "  margin: 0.2em;\n",
       "  border-radius: 0.25em;\n",
       "  color: var(--sklearn-color-text);\n",
       "  /* unfitted */\n",
       "  background-color: var(--sklearn-color-unfitted-level-0);\n",
       "}\n",
       "\n",
       "#sk-container-id-1 div.sk-toggleable__content.fitted pre {\n",
       "  /* unfitted */\n",
       "  background-color: var(--sklearn-color-fitted-level-0);\n",
       "}\n",
       "\n",
       "#sk-container-id-1 input.sk-toggleable__control:checked~div.sk-toggleable__content {\n",
       "  /* Expand drop-down */\n",
       "  max-height: 200px;\n",
       "  max-width: 100%;\n",
       "  overflow: auto;\n",
       "}\n",
       "\n",
       "#sk-container-id-1 input.sk-toggleable__control:checked~label.sk-toggleable__label-arrow:before {\n",
       "  content: \"▾\";\n",
       "}\n",
       "\n",
       "/* Pipeline/ColumnTransformer-specific style */\n",
       "\n",
       "#sk-container-id-1 div.sk-label input.sk-toggleable__control:checked~label.sk-toggleable__label {\n",
       "  color: var(--sklearn-color-text);\n",
       "  background-color: var(--sklearn-color-unfitted-level-2);\n",
       "}\n",
       "\n",
       "#sk-container-id-1 div.sk-label.fitted input.sk-toggleable__control:checked~label.sk-toggleable__label {\n",
       "  background-color: var(--sklearn-color-fitted-level-2);\n",
       "}\n",
       "\n",
       "/* Estimator-specific style */\n",
       "\n",
       "/* Colorize estimator box */\n",
       "#sk-container-id-1 div.sk-estimator input.sk-toggleable__control:checked~label.sk-toggleable__label {\n",
       "  /* unfitted */\n",
       "  background-color: var(--sklearn-color-unfitted-level-2);\n",
       "}\n",
       "\n",
       "#sk-container-id-1 div.sk-estimator.fitted input.sk-toggleable__control:checked~label.sk-toggleable__label {\n",
       "  /* fitted */\n",
       "  background-color: var(--sklearn-color-fitted-level-2);\n",
       "}\n",
       "\n",
       "#sk-container-id-1 div.sk-label label.sk-toggleable__label,\n",
       "#sk-container-id-1 div.sk-label label {\n",
       "  /* The background is the default theme color */\n",
       "  color: var(--sklearn-color-text-on-default-background);\n",
       "}\n",
       "\n",
       "/* On hover, darken the color of the background */\n",
       "#sk-container-id-1 div.sk-label:hover label.sk-toggleable__label {\n",
       "  color: var(--sklearn-color-text);\n",
       "  background-color: var(--sklearn-color-unfitted-level-2);\n",
       "}\n",
       "\n",
       "/* Label box, darken color on hover, fitted */\n",
       "#sk-container-id-1 div.sk-label.fitted:hover label.sk-toggleable__label.fitted {\n",
       "  color: var(--sklearn-color-text);\n",
       "  background-color: var(--sklearn-color-fitted-level-2);\n",
       "}\n",
       "\n",
       "/* Estimator label */\n",
       "\n",
       "#sk-container-id-1 div.sk-label label {\n",
       "  font-family: monospace;\n",
       "  font-weight: bold;\n",
       "  display: inline-block;\n",
       "  line-height: 1.2em;\n",
       "}\n",
       "\n",
       "#sk-container-id-1 div.sk-label-container {\n",
       "  text-align: center;\n",
       "}\n",
       "\n",
       "/* Estimator-specific */\n",
       "#sk-container-id-1 div.sk-estimator {\n",
       "  font-family: monospace;\n",
       "  border: 1px dotted var(--sklearn-color-border-box);\n",
       "  border-radius: 0.25em;\n",
       "  box-sizing: border-box;\n",
       "  margin-bottom: 0.5em;\n",
       "  /* unfitted */\n",
       "  background-color: var(--sklearn-color-unfitted-level-0);\n",
       "}\n",
       "\n",
       "#sk-container-id-1 div.sk-estimator.fitted {\n",
       "  /* fitted */\n",
       "  background-color: var(--sklearn-color-fitted-level-0);\n",
       "}\n",
       "\n",
       "/* on hover */\n",
       "#sk-container-id-1 div.sk-estimator:hover {\n",
       "  /* unfitted */\n",
       "  background-color: var(--sklearn-color-unfitted-level-2);\n",
       "}\n",
       "\n",
       "#sk-container-id-1 div.sk-estimator.fitted:hover {\n",
       "  /* fitted */\n",
       "  background-color: var(--sklearn-color-fitted-level-2);\n",
       "}\n",
       "\n",
       "/* Specification for estimator info (e.g. \"i\" and \"?\") */\n",
       "\n",
       "/* Common style for \"i\" and \"?\" */\n",
       "\n",
       ".sk-estimator-doc-link,\n",
       "a:link.sk-estimator-doc-link,\n",
       "a:visited.sk-estimator-doc-link {\n",
       "  float: right;\n",
       "  font-size: smaller;\n",
       "  line-height: 1em;\n",
       "  font-family: monospace;\n",
       "  background-color: var(--sklearn-color-background);\n",
       "  border-radius: 1em;\n",
       "  height: 1em;\n",
       "  width: 1em;\n",
       "  text-decoration: none !important;\n",
       "  margin-left: 1ex;\n",
       "  /* unfitted */\n",
       "  border: var(--sklearn-color-unfitted-level-1) 1pt solid;\n",
       "  color: var(--sklearn-color-unfitted-level-1);\n",
       "}\n",
       "\n",
       ".sk-estimator-doc-link.fitted,\n",
       "a:link.sk-estimator-doc-link.fitted,\n",
       "a:visited.sk-estimator-doc-link.fitted {\n",
       "  /* fitted */\n",
       "  border: var(--sklearn-color-fitted-level-1) 1pt solid;\n",
       "  color: var(--sklearn-color-fitted-level-1);\n",
       "}\n",
       "\n",
       "/* On hover */\n",
       "div.sk-estimator:hover .sk-estimator-doc-link:hover,\n",
       ".sk-estimator-doc-link:hover,\n",
       "div.sk-label-container:hover .sk-estimator-doc-link:hover,\n",
       ".sk-estimator-doc-link:hover {\n",
       "  /* unfitted */\n",
       "  background-color: var(--sklearn-color-unfitted-level-3);\n",
       "  color: var(--sklearn-color-background);\n",
       "  text-decoration: none;\n",
       "}\n",
       "\n",
       "div.sk-estimator.fitted:hover .sk-estimator-doc-link.fitted:hover,\n",
       ".sk-estimator-doc-link.fitted:hover,\n",
       "div.sk-label-container:hover .sk-estimator-doc-link.fitted:hover,\n",
       ".sk-estimator-doc-link.fitted:hover {\n",
       "  /* fitted */\n",
       "  background-color: var(--sklearn-color-fitted-level-3);\n",
       "  color: var(--sklearn-color-background);\n",
       "  text-decoration: none;\n",
       "}\n",
       "\n",
       "/* Span, style for the box shown on hovering the info icon */\n",
       ".sk-estimator-doc-link span {\n",
       "  display: none;\n",
       "  z-index: 9999;\n",
       "  position: relative;\n",
       "  font-weight: normal;\n",
       "  right: .2ex;\n",
       "  padding: .5ex;\n",
       "  margin: .5ex;\n",
       "  width: min-content;\n",
       "  min-width: 20ex;\n",
       "  max-width: 50ex;\n",
       "  color: var(--sklearn-color-text);\n",
       "  box-shadow: 2pt 2pt 4pt #999;\n",
       "  /* unfitted */\n",
       "  background: var(--sklearn-color-unfitted-level-0);\n",
       "  border: .5pt solid var(--sklearn-color-unfitted-level-3);\n",
       "}\n",
       "\n",
       ".sk-estimator-doc-link.fitted span {\n",
       "  /* fitted */\n",
       "  background: var(--sklearn-color-fitted-level-0);\n",
       "  border: var(--sklearn-color-fitted-level-3);\n",
       "}\n",
       "\n",
       ".sk-estimator-doc-link:hover span {\n",
       "  display: block;\n",
       "}\n",
       "\n",
       "/* \"?\"-specific style due to the `<a>` HTML tag */\n",
       "\n",
       "#sk-container-id-1 a.estimator_doc_link {\n",
       "  float: right;\n",
       "  font-size: 1rem;\n",
       "  line-height: 1em;\n",
       "  font-family: monospace;\n",
       "  background-color: var(--sklearn-color-background);\n",
       "  border-radius: 1rem;\n",
       "  height: 1rem;\n",
       "  width: 1rem;\n",
       "  text-decoration: none;\n",
       "  /* unfitted */\n",
       "  color: var(--sklearn-color-unfitted-level-1);\n",
       "  border: var(--sklearn-color-unfitted-level-1) 1pt solid;\n",
       "}\n",
       "\n",
       "#sk-container-id-1 a.estimator_doc_link.fitted {\n",
       "  /* fitted */\n",
       "  border: var(--sklearn-color-fitted-level-1) 1pt solid;\n",
       "  color: var(--sklearn-color-fitted-level-1);\n",
       "}\n",
       "\n",
       "/* On hover */\n",
       "#sk-container-id-1 a.estimator_doc_link:hover {\n",
       "  /* unfitted */\n",
       "  background-color: var(--sklearn-color-unfitted-level-3);\n",
       "  color: var(--sklearn-color-background);\n",
       "  text-decoration: none;\n",
       "}\n",
       "\n",
       "#sk-container-id-1 a.estimator_doc_link.fitted:hover {\n",
       "  /* fitted */\n",
       "  background-color: var(--sklearn-color-fitted-level-3);\n",
       "}\n",
       "</style><div id=\"sk-container-id-1\" class=\"sk-top-container\"><div class=\"sk-text-repr-fallback\"><pre>LinearRegression()</pre><b>In a Jupyter environment, please rerun this cell to show the HTML representation or trust the notebook. <br />On GitHub, the HTML representation is unable to render, please try loading this page with nbviewer.org.</b></div><div class=\"sk-container\" hidden><div class=\"sk-item\"><div class=\"sk-estimator fitted sk-toggleable\"><input class=\"sk-toggleable__control sk-hidden--visually\" id=\"sk-estimator-id-1\" type=\"checkbox\" checked><label for=\"sk-estimator-id-1\" class=\"sk-toggleable__label fitted sk-toggleable__label-arrow fitted\">&nbsp;&nbsp;LinearRegression<a class=\"sk-estimator-doc-link fitted\" rel=\"noreferrer\" target=\"_blank\" href=\"https://scikit-learn.org/1.5/modules/generated/sklearn.linear_model.LinearRegression.html\">?<span>Documentation for LinearRegression</span></a><span class=\"sk-estimator-doc-link fitted\">i<span>Fitted</span></span></label><div class=\"sk-toggleable__content fitted\"><pre>LinearRegression()</pre></div> </div></div></div></div>"
      ],
      "text/plain": [
       "LinearRegression()"
      ]
     },
     "execution_count": 5,
     "metadata": {},
     "output_type": "execute_result"
    }
   ],
   "source": [
    "model = LinearRegression()\n",
    "model.fit(df1[[\"area\"]].values, df1.price)"
   ]
  },
  {
   "cell_type": "code",
   "execution_count": 6,
   "id": "99b2bfbb-0026-4a4b-9a9f-61ac2bd34ef3",
   "metadata": {},
   "outputs": [
    {
     "name": "stdout",
     "output_type": "stream",
     "text": [
      "[0.19657534] 81.23287671232868\n"
     ]
    }
   ],
   "source": [
    "# fitting parameters\n",
    "print(model.coef_, model.intercept_)"
   ]
  },
  {
   "cell_type": "code",
   "execution_count": 7,
   "id": "4f55ae75-9c0e-4cea-b1b4-4351fe36caf7",
   "metadata": {},
   "outputs": [
    {
     "name": "stdout",
     "output_type": "stream",
     "text": [
      "0.9786144542527533\n"
     ]
    }
   ],
   "source": [
    "# accuracy of model\n",
    "print(model.score(df1[[\"area\"]].values, df1.price))"
   ]
  },
  {
   "cell_type": "code",
   "execution_count": 8,
   "id": "47e2d125-580d-4671-92c8-a36db7fadf02",
   "metadata": {},
   "outputs": [
    {
     "name": "stdout",
     "output_type": "stream",
     "text": [
      "197.2602739726034\n"
     ]
    },
    {
     "name": "stderr",
     "output_type": "stream",
     "text": [
      "/opt/anaconda3/lib/python3.12/site-packages/sklearn/base.py:486: UserWarning: X has feature names, but LinearRegression was fitted without feature names\n",
      "  warnings.warn(\n"
     ]
    }
   ],
   "source": [
    "print(np.mean((model.predict(df1[[\"area\"]]) - df1.price)**2))"
   ]
  },
  {
   "cell_type": "code",
   "execution_count": 9,
   "id": "8d2a26f1-6bca-43d6-a6f0-4548fcfe01b4",
   "metadata": {},
   "outputs": [
    {
     "data": {
      "image/png": "[encoded data removed]",
      "text/plain": [
       "<Figure size 640x480 with 1 Axes>"
      ]
     },
     "metadata": {},
     "output_type": "display_data"
    }
   ],
   "source": [
    "%matplotlib inline\n",
    "\n",
    "plt.figure()\n",
    "plt.title(\"House price plotted against house size\")\n",
    "plt.xlabel(\"House area (square feet)\")\n",
    "plt.ylabel(\"House price (*1000 USD)\")\n",
    "plt.grid(True)\n",
    "\n",
    "plt.scatter(df1.area, df1.price, color=\"red\", marker='o', label=\"Training data\")\n",
    "plt.plot(df1.area, model.predict(df1[[\"area\"]].values), color=\"g\", label=\"Linear regression\")\n",
    "plt.legend()\n",
    "\n",
    "plt.show()\n",
    "# plt.savefig(\"./1-house-price.png\")"
   ]
  },
  {
   "cell_type": "markdown",
   "id": "6b4a5364-0230-4e42-acf0-4fc1d791f541",
   "metadata": {},
   "source": [
    "## 3. New predictions"
   ]
  },
  {
   "cell_type": "code",
   "execution_count": 10,
   "id": "f0266ff9-189a-466e-94c4-35b5d9eb7c22",
   "metadata": {},
   "outputs": [
    {
     "name": "stdout",
     "output_type": "stream",
     "text": [
      "729.931506849315\n"
     ]
    }
   ],
   "source": [
    "target_area = 3300\n",
    "prediction_for_target_area = model.predict(np.array([[target_area]]))[0]\n",
    "print(prediction_for_target_area)"
   ]
  },
  {
   "cell_type": "code",
   "execution_count": 11,
   "id": "cf548b98-63e2-476d-82e9-b3002b1ccbca",
   "metadata": {},
   "outputs": [
    {
     "data": {
      "text/plain": [
       "628715.7534151643"
      ]
     },
     "execution_count": 11,
     "metadata": {},
     "output_type": "execute_result"
    }
   ],
   "source": [
    "135.78767123*3300 + 180616.43835616432"
   ]
  },
  {
   "cell_type": "code",
   "execution_count": 12,
   "id": "1f60f4a6-5837-4c4a-9e8d-ea1ed6a4ad92",
   "metadata": {},
   "outputs": [
    {
     "data": {
      "text/html": [
       "<div>\n",
       "<style scoped>\n",
       "    .dataframe tbody tr th:only-of-type {\n",
       "        vertical-align: middle;\n",
       "    }\n",
       "\n",
       "    .dataframe tbody tr th {\n",
       "        vertical-align: top;\n",
       "    }\n",
       "\n",
       "    .dataframe thead th {\n",
       "        text-align: right;\n",
       "    }\n",
       "</style>\n",
       "<table border=\"1\" class=\"dataframe\">\n",
       "  <thead>\n",
       "    <tr style=\"text-align: right;\">\n",
       "      <th></th>\n",
       "      <th>area</th>\n",
       "    </tr>\n",
       "  </thead>\n",
       "  <tbody>\n",
       "    <tr>\n",
       "      <th>8</th>\n",
       "      <td>3700</td>\n",
       "    </tr>\n",
       "    <tr>\n",
       "      <th>9</th>\n",
       "      <td>3800</td>\n",
       "    </tr>\n",
       "    <tr>\n",
       "      <th>10</th>\n",
       "      <td>3900</td>\n",
       "    </tr>\n",
       "  </tbody>\n",
       "</table>\n",
       "</div>"
      ],
      "text/plain": [
       "    area\n",
       "8   3700\n",
       "9   3800\n",
       "10  3900"
      ]
     },
     "execution_count": 12,
     "metadata": {},
     "output_type": "execute_result"
    }
   ],
   "source": [
    "df2 = pd.read_csv(\"1-home-price-predict.csv\")\n",
    "df2.tail(3)"
   ]
  },
  {
   "cell_type": "code",
   "execution_count": 13,
   "id": "07498bec-319b-43b1-80e3-51dcb026ecfd",
   "metadata": {},
   "outputs": [
    {
     "name": "stderr",
     "output_type": "stream",
     "text": [
      "/opt/anaconda3/lib/python3.12/site-packages/sklearn/base.py:486: UserWarning: X has feature names, but LinearRegression was fitted without feature names\n",
      "  warnings.warn(\n"
     ]
    },
    {
     "data": {
      "text/plain": [
       "array([611.98630137, 631.64383562, 651.30136986, 670.95890411,\n",
       "       690.61643836, 729.93150685, 749.5890411 , 769.24657534,\n",
       "       808.56164384, 828.21917808, 847.87671233])"
      ]
     },
     "execution_count": 13,
     "metadata": {},
     "output_type": "execute_result"
    }
   ],
   "source": [
    "model.predict(df2[[\"area\"]]) # get a warning like \"UserWarning: X has feature names, but LinearRegression was fitted without feature names warnings.warn\""
   ]
  },
  {
   "cell_type": "code",
   "execution_count": 14,
   "id": "8a75e1ce-e15c-4546-ade4-de80274aa715",
   "metadata": {},
   "outputs": [
    {
     "data": {
      "text/plain": [
       "array([611.98630137, 631.64383562, 651.30136986, 670.95890411,\n",
       "       690.61643836, 729.93150685, 749.5890411 , 769.24657534,\n",
       "       808.56164384, 828.21917808, 847.87671233])"
      ]
     },
     "execution_count": 14,
     "metadata": {},
     "output_type": "execute_result"
    }
   ],
   "source": [
    "new_prediction = model.predict(df2[[\"area\"]].values)\n",
    "new_prediction"
   ]
  },
  {
   "cell_type": "code",
   "execution_count": 15,
   "id": "e8f87836-2c5e-4531-84ea-4b44f86e8ec5",
   "metadata": {},
   "outputs": [
    {
     "data": {
      "text/html": [
       "<div>\n",
       "<style scoped>\n",
       "    .dataframe tbody tr th:only-of-type {\n",
       "        vertical-align: middle;\n",
       "    }\n",
       "\n",
       "    .dataframe tbody tr th {\n",
       "        vertical-align: top;\n",
       "    }\n",
       "\n",
       "    .dataframe thead th {\n",
       "        text-align: right;\n",
       "    }\n",
       "</style>\n",
       "<table border=\"1\" class=\"dataframe\">\n",
       "  <thead>\n",
       "    <tr style=\"text-align: right;\">\n",
       "      <th></th>\n",
       "      <th>area</th>\n",
       "      <th>price</th>\n",
       "    </tr>\n",
       "  </thead>\n",
       "  <tbody>\n",
       "    <tr>\n",
       "      <th>0</th>\n",
       "      <td>2700</td>\n",
       "      <td>611.986301</td>\n",
       "    </tr>\n",
       "    <tr>\n",
       "      <th>1</th>\n",
       "      <td>2800</td>\n",
       "      <td>631.643836</td>\n",
       "    </tr>\n",
       "    <tr>\n",
       "      <th>2</th>\n",
       "      <td>2900</td>\n",
       "      <td>651.301370</td>\n",
       "    </tr>\n",
       "    <tr>\n",
       "      <th>3</th>\n",
       "      <td>3000</td>\n",
       "      <td>670.958904</td>\n",
       "    </tr>\n",
       "    <tr>\n",
       "      <th>4</th>\n",
       "      <td>3100</td>\n",
       "      <td>690.616438</td>\n",
       "    </tr>\n",
       "    <tr>\n",
       "      <th>5</th>\n",
       "      <td>3300</td>\n",
       "      <td>729.931507</td>\n",
       "    </tr>\n",
       "    <tr>\n",
       "      <th>6</th>\n",
       "      <td>3400</td>\n",
       "      <td>749.589041</td>\n",
       "    </tr>\n",
       "    <tr>\n",
       "      <th>7</th>\n",
       "      <td>3500</td>\n",
       "      <td>769.246575</td>\n",
       "    </tr>\n",
       "    <tr>\n",
       "      <th>8</th>\n",
       "      <td>3700</td>\n",
       "      <td>808.561644</td>\n",
       "    </tr>\n",
       "    <tr>\n",
       "      <th>9</th>\n",
       "      <td>3800</td>\n",
       "      <td>828.219178</td>\n",
       "    </tr>\n",
       "    <tr>\n",
       "      <th>10</th>\n",
       "      <td>3900</td>\n",
       "      <td>847.876712</td>\n",
       "    </tr>\n",
       "  </tbody>\n",
       "</table>\n",
       "</div>"
      ],
      "text/plain": [
       "    area       price\n",
       "0   2700  611.986301\n",
       "1   2800  631.643836\n",
       "2   2900  651.301370\n",
       "3   3000  670.958904\n",
       "4   3100  690.616438\n",
       "5   3300  729.931507\n",
       "6   3400  749.589041\n",
       "7   3500  769.246575\n",
       "8   3700  808.561644\n",
       "9   3800  828.219178\n",
       "10  3900  847.876712"
      ]
     },
     "execution_count": 15,
     "metadata": {},
     "output_type": "execute_result"
    }
   ],
   "source": [
    "df2[\"price\"] = new_prediction\n",
    "df2"
   ]
  },
  {
   "cell_type": "code",
   "execution_count": 16,
   "id": "acb706c9-5f5f-4f35-b92b-60ce912b5196",
   "metadata": {},
   "outputs": [],
   "source": [
    "# update `1-home-price-predict.csv` document\n",
    "\n",
    "# df2.to_csv(\"home_price_predict.csv\", index=False)"
   ]
  },
  {
   "cell_type": "code",
   "execution_count": 17,
   "id": "dfc5a731-ad57-4632-8408-ba296cece7a8",
   "metadata": {},
   "outputs": [],
   "source": [
    "plt.figure()\n",
    "plt.title(\"House price plotted against house size\")\n",
    "plt.xlabel(\"House area (square feet)\")\n",
    "plt.ylabel(\"House price (*1000 USD)\")\n",
    "plt.grid(True)\n",
    "\n",
    "plt.scatter(df1.area, df1.price, color=\"red\", marker='o', label=\"Training data\")\n",
    "plt.plot(df1.area, model.predict(df1[[\"area\"]].values), color=\"g\", label=\"Linear regression\")\n",
    "plt.scatter(df2.area, df2.price, color=\"blue\", marker='o', label=\"Prediction data\")\n",
    "plt.legend()\n",
    "plt.tight_layout()\n",
    "plt.savefig(\"./1-home-price-predicted.png\")"
   ]
  },
  {
   "cell_type": "markdown",
   "id": "3fc60a67-b68f-4365-b7f7-6f0849f64860",
   "metadata": {},
   "source": [
    "## 4. Save model parameters"
   ]
  },
  {
   "cell_type": "markdown",
   "id": "ad969450-edbc-42bc-a0b6-78f230f5b127",
   "metadata": {},
   "source": [
    "### 4.1 Using pickle"
   ]
  },
  {
   "cell_type": "code",
   "execution_count": 18,
   "id": "415fdd9c-28fe-48ed-8ed1-ff51f94f16ef",
   "metadata": {},
   "outputs": [],
   "source": [
    "import pickle\n",
    "\n",
    "# this is binary document\n",
    "with open(\"1-home-price-pickle\", \"wb\") as fout:\n",
    "    pickle.dump(model, fout)"
   ]
  },
  {
   "cell_type": "code",
   "execution_count": 19,
   "id": "ff8da2bd-94d0-4e1f-9c9c-3f0e84fb7043",
   "metadata": {},
   "outputs": [],
   "source": [
    "# reuse this model\n",
    "with open(\"1-home-price-pickle\", \"rb\") as fin:\n",
    "    new_model = pickle.load(fin)"
   ]
  },
  {
   "cell_type": "code",
   "execution_count": 20,
   "id": "ffa0c13f-0a74-4e12-b54e-d2fafbc9d70a",
   "metadata": {},
   "outputs": [
    {
     "name": "stdout",
     "output_type": "stream",
     "text": [
      "LinearRegression() [0.19657534] 81.23287671232868\n"
     ]
    }
   ],
   "source": [
    "print(new_model, model.coef_, model.intercept_)"
   ]
  },
  {
   "cell_type": "code",
   "execution_count": 21,
   "id": "0f015de9-0642-47a8-9cf1-89f2c927a731",
   "metadata": {},
   "outputs": [
    {
     "data": {
      "text/plain": [
       "array([ 670.95890411, 1064.10958904])"
      ]
     },
     "execution_count": 21,
     "metadata": {},
     "output_type": "execute_result"
    }
   ],
   "source": [
    "# make new prediction (as shown in df2 above)\n",
    "\n",
    "new_model.predict([[3000], [5000]])"
   ]
  },
  {
   "cell_type": "code",
   "execution_count": 22,
   "id": "f6b51918-2357-450b-b7a2-7f56154acbf1",
   "metadata": {},
   "outputs": [],
   "source": [
    "# now you can share the `1-model-pickle` file to colleagues"
   ]
  },
  {
   "cell_type": "code",
   "execution_count": 23,
   "id": "b5ef62f0-1869-4766-b7d7-d159726622c4",
   "metadata": {},
   "outputs": [
    {
     "name": "stdout",
     "output_type": "stream",
     "text": [
      "LinearRegression() [0.19657534] 81.23287671232868\n"
     ]
    }
   ],
   "source": [
    "fout = pickle.dumps(model)\n",
    "model2 = pickle.loads(fout)\n",
    "print(model2, model2.coef_, model2.intercept_)"
   ]
  },
  {
   "cell_type": "markdown",
   "id": "a4fb4f7b-ea6f-4982-9ef7-a5eb1c65c371",
   "metadata": {},
   "source": [
    "### 4.2 Using `joblib` in sklearn"
   ]
  },
  {
   "cell_type": "code",
   "execution_count": 24,
   "id": "28e0b189-4686-4cb7-a9ba-4c42b1f64fb8",
   "metadata": {},
   "outputs": [],
   "source": [
    "# joblib is more efficient than pickle objects \n",
    "# that carry large numpy arrays internally as is often the case for \n",
    "# fitted scikit-learn estimators\n",
    "\n",
    "import joblib"
   ]
  },
  {
   "cell_type": "code",
   "execution_count": 25,
   "id": "24a8968e-58d1-474d-b457-b338c78e1353",
   "metadata": {},
   "outputs": [
    {
     "data": {
      "text/plain": [
       "['1-home-price-joblib.pkl']"
      ]
     },
     "execution_count": 25,
     "metadata": {},
     "output_type": "execute_result"
    }
   ],
   "source": [
    "joblib.dump(model, \"1-home-price-joblib.pkl\")"
   ]
  },
  {
   "cell_type": "code",
   "execution_count": 26,
   "id": "545345cb-4c0f-47a6-b517-70bc4e987edf",
   "metadata": {},
   "outputs": [],
   "source": [
    "model_joblib = joblib.load(\"1-home-price-joblib.pkl\")"
   ]
  },
  {
   "cell_type": "code",
   "execution_count": 27,
   "id": "02736e1b-6392-4f91-8638-a105dfd79f0e",
   "metadata": {},
   "outputs": [
    {
     "name": "stdout",
     "output_type": "stream",
     "text": [
      "LinearRegression() [0.19657534] 81.23287671232868\n"
     ]
    }
   ],
   "source": [
    "print(model_joblib, model_joblib.coef_, model_joblib.intercept_)"
   ]
  },
  {
   "cell_type": "markdown",
   "id": "720e11a4-7e7c-4f2c-a77f-bd9b5c4e32fc",
   "metadata": {},
   "source": [
    "## 5. Evaluation of multiple model parameters"
   ]
  },
  {
   "cell_type": "markdown",
   "id": "d909d6b6-7941-490b-bbca-c9f7980834ee",
   "metadata": {},
   "source": [
    "### 5.1 Plot of 3 trial models"
   ]
  },
  {
   "cell_type": "code",
   "execution_count": 28,
   "id": "74fe1faa-b096-4753-8e6a-4bd99c8c6a2f",
   "metadata": {},
   "outputs": [],
   "source": [
    "# figure with multiple model parameters\n",
    "\n",
    "plt.figure()\n",
    "plt.title(\"House price plotted against house size\")\n",
    "plt.xlabel(\"House area (square feet)\")\n",
    "plt.ylabel(\"House price (*1000 USD)\")\n",
    "plt.grid(True)\n",
    "\n",
    "plt.scatter(df1.area, df1.price, color=\"red\", marker='o', label=\"Training data\")\n",
    "plt.plot(df1.area, model.predict(df1[[\"area\"]].values), color=\"g\", label=\"Linear regression model\")\n",
    "\n",
    "plt.plot(df1.area, df1.area*0.2050 + 81.0, 'b--', label=\"Model 1\")\n",
    "plt.plot(df1.area, df1.area*0.1850 + 81.0, 'k--', label=\"Model 2\")\n",
    "plt.plot(df1.area, df1.area*0.1050 + 390., 'c--', label=\"Model 3\")\n",
    "\n",
    "plt.legend()\n",
    "plt.tight_layout()\n",
    "\n",
    "plt.savefig(\"./1-home-price-trial-models.png\")"
   ]
  },
  {
   "cell_type": "code",
   "execution_count": 29,
   "id": "91f81ab0-6ab3-4be7-b875-daab4924e9e1",
   "metadata": {},
   "outputs": [],
   "source": [
    "# `residuals` for `cost function`\n",
    "\n",
    "plt.figure()\n",
    "plt.title(\"House price plotted against house size\")\n",
    "plt.xlabel(\"House area (square feet)\")\n",
    "plt.ylabel(\"House price (*1000 USD)\")\n",
    "# plt.grid(True)\n",
    "\n",
    "residuals = model.predict(df1[[\"area\"]].values)\n",
    "\n",
    "plt.scatter(df1.area, df1.price, color=\"red\", marker='o', label=\"Training data\")\n",
    "plt.plot(df1.area, model.predict(df1[[\"area\"]].values), color=\"g\", label=\"Linear regression model\")\n",
    "plt.vlines(df1.area, ymin=residuals, ymax=df1.price, color='black', linewidth=2, linestyles='dashed')\n",
    "\n",
    "plt.legend()\n",
    "plt.tight_layout()\n",
    "# plt.show()\n",
    "plt.savefig(\"./1-home-price-cost-func.png\")"
   ]
  },
  {
   "cell_type": "markdown",
   "id": "63779297-7f51-4615-a6f4-1bf03bc0fdab",
   "metadata": {},
   "source": [
    "### 5.2 Residual sum of squares (RSS) for all models"
   ]
  },
  {
   "cell_type": "code",
   "execution_count": 30,
   "id": "bc3b582d-78a1-4281-a66e-c750fb55b9c4",
   "metadata": {},
   "outputs": [
    {
     "name": "stdout",
     "output_type": "stream",
     "text": [
      "The RSS for linear regression model is 197.26.\n",
      "The RSS for trial model 1 is 964.60.\n",
      "The RSS for trial model 2 is 1687.80.\n",
      "The RSS for trial model 3 is 2226.80.\n"
     ]
    },
    {
     "name": "stderr",
     "output_type": "stream",
     "text": [
      "/opt/anaconda3/lib/python3.12/site-packages/sklearn/base.py:486: UserWarning: X has feature names, but LinearRegression was fitted without feature names\n",
      "  warnings.warn(\n"
     ]
    }
   ],
   "source": [
    "ss_res_linear_model = np.mean((model.predict(df1[[\"area\"]]) - df1.price)**2)\n",
    "ss_res_model_1 = np.mean((df1.area*0.2050 + 81.0 - df1.price)**2)\n",
    "ss_res_model_2 = np.mean((df1.area*0.1850 + 81.0 - df1.price)**2)\n",
    "ss_res_model_3 = np.mean((df1.area*0.1050 + 390. - df1.price)**2)\n",
    "\n",
    "print(\"The RSS for linear regression model is %.2f.\" % ss_res_linear_model)\n",
    "print(\"The RSS for trial model 1 is %.2f.\" % ss_res_model_1)\n",
    "print(\"The RSS for trial model 2 is %.2f.\" % ss_res_model_2)\n",
    "print(\"The RSS for trial model 3 is %.2f.\" % ss_res_model_3)"
   ]
  },
  {
   "cell_type": "markdown",
   "id": "8befa73f-bfd8-4d46-a9de-d1d168216e28",
   "metadata": {},
   "source": [
    "## 6. Solving ordinary least squares (OLS)"
   ]
  },
  {
   "cell_type": "markdown",
   "id": "9cf8a4ab-eb01-4697-a0ca-895a71c514bc",
   "metadata": {},
   "source": [
    "### 6.1 Calculate **variance of x**"
   ]
  },
  {
   "cell_type": "markdown",
   "id": "c50b9922-ea32-40a1-a331-41da58984238",
   "metadata": {},
   "source": [
    "Equation $var(x) = \\frac{\\sum_{i=1}^n (x_i - \\bar{x})^2}{n-1}$\n",
    "- $\\bar{x}$ is the mean of x\n",
    "- $x_i$ is value of x for $i^{th}$ training instance\n",
    "- $n$ is number of training instances"
   ]
  },
  {
   "cell_type": "code",
   "execution_count": 31,
   "id": "dff03e2b-4031-4764-a523-18fd440bfae6",
   "metadata": {},
   "outputs": [
    {
     "name": "stdout",
     "output_type": "stream",
     "text": [
      "X_bar =  3280.0 \n",
      "Variance = 292000.0\n"
     ]
    }
   ],
   "source": [
    "x = df1.area\n",
    "x_bar = x.mean()\n",
    "variance = ((x - x_bar)**2).sum() / (x.shape[0] - 1)\n",
    "print(\"X_bar = \", x_bar, \"\\nVariance =\", variance)"
   ]
  },
  {
   "cell_type": "code",
   "execution_count": 32,
   "id": "9c03ff96-8569-44bf-855b-79a367f77d20",
   "metadata": {},
   "outputs": [
    {
     "name": "stdout",
     "output_type": "stream",
     "text": [
      "Variance = 292000.0 (Calculated from Numpy).\n"
     ]
    }
   ],
   "source": [
    "# Using `var` in numpy for calculating variance\n",
    "# keyword parameter `ddof=1` is used to set Bessel's correction to calculate sample variance\n",
    "# why we substract 1 from number of training instances when calculating sample variance?\n",
    "\n",
    "print(\"Variance =\", np.var(x, ddof=1), \"(Calculated from Numpy).\")"
   ]
  },
  {
   "cell_type": "markdown",
   "id": "5d28914c-7182-463e-97c3-afb7ecd109c6",
   "metadata": {},
   "source": [
    "### 6.2 Calculate Covariance"
   ]
  },
  {
   "cell_type": "markdown",
   "id": "c4e2d887-b130-4b8e-ae8b-087ba7e91da6",
   "metadata": {},
   "source": [
    "Formula $cov(x,y) = \\frac{\\sum_{i=1}^n (x_i - \\bar{x})(y_i - \\bar{y})}{n-1}$\n",
    "- $\\bar{y}$ is the mean of y\n",
    "- $y_i$ is value of $i^th$ training instance"
   ]
  },
  {
   "cell_type": "code",
   "execution_count": 33,
   "id": "899e2d69-ec37-4b6a-8322-938dfcaed39c",
   "metadata": {},
   "outputs": [
    {
     "name": "stdout",
     "output_type": "stream",
     "text": [
      "Y_bar =  726.0 \n",
      "Covariance = 57400.0\n"
     ]
    }
   ],
   "source": [
    "y = df1.price\n",
    "y_bar = np.array(y).mean()\n",
    "covariance = np.multiply((x - x_bar).transpose(), y - y_bar).sum() / (x.shape[0] - 1)\n",
    "print(\"Y_bar = \", y_bar, \"\\nCovariance =\", covariance)"
   ]
  },
  {
   "cell_type": "code",
   "execution_count": 34,
   "id": "8264365e-9707-4173-8ee5-4b15bb6680a2",
   "metadata": {},
   "outputs": [
    {
     "name": "stdout",
     "output_type": "stream",
     "text": [
      "Covariance = 57400.0 (Calculated from Numpy).\n"
     ]
    }
   ],
   "source": [
    "# Using `cov` in Numpy for calculating covariance\n",
    "\n",
    "print(\"Covariance =\", np.cov(x.T, y)[0][1], \"(Calculated from Numpy).\")"
   ]
  },
  {
   "cell_type": "markdown",
   "id": "1836e29f-4afa-4f04-bce5-ed441e3e5442",
   "metadata": {},
   "source": [
    "### 6.3 Cal `w` and `b`"
   ]
  },
  {
   "cell_type": "markdown",
   "id": "bd1aa027-5112-4f65-9655-ad3b1a8044b7",
   "metadata": {},
   "source": [
    "$w = \\frac{cov(x,y)}{var(x)}$ \n",
    "\n",
    "$b = \\bar{y} - w*\\bar{x}$"
   ]
  },
  {
   "cell_type": "code",
   "execution_count": 35,
   "id": "099a2b71-e803-4fd6-a76f-843eeabe8818",
   "metadata": {},
   "outputs": [
    {
     "name": "stdout",
     "output_type": "stream",
     "text": [
      "w = 0.19657534246575342\n",
      "b = 81.23287671232879\n",
      "\n",
      "Compare with model parameters:\n",
      "w = 0.19657534246575345\n",
      "b = 81.23287671232868\n"
     ]
    }
   ],
   "source": [
    "print(\"w =\", covariance / variance)\n",
    "print(\"b =\", y_bar - covariance / variance * x_bar)\n",
    "\n",
    "print(\"\\nCompare with model parameters:\")\n",
    "print(\"w =\", model.coef_[0])\n",
    "print(\"b =\", model.intercept_)"
   ]
  },
  {
   "cell_type": "markdown",
   "id": "fb2ad27e-3824-4a13-8586-1566fcfcfb94",
   "metadata": {},
   "source": [
    "## 7. Evaluating model"
   ]
  },
  {
   "cell_type": "code",
   "execution_count": 36,
   "id": "fefb62f2-06de-4dfb-a22b-76b5b0388731",
   "metadata": {},
   "outputs": [],
   "source": [
    "# model.fit(x,y) \n",
    "# x can be `x_train` and `x_test`"
   ]
  }
 ],
 "metadata": {
  "kernelspec": {
   "display_name": "Python 3 (ipykernel)",
   "language": "python",
   "name": "python3"
  },
  "language_info": {
   "codemirror_mode": {
    "name": "ipython",
    "version": 3
   },
   "file_extension": ".py",
   "mimetype": "text/x-python",
   "name": "python",
   "nbconvert_exporter": "python",
   "pygments_lexer": "ipython3",
   "version": "3.12.7"
  }
 },
 "nbformat": 4,
 "nbformat_minor": 5
}
