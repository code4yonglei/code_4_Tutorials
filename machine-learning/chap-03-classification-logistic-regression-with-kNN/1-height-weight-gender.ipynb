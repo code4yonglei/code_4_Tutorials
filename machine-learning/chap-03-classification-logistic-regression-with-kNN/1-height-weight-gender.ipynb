{
 "cells": [
  {
   "cell_type": "code",
   "execution_count": 1,
   "id": "a91ad7ce-ac09-4637-8e7f-75756b975960",
   "metadata": {},
   "outputs": [],
   "source": [
    "import numpy as np\n",
    "import pandas as pd\n",
    "import matplotlib.pyplot as plt\n",
    "import seaborn as sns"
   ]
  },
  {
   "cell_type": "markdown",
   "id": "91257b61-e350-4f19-970d-476ed81363d2",
   "metadata": {},
   "source": [
    "## 1. Data visualization"
   ]
  },
  {
   "cell_type": "code",
   "execution_count": 2,
   "id": "713f45d6-e282-42ed-9b5e-0a107257fbd7",
   "metadata": {},
   "outputs": [],
   "source": [
    "# manually generate array data\n",
    "x_train = np.array([\n",
    "    [158, 64],\n",
    "    [170, 86],\n",
    "    [183, 84],\n",
    "    [191, 80],\n",
    "    [155, 49],\n",
    "    [163, 59],\n",
    "    [180, 67],\n",
    "    [158, 54],\n",
    "    [170, 67]\n",
    "])\n",
    "y_train = ['male', 'male', 'male', 'male', 'female', 'female', 'female', 'female', 'female']"
   ]
  },
  {
   "cell_type": "code",
   "execution_count": 3,
   "id": "22cee1ef-40fe-437e-8a6b-0cd6652dbe3e",
   "metadata": {},
   "outputs": [
    {
     "data": {
      "image/png": "[encoded data removed]",
      "text/plain": [
       "<Figure size 640x480 with 1 Axes>"
      ]
     },
     "metadata": {},
     "output_type": "display_data"
    }
   ],
   "source": [
    "plt.title('Human heights and weights by gender')\n",
    "plt.xlabel('Height in cm')\n",
    "plt.ylabel('Weight in kg')\n",
    "\n",
    "for i, x in enumerate(x_train):\n",
    "    plt.scatter(x[0], x[1], c='g' if y_train[i] == 'female' else 'r', marker=\"o\", s=100)\n",
    "\n",
    "plt.grid(True)\n",
    "plt.show()"
   ]
  },
  {
   "cell_type": "code",
   "execution_count": 4,
   "id": "80884bd7-6a3a-4223-897a-68fc4d8f1ca8",
   "metadata": {},
   "outputs": [
    {
     "data": {
      "text/html": [
       "<div>\n",
       "<style scoped>\n",
       "    .dataframe tbody tr th:only-of-type {\n",
       "        vertical-align: middle;\n",
       "    }\n",
       "\n",
       "    .dataframe tbody tr th {\n",
       "        vertical-align: top;\n",
       "    }\n",
       "\n",
       "    .dataframe thead th {\n",
       "        text-align: right;\n",
       "    }\n",
       "</style>\n",
       "<table border=\"1\" class=\"dataframe\">\n",
       "  <thead>\n",
       "    <tr style=\"text-align: right;\">\n",
       "      <th></th>\n",
       "      <th>Height</th>\n",
       "      <th>Weight</th>\n",
       "      <th>Gender</th>\n",
       "    </tr>\n",
       "  </thead>\n",
       "  <tbody>\n",
       "    <tr>\n",
       "      <th>0</th>\n",
       "      <td>158</td>\n",
       "      <td>64</td>\n",
       "      <td>male</td>\n",
       "    </tr>\n",
       "    <tr>\n",
       "      <th>1</th>\n",
       "      <td>170</td>\n",
       "      <td>86</td>\n",
       "      <td>male</td>\n",
       "    </tr>\n",
       "    <tr>\n",
       "      <th>2</th>\n",
       "      <td>183</td>\n",
       "      <td>84</td>\n",
       "      <td>male</td>\n",
       "    </tr>\n",
       "    <tr>\n",
       "      <th>3</th>\n",
       "      <td>191</td>\n",
       "      <td>80</td>\n",
       "      <td>male</td>\n",
       "    </tr>\n",
       "    <tr>\n",
       "      <th>4</th>\n",
       "      <td>155</td>\n",
       "      <td>49</td>\n",
       "      <td>female</td>\n",
       "    </tr>\n",
       "    <tr>\n",
       "      <th>5</th>\n",
       "      <td>163</td>\n",
       "      <td>59</td>\n",
       "      <td>female</td>\n",
       "    </tr>\n",
       "    <tr>\n",
       "      <th>6</th>\n",
       "      <td>180</td>\n",
       "      <td>67</td>\n",
       "      <td>female</td>\n",
       "    </tr>\n",
       "    <tr>\n",
       "      <th>7</th>\n",
       "      <td>158</td>\n",
       "      <td>54</td>\n",
       "      <td>female</td>\n",
       "    </tr>\n",
       "    <tr>\n",
       "      <th>8</th>\n",
       "      <td>170</td>\n",
       "      <td>67</td>\n",
       "      <td>female</td>\n",
       "    </tr>\n",
       "  </tbody>\n",
       "</table>\n",
       "</div>"
      ],
      "text/plain": [
       "   Height  Weight  Gender\n",
       "0     158      64    male\n",
       "1     170      86    male\n",
       "2     183      84    male\n",
       "3     191      80    male\n",
       "4     155      49  female\n",
       "5     163      59  female\n",
       "6     180      67  female\n",
       "7     158      54  female\n",
       "8     170      67  female"
      ]
     },
     "execution_count": 4,
     "metadata": {},
     "output_type": "execute_result"
    }
   ],
   "source": [
    "# read data from csv file\n",
    "df1 = pd.read_csv(\"1-height-weight-gender-train.csv\")\n",
    "df1"
   ]
  },
  {
   "cell_type": "code",
   "execution_count": 5,
   "id": "95810e1d-6fca-4591-aa66-c63d7ca7e3d2",
   "metadata": {},
   "outputs": [
    {
     "data": {
      "text/plain": [
       "array([[158,  64],\n",
       "       [170,  86],\n",
       "       [183,  84],\n",
       "       [191,  80],\n",
       "       [155,  49],\n",
       "       [163,  59],\n",
       "       [180,  67],\n",
       "       [158,  54],\n",
       "       [170,  67]])"
      ]
     },
     "execution_count": 5,
     "metadata": {},
     "output_type": "execute_result"
    }
   ],
   "source": [
    "x_train = np.array(df1[[\"Height\", \"Weight\"]])\n",
    "x_train"
   ]
  },
  {
   "cell_type": "code",
   "execution_count": 6,
   "id": "0a6123c2-dc75-4484-ae95-4cbfa3843fab",
   "metadata": {},
   "outputs": [
    {
     "data": {
      "text/plain": [
       "array([['male', 'male', 'male', 'male', 'female', 'female', 'female',\n",
       "        'female', 'female']], dtype=object)"
      ]
     },
     "execution_count": 6,
     "metadata": {},
     "output_type": "execute_result"
    }
   ],
   "source": [
    "y_train = np.array(df1[[\"Gender\"]]).T\n",
    "y_train"
   ]
  },
  {
   "cell_type": "code",
   "execution_count": 7,
   "id": "6cf081fd-1666-4450-be39-2a534262c30b",
   "metadata": {},
   "outputs": [
    {
     "data": {
      "image/png": "[encoded data removed]",
      "text/plain": [
       "<Figure size 640x480 with 1 Axes>"
      ]
     },
     "metadata": {},
     "output_type": "display_data"
    }
   ],
   "source": [
    "plt.figure()\n",
    "plt.title('Human heights and weights by gender')\n",
    "plt.xlabel('Height in cm')\n",
    "plt.ylabel('Weight in kg')\n",
    "\n",
    "for i, x in enumerate(x_train):\n",
    "    plt.scatter(x[0], x[1], c='g' if y_train[0][i] == 'female' else 'r', marker=\"o\", s=200)\n",
    "\n",
    "plt.grid()\n",
    "plt.tight_layout()\n",
    "plt.savefig(\"1-height-weight-gender-plot.png\")"
   ]
  },
  {
   "cell_type": "markdown",
   "id": "895e391f-8a63-4434-87b3-ed3149074d0c",
   "metadata": {},
   "source": [
    "## 2. Prediction using Euclidean distancee"
   ]
  },
  {
   "cell_type": "code",
   "execution_count": 8,
   "id": "d5f9c16b-4989-46d4-ac8c-a757b1f988ae",
   "metadata": {},
   "outputs": [
    {
     "name": "stdout",
     "output_type": "stream",
     "text": [
      "X_diff = [   9  225  784 1296    0   64  625    9  225]\n",
      "Y_diff = [ 36 256 196 100 441 121   9 256   9]\n"
     ]
    },
    {
     "data": {
      "text/plain": [
       "array([[ 6.70820393],\n",
       "       [21.9317122 ],\n",
       "       [31.30495168],\n",
       "       [37.36308338],\n",
       "       [21.        ],\n",
       "       [13.60147051],\n",
       "       [25.17935662],\n",
       "       [16.2788206 ],\n",
       "       [15.29705854]])"
      ]
     },
     "execution_count": 8,
     "metadata": {},
     "output_type": "execute_result"
    }
   ],
   "source": [
    "# test point (155 cm, 70 kg) as a reference\n",
    "# cal distance between test point and all training instances in dataset\n",
    "\n",
    "x_diff = (x_train[:, 0] - 155)**2\n",
    "y_diff = (x_train[:, 1] - 70)**2\n",
    "print(\"X_diff =\", x_diff)\n",
    "print(\"Y_diff =\", y_diff)\n",
    "\n",
    "dist_test_train_points = np.sqrt(x_diff + y_diff).reshape(-1, 1)\n",
    "dist_test_train_points"
   ]
  },
  {
   "cell_type": "code",
   "execution_count": 9,
   "id": "8392063c-26b2-4f26-a76c-c624b7241148",
   "metadata": {},
   "outputs": [
    {
     "data": {
      "text/html": [
       "<div>\n",
       "<style scoped>\n",
       "    .dataframe tbody tr th:only-of-type {\n",
       "        vertical-align: middle;\n",
       "    }\n",
       "\n",
       "    .dataframe tbody tr th {\n",
       "        vertical-align: top;\n",
       "    }\n",
       "\n",
       "    .dataframe thead th {\n",
       "        text-align: right;\n",
       "    }\n",
       "</style>\n",
       "<table border=\"1\" class=\"dataframe\">\n",
       "  <thead>\n",
       "    <tr style=\"text-align: right;\">\n",
       "      <th></th>\n",
       "      <th>Distance</th>\n",
       "    </tr>\n",
       "  </thead>\n",
       "  <tbody>\n",
       "    <tr>\n",
       "      <th>0</th>\n",
       "      <td>6.708204</td>\n",
       "    </tr>\n",
       "    <tr>\n",
       "      <th>1</th>\n",
       "      <td>21.931712</td>\n",
       "    </tr>\n",
       "    <tr>\n",
       "      <th>2</th>\n",
       "      <td>31.304952</td>\n",
       "    </tr>\n",
       "    <tr>\n",
       "      <th>3</th>\n",
       "      <td>37.363083</td>\n",
       "    </tr>\n",
       "    <tr>\n",
       "      <th>4</th>\n",
       "      <td>21.000000</td>\n",
       "    </tr>\n",
       "    <tr>\n",
       "      <th>5</th>\n",
       "      <td>13.601471</td>\n",
       "    </tr>\n",
       "    <tr>\n",
       "      <th>6</th>\n",
       "      <td>25.179357</td>\n",
       "    </tr>\n",
       "    <tr>\n",
       "      <th>7</th>\n",
       "      <td>16.278821</td>\n",
       "    </tr>\n",
       "    <tr>\n",
       "      <th>8</th>\n",
       "      <td>15.297059</td>\n",
       "    </tr>\n",
       "  </tbody>\n",
       "</table>\n",
       "</div>"
      ],
      "text/plain": [
       "    Distance\n",
       "0   6.708204\n",
       "1  21.931712\n",
       "2  31.304952\n",
       "3  37.363083\n",
       "4  21.000000\n",
       "5  13.601471\n",
       "6  25.179357\n",
       "7  16.278821\n",
       "8  15.297059"
      ]
     },
     "execution_count": 9,
     "metadata": {},
     "output_type": "execute_result"
    }
   ],
   "source": [
    "# transform an array to a dataframe\n",
    "\n",
    "df_dist_test_train_points = pd.DataFrame({'Distance': dist_test_train_points[:, 0]})\n",
    "df_dist_test_train_points"
   ]
  },
  {
   "cell_type": "code",
   "execution_count": 10,
   "id": "a8ac540c-b8b6-41d5-bbf0-f39f9d7cd107",
   "metadata": {},
   "outputs": [
    {
     "data": {
      "text/html": [
       "<div>\n",
       "<style scoped>\n",
       "    .dataframe tbody tr th:only-of-type {\n",
       "        vertical-align: middle;\n",
       "    }\n",
       "\n",
       "    .dataframe tbody tr th {\n",
       "        vertical-align: top;\n",
       "    }\n",
       "\n",
       "    .dataframe thead th {\n",
       "        text-align: right;\n",
       "    }\n",
       "</style>\n",
       "<table border=\"1\" class=\"dataframe\">\n",
       "  <thead>\n",
       "    <tr style=\"text-align: right;\">\n",
       "      <th></th>\n",
       "      <th>Height</th>\n",
       "      <th>Weight</th>\n",
       "      <th>Gender</th>\n",
       "      <th>Distance</th>\n",
       "    </tr>\n",
       "  </thead>\n",
       "  <tbody>\n",
       "    <tr>\n",
       "      <th>0</th>\n",
       "      <td>158</td>\n",
       "      <td>64</td>\n",
       "      <td>male</td>\n",
       "      <td>6.708204</td>\n",
       "    </tr>\n",
       "    <tr>\n",
       "      <th>1</th>\n",
       "      <td>170</td>\n",
       "      <td>86</td>\n",
       "      <td>male</td>\n",
       "      <td>21.931712</td>\n",
       "    </tr>\n",
       "    <tr>\n",
       "      <th>2</th>\n",
       "      <td>183</td>\n",
       "      <td>84</td>\n",
       "      <td>male</td>\n",
       "      <td>31.304952</td>\n",
       "    </tr>\n",
       "    <tr>\n",
       "      <th>3</th>\n",
       "      <td>191</td>\n",
       "      <td>80</td>\n",
       "      <td>male</td>\n",
       "      <td>37.363083</td>\n",
       "    </tr>\n",
       "    <tr>\n",
       "      <th>4</th>\n",
       "      <td>155</td>\n",
       "      <td>49</td>\n",
       "      <td>female</td>\n",
       "      <td>21.000000</td>\n",
       "    </tr>\n",
       "    <tr>\n",
       "      <th>5</th>\n",
       "      <td>163</td>\n",
       "      <td>59</td>\n",
       "      <td>female</td>\n",
       "      <td>13.601471</td>\n",
       "    </tr>\n",
       "    <tr>\n",
       "      <th>6</th>\n",
       "      <td>180</td>\n",
       "      <td>67</td>\n",
       "      <td>female</td>\n",
       "      <td>25.179357</td>\n",
       "    </tr>\n",
       "    <tr>\n",
       "      <th>7</th>\n",
       "      <td>158</td>\n",
       "      <td>54</td>\n",
       "      <td>female</td>\n",
       "      <td>16.278821</td>\n",
       "    </tr>\n",
       "    <tr>\n",
       "      <th>8</th>\n",
       "      <td>170</td>\n",
       "      <td>67</td>\n",
       "      <td>female</td>\n",
       "      <td>15.297059</td>\n",
       "    </tr>\n",
       "  </tbody>\n",
       "</table>\n",
       "</div>"
      ],
      "text/plain": [
       "   Height  Weight  Gender   Distance\n",
       "0     158      64    male   6.708204\n",
       "1     170      86    male  21.931712\n",
       "2     183      84    male  31.304952\n",
       "3     191      80    male  37.363083\n",
       "4     155      49  female  21.000000\n",
       "5     163      59  female  13.601471\n",
       "6     180      67  female  25.179357\n",
       "7     158      54  female  16.278821\n",
       "8     170      67  female  15.297059"
      ]
     },
     "execution_count": 10,
     "metadata": {},
     "output_type": "execute_result"
    }
   ],
   "source": [
    "# concatate distance data to train dataframe\n",
    "\n",
    "df2 = pd.concat([df1, df_dist_test_train_points], axis=\"columns\")\n",
    "df2"
   ]
  },
  {
   "cell_type": "code",
   "execution_count": 11,
   "id": "7c8bf5a6-5828-4e19-b07c-fd75244ee39b",
   "metadata": {},
   "outputs": [
    {
     "data": {
      "text/plain": [
       "array([[155,  70]])"
      ]
     },
     "execution_count": 11,
     "metadata": {},
     "output_type": "execute_result"
    }
   ],
   "source": [
    "# test point (150 cm and 70 kg)\n",
    "test_point = np.array([[155, 70]])\n",
    "test_point"
   ]
  },
  {
   "cell_type": "code",
   "execution_count": 12,
   "id": "1fc99bcd-f839-4051-845e-390f1b66d641",
   "metadata": {},
   "outputs": [
    {
     "data": {
      "text/plain": [
       "array([ 6.70820393, 21.9317122 , 31.30495168, 37.36308338, 21.        ,\n",
       "       13.60147051, 25.17935662, 16.2788206 , 15.29705854])"
      ]
     },
     "execution_count": 12,
     "metadata": {},
     "output_type": "execute_result"
    }
   ],
   "source": [
    "# print(x_train[:, 0])\n",
    "x_distance = np.sqrt(np.sum((x_train - test_point)**2, axis=1))\n",
    "x_distance"
   ]
  },
  {
   "cell_type": "code",
   "execution_count": 13,
   "id": "cf24ee51-fab4-4526-b3b0-59c273e509be",
   "metadata": {},
   "outputs": [
    {
     "name": "stdout",
     "output_type": "stream",
     "text": [
      "X_diff = [   9  225  784 1296    0   64  625    9  225]\n",
      "Y_diff = [ 36 256 196 100 441 121   9 256   9]\n",
      "\n",
      "Distance between test and training points = [ 6.70820393 21.9317122  31.30495168 37.36308338 21.         13.60147051\n",
      " 25.17935662 16.2788206  15.29705854]\n"
     ]
    }
   ],
   "source": [
    "x_diff = (x_train[:, 0] - 155)**2\n",
    "y_diff = (x_train[:, 1] - 70)**2\n",
    "print(\"X_diff =\", x_diff)\n",
    "print(\"Y_diff =\", y_diff)\n",
    "\n",
    "dist_test_train_points = np.sqrt(x_diff + y_diff)\n",
    "print(\"\\nDistance between test and training points =\", dist_test_train_points)"
   ]
  },
  {
   "cell_type": "code",
   "execution_count": 14,
   "id": "45550f41-88e0-4ecc-adcd-1cee4444c0fb",
   "metadata": {},
   "outputs": [
    {
     "data": {
      "text/plain": [
       "array([0, 5, 8, 7, 4, 1, 6, 2, 3])"
      ]
     },
     "execution_count": 14,
     "metadata": {},
     "output_type": "execute_result"
    }
   ],
   "source": [
    "# returns indices that would sort an array\n",
    "\n",
    "dist_test_train_points.argsort() # 0号距离最近，然后是5号，8号"
   ]
  },
  {
   "cell_type": "code",
   "execution_count": 15,
   "id": "88db5aaa-a2d3-463b-8ead-a422ebf6b750",
   "metadata": {},
   "outputs": [
    {
     "data": {
      "text/plain": [
       "array([0, 5, 8])"
      ]
     },
     "execution_count": 15,
     "metadata": {},
     "output_type": "execute_result"
    }
   ],
   "source": [
    "nearest_neighbor_indices = dist_test_train_points.argsort()[:3] # 取三个最近点的id\n",
    "nearest_neighbor_indices"
   ]
  },
  {
   "cell_type": "code",
   "execution_count": 16,
   "id": "0b3c3861-c132-48b4-83ac-88500a411c9c",
   "metadata": {},
   "outputs": [
    {
     "data": {
      "text/plain": [
       "array(['male', 'female', 'female'], dtype=object)"
      ]
     },
     "execution_count": 16,
     "metadata": {},
     "output_type": "execute_result"
    }
   ],
   "source": [
    "nearest_neighbor_genders = np.take(y_train, nearest_neighbor_indices) # 取最近三个点的性别\n",
    "nearest_neighbor_genders"
   ]
  },
  {
   "cell_type": "code",
   "execution_count": 17,
   "id": "48965126-d32c-4a04-b71e-2a82d8d8759e",
   "metadata": {},
   "outputs": [
    {
     "name": "stdout",
     "output_type": "stream",
     "text": [
      "Counter({'female': 2, 'male': 1})\n"
     ]
    },
    {
     "data": {
      "text/plain": [
       "'female'"
      ]
     },
     "execution_count": 17,
     "metadata": {},
     "output_type": "execute_result"
    }
   ],
   "source": [
    "from collections import Counter\n",
    "b = Counter(np.take(y_train, dist_test_train_points.argsort()[:3]))\n",
    "\n",
    "print(b) # 按个数排序，两个女一个男\n",
    "b.most_common(1)[0][0]"
   ]
  },
  {
   "cell_type": "markdown",
   "id": "594290d9-8997-4421-850c-bcb4d1d40696",
   "metadata": {},
   "source": [
    "## 3. Replot of query instance and its three neighbors"
   ]
  },
  {
   "cell_type": "code",
   "execution_count": 18,
   "id": "082cd8c1-fa5f-46d7-a0a9-049bd890abed",
   "metadata": {},
   "outputs": [
    {
     "data": {
      "image/png": "[encoded data removed]",
      "text/plain": [
       "<Figure size 640x480 with 1 Axes>"
      ]
     },
     "metadata": {},
     "output_type": "display_data"
    }
   ],
   "source": [
    "plt.figure()\n",
    "plt.title('Human heights and weights by gender')\n",
    "plt.xlabel('Height in cm')\n",
    "plt.ylabel('Weight in kg')\n",
    "\n",
    "for i, x in enumerate(x_train):\n",
    "    plt.scatter(x[0], x[1], c='g' if y_train[0][i] == 'female' else 'r', marker=\"o\", s=200)\n",
    "\n",
    "plt.scatter(155, 70, s=350, c='b', marker='o') # reference\n",
    "plt.scatter(158, 64, s=350, c='k', marker='x') # 3 neighbors\n",
    "plt.scatter(163, 59, s=350, c='k', marker='x')\n",
    "plt.scatter(170, 67, s=350, c='k', marker='x')\n",
    "\n",
    "plt.grid()\n",
    "plt.tight_layout()\n",
    "\n",
    "plt.savefig(\"1-height-weight-gender-test.png\")"
   ]
  },
  {
   "cell_type": "markdown",
   "id": "b26e967a-9879-4d24-85b7-9ed829882135",
   "metadata": {},
   "source": [
    "## 4. kNN classifier using scikit-learn"
   ]
  },
  {
   "cell_type": "code",
   "execution_count": 19,
   "id": "e3149d3c-2a97-481a-adda-2398ede1d0e2",
   "metadata": {},
   "outputs": [],
   "source": [
    "from sklearn.preprocessing import LabelBinarizer\n",
    "from sklearn.neighbors import KNeighborsClassifier"
   ]
  },
  {
   "cell_type": "markdown",
   "id": "77bd9823-bfc3-4333-9032-c80ca298970a",
   "metadata": {},
   "source": [
    "### 4.1 Prediction for one test point"
   ]
  },
  {
   "cell_type": "code",
   "execution_count": 20,
   "id": "17417acd-1639-41c1-b82d-9a72fdf1df8e",
   "metadata": {},
   "outputs": [
    {
     "data": {
      "text/plain": [
       "array([[1],\n",
       "       [1],\n",
       "       [1],\n",
       "       [1],\n",
       "       [0],\n",
       "       [0],\n",
       "       [0],\n",
       "       [0],\n",
       "       [0]])"
      ]
     },
     "execution_count": 20,
     "metadata": {},
     "output_type": "execute_result"
    }
   ],
   "source": [
    "# 1. `LabelBinarizer` to convert labels (famele and male) to integers\n",
    "lb = LabelBinarizer()\n",
    "y_train_binarized = lb.fit_transform(y_train.tolist()[0]) # np array to python list\n",
    "y_train_binarized # male=1 and female=0"
   ]
  },
  {
   "cell_type": "code",
   "execution_count": 21,
   "id": "4d2c70c5-2dcf-45a5-b21d-59a48d69cb6d",
   "metadata": {},
   "outputs": [
    {
     "data": {
      "text/plain": [
       "0"
      ]
     },
     "execution_count": 21,
     "metadata": {},
     "output_type": "execute_result"
    }
   ],
   "source": [
    "# 2. initialize `KNeighborsClassifier`, call `fit` and `predict`\n",
    "K = 3 # 3 neighbors\n",
    "clf = KNeighborsClassifier(n_neighbors=K)\n",
    "clf.fit(x_train, y_train_binarized.reshape(-1))\n",
    "\n",
    "prediction_binarized = clf.predict(np.array([155, 70]).reshape(1, -1))[0]  \n",
    "prediction_binarized # 0=female, 1=male"
   ]
  },
  {
   "cell_type": "code",
   "execution_count": 22,
   "id": "67880637-5711-40fc-83c4-e407b8c5e154",
   "metadata": {},
   "outputs": [
    {
     "data": {
      "text/plain": [
       "array(['female'], dtype='<U6')"
      ]
     },
     "execution_count": 22,
     "metadata": {},
     "output_type": "execute_result"
    }
   ],
   "source": [
    "# 3. use our fit `LabelBinarizer` to reverse transformation and return a string label\n",
    "predicted_label = lb.inverse_transform(prediction_binarized)\n",
    "predicted_label"
   ]
  },
  {
   "cell_type": "markdown",
   "id": "b9f9dca1-62ed-4f8c-8698-c6bcb4c3011a",
   "metadata": {},
   "source": [
    "### 4.2 Prediction for multiple points"
   ]
  },
  {
   "cell_type": "code",
   "execution_count": 23,
   "id": "ac644600-494d-4aad-8fd1-e03b8cccd172",
   "metadata": {},
   "outputs": [],
   "source": [
    "# manually generate array data\n",
    "\n",
    "x_test = np.array([\n",
    "    [168, 65],\n",
    "    [180, 96],\n",
    "    [160, 52],\n",
    "    [169, 67]\n",
    "])\n",
    "y_test = ['male', 'male', 'female', 'female']"
   ]
  },
  {
   "cell_type": "code",
   "execution_count": 24,
   "id": "d6f2718f-2c3e-42f9-a3b1-e16b3dc0547e",
   "metadata": {},
   "outputs": [
    {
     "name": "stdout",
     "output_type": "stream",
     "text": [
      "Binarized labels: [1 1 0 0]\n",
      "Binarized predictions: [0 1 0 0]\n",
      "Predicted labels: ['female' 'male' 'female' 'female']\n"
     ]
    }
   ],
   "source": [
    "y_test_binarized = lb.transform(y_test)\n",
    "print('Binarized labels: %s' % y_test_binarized.T[0])\n",
    "\n",
    "predictions_binarized = clf.predict(x_test)\n",
    "print('Binarized predictions: %s' % predictions_binarized)\n",
    "\n",
    "# 1st prediction is wrong\n",
    "print('Predicted labels: %s' % lb.inverse_transform(predictions_binarized))"
   ]
  },
  {
   "cell_type": "code",
   "execution_count": 25,
   "id": "e4805272-8b9d-44f2-9de3-8d05b80f5e83",
   "metadata": {},
   "outputs": [
    {
     "name": "stdout",
     "output_type": "stream",
     "text": [
      "Accuracy: 0.75\n"
     ]
    }
   ],
   "source": [
    "# performance measures - accuracy\n",
    "\n",
    "from sklearn.metrics import accuracy_score\n",
    "print('Accuracy: %s' % accuracy_score(y_test_binarized, predictions_binarized))"
   ]
  },
  {
   "cell_type": "code",
   "execution_count": 26,
   "id": "7e40082c-8a2e-4128-9f42-a035c3df8c42",
   "metadata": {},
   "outputs": [
    {
     "name": "stdout",
     "output_type": "stream",
     "text": [
      "Precision: 1.0\n"
     ]
    }
   ],
   "source": [
    "# performance measures - precision\n",
    "\n",
    "from sklearn.metrics import precision_score\n",
    "print('Precision: %s' % precision_score(y_test_binarized, predictions_binarized))"
   ]
  },
  {
   "cell_type": "code",
   "execution_count": 27,
   "id": "2e66a079-e446-42aa-b718-3f77fdb73076",
   "metadata": {},
   "outputs": [
    {
     "name": "stdout",
     "output_type": "stream",
     "text": [
      "Recall: 0.5\n"
     ]
    }
   ],
   "source": [
    "# performance measures - recall\n",
    "\n",
    "from sklearn.metrics import recall_score\n",
    "print('Recall: %s' % recall_score(y_test_binarized, predictions_binarized))"
   ]
  },
  {
   "cell_type": "code",
   "execution_count": 28,
   "id": "e4ba511e-7b34-4eb7-94a2-7fc4a6b39bbe",
   "metadata": {},
   "outputs": [
    {
     "name": "stdout",
     "output_type": "stream",
     "text": [
      "F1 score: 0.6666666666666666\n"
     ]
    }
   ],
   "source": [
    "# performance measure - F1 score or F1 measure\n",
    "\n",
    "from sklearn.metrics import f1_score\n",
    "print('F1 score: %s' % f1_score(y_test_binarized, predictions_binarized))"
   ]
  },
  {
   "cell_type": "code",
   "execution_count": 29,
   "id": "8cf6fa5a-bc84-4a95-87c8-b1fce3b840b7",
   "metadata": {},
   "outputs": [
    {
     "name": "stdout",
     "output_type": "stream",
     "text": [
      "Matthews correlation coefficient: 0.5773502691896258\n"
     ]
    }
   ],
   "source": [
    "# performance measure - Matthews correlation coefficient (MCC)\n",
    "\n",
    "from sklearn.metrics import matthews_corrcoef\n",
    "print('Matthews correlation coefficient: %s' % matthews_corrcoef(y_test_binarized, predictions_binarized))"
   ]
  },
  {
   "cell_type": "code",
   "execution_count": 30,
   "id": "9e8a3395-3f98-4bcc-b722-da41dcddbbef",
   "metadata": {},
   "outputs": [
    {
     "name": "stdout",
     "output_type": "stream",
     "text": [
      "              precision    recall  f1-score   support\n",
      "\n",
      "        male       1.00      0.50      0.67         2\n",
      "\n",
      "   micro avg       1.00      0.50      0.67         2\n",
      "   macro avg       1.00      0.50      0.67         2\n",
      "weighted avg       1.00      0.50      0.67         2\n",
      "\n"
     ]
    }
   ],
   "source": [
    "# `classification_report` function from scikit-learn\n",
    "\n",
    "from sklearn.metrics import classification_report\n",
    "print(classification_report(y_test_binarized, predictions_binarized, target_names=['male'], labels=[1]))"
   ]
  }
 ],
 "metadata": {
  "kernelspec": {
   "display_name": "Python 3 (ipykernel)",
   "language": "python",
   "name": "python3"
  },
  "language_info": {
   "codemirror_mode": {
    "name": "ipython",
    "version": 3
   },
   "file_extension": ".py",
   "mimetype": "text/x-python",
   "name": "python",
   "nbconvert_exporter": "python",
   "pygments_lexer": "ipython3",
   "version": "3.12.7"
  }
 },
 "nbformat": 4,
 "nbformat_minor": 5
}
