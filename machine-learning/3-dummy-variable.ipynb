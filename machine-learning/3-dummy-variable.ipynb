{
 "cells": [
  {
   "cell_type": "markdown",
   "id": "8bab225b-3cbd-429c-959e-bac40d0e7df2",
   "metadata": {},
   "source": [
    "# Tutorial 3 - Dummy Variables & One Hot Encoding"
   ]
  },
  {
   "cell_type": "code",
   "execution_count": 1,
   "id": "20a80d66-b052-4af7-aaf4-e7a0a727bd7d",
   "metadata": {},
   "outputs": [],
   "source": [
    "import numpy as np\n",
    "import pandas as pd"
   ]
  },
  {
   "cell_type": "code",
   "execution_count": 6,
   "id": "8e8697c1-652f-47f0-953e-652ace8f6a1f",
   "metadata": {},
   "outputs": [
    {
     "data": {
      "text/html": [
       "<div>\n",
       "<style scoped>\n",
       "    .dataframe tbody tr th:only-of-type {\n",
       "        vertical-align: middle;\n",
       "    }\n",
       "\n",
       "    .dataframe tbody tr th {\n",
       "        vertical-align: top;\n",
       "    }\n",
       "\n",
       "    .dataframe thead th {\n",
       "        text-align: right;\n",
       "    }\n",
       "</style>\n",
       "<table border=\"1\" class=\"dataframe\">\n",
       "  <thead>\n",
       "    <tr style=\"text-align: right;\">\n",
       "      <th></th>\n",
       "      <th>Car Model</th>\n",
       "      <th>Mileage</th>\n",
       "      <th>Age</th>\n",
       "      <th>Price</th>\n",
       "    </tr>\n",
       "  </thead>\n",
       "  <tbody>\n",
       "    <tr>\n",
       "      <th>0</th>\n",
       "      <td>BMW</td>\n",
       "      <td>69000</td>\n",
       "      <td>6</td>\n",
       "      <td>18000</td>\n",
       "    </tr>\n",
       "    <tr>\n",
       "      <th>1</th>\n",
       "      <td>BMW</td>\n",
       "      <td>35000</td>\n",
       "      <td>3</td>\n",
       "      <td>34000</td>\n",
       "    </tr>\n",
       "    <tr>\n",
       "      <th>2</th>\n",
       "      <td>BMW</td>\n",
       "      <td>57000</td>\n",
       "      <td>5</td>\n",
       "      <td>26100</td>\n",
       "    </tr>\n",
       "    <tr>\n",
       "      <th>3</th>\n",
       "      <td>BMW</td>\n",
       "      <td>22500</td>\n",
       "      <td>2</td>\n",
       "      <td>40000</td>\n",
       "    </tr>\n",
       "    <tr>\n",
       "      <th>4</th>\n",
       "      <td>BMW</td>\n",
       "      <td>46000</td>\n",
       "      <td>4</td>\n",
       "      <td>31500</td>\n",
       "    </tr>\n",
       "    <tr>\n",
       "      <th>5</th>\n",
       "      <td>Volvo</td>\n",
       "      <td>59000</td>\n",
       "      <td>5</td>\n",
       "      <td>29400</td>\n",
       "    </tr>\n",
       "    <tr>\n",
       "      <th>6</th>\n",
       "      <td>Volvo</td>\n",
       "      <td>52000</td>\n",
       "      <td>5</td>\n",
       "      <td>32000</td>\n",
       "    </tr>\n",
       "    <tr>\n",
       "      <th>7</th>\n",
       "      <td>Volvo</td>\n",
       "      <td>72000</td>\n",
       "      <td>6</td>\n",
       "      <td>19300</td>\n",
       "    </tr>\n",
       "    <tr>\n",
       "      <th>8</th>\n",
       "      <td>Volvo</td>\n",
       "      <td>91000</td>\n",
       "      <td>8</td>\n",
       "      <td>12000</td>\n",
       "    </tr>\n",
       "    <tr>\n",
       "      <th>9</th>\n",
       "      <td>Toyota</td>\n",
       "      <td>67000</td>\n",
       "      <td>6</td>\n",
       "      <td>22000</td>\n",
       "    </tr>\n",
       "    <tr>\n",
       "      <th>10</th>\n",
       "      <td>Toyota</td>\n",
       "      <td>83000</td>\n",
       "      <td>7</td>\n",
       "      <td>20000</td>\n",
       "    </tr>\n",
       "    <tr>\n",
       "      <th>11</th>\n",
       "      <td>Toyota</td>\n",
       "      <td>79000</td>\n",
       "      <td>7</td>\n",
       "      <td>21000</td>\n",
       "    </tr>\n",
       "    <tr>\n",
       "      <th>12</th>\n",
       "      <td>Toyota</td>\n",
       "      <td>59000</td>\n",
       "      <td>5</td>\n",
       "      <td>33000</td>\n",
       "    </tr>\n",
       "  </tbody>\n",
       "</table>\n",
       "</div>"
      ],
      "text/plain": [
       "   Car Model  Mileage  Age  Price\n",
       "0        BMW    69000    6  18000\n",
       "1        BMW    35000    3  34000\n",
       "2        BMW    57000    5  26100\n",
       "3        BMW    22500    2  40000\n",
       "4        BMW    46000    4  31500\n",
       "5      Volvo    59000    5  29400\n",
       "6      Volvo    52000    5  32000\n",
       "7      Volvo    72000    6  19300\n",
       "8      Volvo    91000    8  12000\n",
       "9     Toyota    67000    6  22000\n",
       "10    Toyota    83000    7  20000\n",
       "11    Toyota    79000    7  21000\n",
       "12    Toyota    59000    5  33000"
      ]
     },
     "execution_count": 6,
     "metadata": {},
     "output_type": "execute_result"
    }
   ],
   "source": [
    "df1 = pd.read_csv(\"3-car-price.csv\")\n",
    "df1"
   ]
  },
  {
   "cell_type": "code",
   "execution_count": 26,
   "id": "25b50f87-c11f-4130-9c3c-cac09aa548be",
   "metadata": {},
   "outputs": [],
   "source": [
    "# we can assign `bmw=1`, `volvo=2`, and `toyota=3`\n",
    "\n",
    "# or we can use one hot encoding, which is to assgin each column \n",
    "# with binary numbers either 0 or 1"
   ]
  },
  {
   "cell_type": "code",
   "execution_count": 24,
   "id": "758ba144-3c78-45b6-8193-a5ef7e390e24",
   "metadata": {},
   "outputs": [],
   "source": [
    "# In pandas, we use the `get_dummies` function to achieve this.\n",
    "car_model_dummy_columns = pd.get_dummies(df1[\"Car Model\"]) # or `df1.Age`"
   ]
  },
  {
   "cell_type": "code",
   "execution_count": 25,
   "id": "2cb16fc3-752a-418f-98e3-f32b0f3a094d",
   "metadata": {},
   "outputs": [
    {
     "name": "stdout",
     "output_type": "stream",
     "text": [
      "    BMW  Toyota  Volvo\n",
      "0     1       0      0\n",
      "1     1       0      0\n",
      "2     1       0      0\n",
      "3     1       0      0\n",
      "4     1       0      0\n",
      "5     0       0      1\n",
      "6     0       0      1\n",
      "7     0       0      1\n",
      "8     0       0      1\n",
      "9     0       1      0\n",
      "10    0       1      0\n",
      "11    0       1      0\n",
      "12    0       1      0\n"
     ]
    }
   ],
   "source": [
    "print(car_model_dummy_columns)"
   ]
  },
  {
   "cell_type": "code",
   "execution_count": 27,
   "id": "64a44231-a081-48df-adb2-0a6aa1efc96f",
   "metadata": {},
   "outputs": [
    {
     "name": "stdout",
     "output_type": "stream",
     "text": [
      "   Car Model  Mileage  Age  Price  BMW  Toyota  Volvo\n",
      "0        BMW    69000    6  18000    1       0      0\n",
      "1        BMW    35000    3  34000    1       0      0\n",
      "2        BMW    57000    5  26100    1       0      0\n",
      "3        BMW    22500    2  40000    1       0      0\n",
      "4        BMW    46000    4  31500    1       0      0\n",
      "5      Volvo    59000    5  29400    0       0      1\n",
      "6      Volvo    52000    5  32000    0       0      1\n",
      "7      Volvo    72000    6  19300    0       0      1\n",
      "8      Volvo    91000    8  12000    0       0      1\n",
      "9     Toyota    67000    6  22000    0       1      0\n",
      "10    Toyota    83000    7  20000    0       1      0\n",
      "11    Toyota    79000    7  21000    0       1      0\n",
      "12    Toyota    59000    5  33000    0       1      0\n"
     ]
    }
   ],
   "source": [
    "# next we should join the dummy columns to original data set.\n",
    "\n",
    "df2 = pd.concat([df1, car_model_dummy_columns], axis=\"columns\")\n",
    "print(df2)"
   ]
  },
  {
   "cell_type": "code",
   "execution_count": 31,
   "id": "94ad56dd-e158-4bdd-88a0-86e9b4b0a48e",
   "metadata": {},
   "outputs": [
    {
     "name": "stdout",
     "output_type": "stream",
     "text": [
      "    Mileage  Age  Price  BMW  Toyota  Volvo\n",
      "0     69000    6  18000    1       0      0\n",
      "1     35000    3  34000    1       0      0\n",
      "2     57000    5  26100    1       0      0\n",
      "3     22500    2  40000    1       0      0\n",
      "4     46000    4  31500    1       0      0\n",
      "5     59000    5  29400    0       0      1\n",
      "6     52000    5  32000    0       0      1\n",
      "7     72000    6  19300    0       0      1\n",
      "8     91000    8  12000    0       0      1\n",
      "9     67000    6  22000    0       1      0\n",
      "10    83000    7  20000    0       1      0\n",
      "11    79000    7  21000    0       1      0\n",
      "12    59000    5  33000    0       1      0\n"
     ]
    }
   ],
   "source": [
    "# now we don't need the `car model` column\n",
    "# therefore it can be dropped from the data frame.\n",
    "\n",
    "df3 = df2.drop([\"Car Model\"], axis=\"columns\")\n",
    "print(df3)"
   ]
  },
  {
   "cell_type": "code",
   "execution_count": null,
   "id": "5f2c00ef-544b-4d90-82e0-bd8b7282e66f",
   "metadata": {},
   "outputs": [],
   "source": []
  }
 ],
 "metadata": {
  "kernelspec": {
   "display_name": "Python 3 (ipykernel)",
   "language": "python",
   "name": "python3"
  },
  "language_info": {
   "codemirror_mode": {
    "name": "ipython",
    "version": 3
   },
   "file_extension": ".py",
   "mimetype": "text/x-python",
   "name": "python",
   "nbconvert_exporter": "python",
   "pygments_lexer": "ipython3",
   "version": "3.10.8"
  }
 },
 "nbformat": 4,
 "nbformat_minor": 5
}
