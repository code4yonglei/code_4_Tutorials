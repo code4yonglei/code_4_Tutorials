{
 "cells": [
  {
   "cell_type": "markdown",
   "id": "28d4c94b-3baa-44e3-9a59-802a44bd3651",
   "metadata": {
    "tags": []
   },
   "source": [
    "# Learning Numpy"
   ]
  },
  {
   "cell_type": "markdown",
   "id": "558bf7cd-43de-488a-9604-79ed45f772d5",
   "metadata": {},
   "source": [
    "## 1. Install Numpy"
   ]
  },
  {
   "cell_type": "code",
   "execution_count": null,
   "id": "7dff4b4f-3618-4a5b-a8a9-d137326f7dfa",
   "metadata": {},
   "outputs": [],
   "source": [
    "# pip3 install numpy\n",
    "# conda install numpy"
   ]
  },
  {
   "cell_type": "code",
   "execution_count": 2,
   "id": "92009a28-0b4a-4a9a-a16f-81bbddf0ebb5",
   "metadata": {},
   "outputs": [
    {
     "name": "stdout",
     "output_type": "stream",
     "text": [
      "1.23.5\n"
     ]
    }
   ],
   "source": [
    "import numpy as np\n",
    "print(np.__version__)"
   ]
  },
  {
   "cell_type": "markdown",
   "id": "5e99357e-b27c-4979-a809-ff340c5d4e29",
   "metadata": {},
   "source": [
    "## 2. Creating arrays"
   ]
  },
  {
   "cell_type": "markdown",
   "id": "55ba839b-2539-4fe2-bb0e-c9a36a2c7cd3",
   "metadata": {},
   "source": [
    "### 2.1 np.array()"
   ]
  },
  {
   "cell_type": "code",
   "execution_count": null,
   "id": "84ae4472-1a32-4d92-8bcd-ed84feb673eb",
   "metadata": {},
   "outputs": [],
   "source": [
    "# numpy.array(object, dtype = None, copy = True, order = None, subok = False, ndmin = 0)"
   ]
  },
  {
   "cell_type": "code",
   "execution_count": null,
   "id": "0ef011aa-2686-4a51-9c45-d01b784437a9",
   "metadata": {},
   "outputs": [],
   "source": [
    "arr1 = np.array([1, 2, 3, 4, 5, 6])\n",
    "arr1"
   ]
  },
  {
   "cell_type": "code",
   "execution_count": null,
   "id": "c1530641-0db6-4146-a733-074c5001c5a1",
   "metadata": {},
   "outputs": [],
   "source": [
    "arr2 = np.array([1, 2, 3, 4, 5, 6], dtype = np.float64)\n",
    "arr2"
   ]
  },
  {
   "cell_type": "code",
   "execution_count": null,
   "id": "45d884a6-15b9-458b-b9da-f3bf4038508e",
   "metadata": {},
   "outputs": [],
   "source": [
    "arr2_int = arr2.astype(np.int64) # astype from one data type to another"
   ]
  },
  {
   "cell_type": "code",
   "execution_count": null,
   "id": "2a206bc8-ed20-450f-a494-c7a8de10bfd1",
   "metadata": {},
   "outputs": [],
   "source": [
    "arr2"
   ]
  },
  {
   "cell_type": "code",
   "execution_count": null,
   "id": "182a52d5-b7b7-45e7-a6fd-3c40df194118",
   "metadata": {},
   "outputs": [],
   "source": [
    "arr2_int"
   ]
  },
  {
   "cell_type": "code",
   "execution_count": null,
   "id": "e4fe1928-8354-4f14-8902-e0fd14f0b2c5",
   "metadata": {},
   "outputs": [],
   "source": [
    "print(arr2.dtype, arr2_int.dtype)"
   ]
  },
  {
   "cell_type": "code",
   "execution_count": null,
   "id": "6e4a5d3d-61f1-4e73-92e1-0d71afb69fcd",
   "metadata": {},
   "outputs": [],
   "source": [
    "arr3 = arr2_int.reshape(2,3)\n",
    "arr3"
   ]
  },
  {
   "cell_type": "code",
   "execution_count": null,
   "id": "393f008f-1054-4381-9c72-094670324b6f",
   "metadata": {},
   "outputs": [],
   "source": [
    "arr3_complex = arr3.astype(np.complex128)\n",
    "arr3_complex"
   ]
  },
  {
   "cell_type": "code",
   "execution_count": null,
   "id": "a190abc0-0fc6-4655-806b-231a5e6974c2",
   "metadata": {},
   "outputs": [],
   "source": [
    "arr3_str = arr3.astype(np.str_)\n",
    "arr3_str"
   ]
  },
  {
   "cell_type": "code",
   "execution_count": null,
   "id": "e84f374f-ea01-4452-a12b-862c7a12b5a0",
   "metadata": {},
   "outputs": [],
   "source": [
    "# dtype = np.float64, np.int64, np.int32\n",
    "#         complex, np.complex128, str, np.str_"
   ]
  },
  {
   "cell_type": "markdown",
   "id": "dfb3c9a3-70f1-4525-86b7-061153693299",
   "metadata": {},
   "source": [
    "### 2.2 Built-in methods to generate arrays"
   ]
  },
  {
   "cell_type": "code",
   "execution_count": null,
   "id": "df9a0cff-6f9a-44fa-b98f-5d3702b0ac49",
   "metadata": {},
   "outputs": [],
   "source": [
    "# np.arange()\n",
    "# empty, empty_like, full, full_like\n",
    "# zeros, zeros_like, ones, one_like"
   ]
  },
  {
   "cell_type": "code",
   "execution_count": null,
   "id": "c22fac79-df70-499a-aa66-ad87e1bd6a43",
   "metadata": {},
   "outputs": [],
   "source": [
    "# numpy.empty(shape, dtype = float, order = 'C') \n",
    "# order有\"C\"/\"F\"两个选项,分别代表行优/列优先，计算机内存中的存储元存储元素的顺序"
   ]
  },
  {
   "cell_type": "code",
   "execution_count": null,
   "id": "cc4ff9d1-6fb4-405e-bf22-d29abf3cd95c",
   "metadata": {},
   "outputs": [],
   "source": [
    "empty_arr1 = np.empty((2,3), dtype=int)\n",
    "empty_arr1 # 数组元素为随机值，因为未初始化"
   ]
  },
  {
   "cell_type": "code",
   "execution_count": 3,
   "id": "1fb7f1ed-d662-4b3d-8862-71d02a247aeb",
   "metadata": {},
   "outputs": [
    {
     "data": {
      "text/plain": [
       "array([[101, 101, 101, 101],\n",
       "       [101, 101, 101, 101]])"
      ]
     },
     "execution_count": 3,
     "metadata": {},
     "output_type": "execute_result"
    }
   ],
   "source": [
    "full_arr1 = np.full((2,4), 101) # 单一元素矩阵\n",
    "full_arr1"
   ]
  },
  {
   "cell_type": "code",
   "execution_count": null,
   "id": "14725201-303d-4316-94a3-ceb4ee2a6dce",
   "metadata": {},
   "outputs": [],
   "source": [
    "# numpy.zeros(shape, dtype = float, order = 'C')\n",
    "zeros_arr1 = np.zeros([2,3], dtype=np.float64, order='C')\n",
    "zeros_arr1"
   ]
  },
  {
   "cell_type": "code",
   "execution_count": null,
   "id": "4aa730c8-df0f-4948-85d3-04ff02dffe99",
   "metadata": {},
   "outputs": [],
   "source": [
    "zeros_arr2 = np.zeros((5), dtype=int)\n",
    "zeros_arr2"
   ]
  },
  {
   "cell_type": "code",
   "execution_count": null,
   "id": "f7fd1e45-afa7-461d-b0c5-ace8f7700960",
   "metadata": {},
   "outputs": [],
   "source": [
    "arr5 = np.arange(2,8).reshape(3,2)\n",
    "arr5_zeros_like = np.zeros_like(arr5) # 相同形状，数值全是同类型的0\n",
    "arr5_zeros_like"
   ]
  },
  {
   "cell_type": "code",
   "execution_count": null,
   "id": "e98d6286-d00d-4a47-8b74-7b60bbf4a385",
   "metadata": {},
   "outputs": [],
   "source": [
    "ones_arr1 = np.ones((2,3), dtype=float) # int\n",
    "ones_arr1"
   ]
  },
  {
   "cell_type": "code",
   "execution_count": null,
   "id": "18ef3392-9472-4c1d-8637-a7a66419a867",
   "metadata": {},
   "outputs": [],
   "source": [
    "arr6 = np.arange(2,8).reshape(3,2)\n",
    "arr6"
   ]
  },
  {
   "cell_type": "code",
   "execution_count": null,
   "id": "9e1b82b4-3025-4567-88fa-a1cb59f73495",
   "metadata": {},
   "outputs": [],
   "source": [
    "arr6_ones_like = np.ones_like(arr6, dtype=float)\n",
    "arr6_ones_like"
   ]
  },
  {
   "cell_type": "code",
   "execution_count": 11,
   "id": "26a43308-d0d8-4ac6-bdf2-08ce49e01e4a",
   "metadata": {},
   "outputs": [
    {
     "name": "stdout",
     "output_type": "stream",
     "text": [
      "[[1. 0. 0. 0. 0.]\n",
      " [0. 1. 0. 0. 0.]\n",
      " [0. 0. 1. 0. 0.]\n",
      " [0. 0. 0. 1. 0.]\n",
      " [0. 0. 0. 0. 1.]] \n",
      "\n",
      "[[0. 0. 0. 0. 0.]\n",
      " [0. 0. 0. 0. 0.]\n",
      " [1. 0. 0. 0. 0.]\n",
      " [0. 1. 0. 0. 0.]\n",
      " [0. 0. 1. 0. 0.]] \n",
      "\n",
      "Values on diagonal: [1. 1. 1. 1. 1.]\n"
     ]
    }
   ],
   "source": [
    "# np.eye(num), creates an identity matrix\n",
    "arr7 = np.eye(5)\n",
    "print(arr7, '\\n')\n",
    "\n",
    "arr8 = np.eye(5, k=-2) # diagonal offset 下移2个单位\n",
    "print(arr8, '\\n')\n",
    "\n",
    "print('Values on diagonal: ' + str(np.diag(arr7))) # 提取对角元素"
   ]
  },
  {
   "cell_type": "code",
   "execution_count": 12,
   "id": "5e7f7b19-3b89-4f58-92bc-097887129fb4",
   "metadata": {},
   "outputs": [
    {
     "data": {
      "text/plain": [
       "array([[1, 0, 0, 0, 0],\n",
       "       [0, 2, 0, 0, 0],\n",
       "       [0, 0, 3, 0, 0],\n",
       "       [0, 0, 0, 4, 0],\n",
       "       [0, 0, 0, 0, 5]])"
      ]
     },
     "execution_count": 12,
     "metadata": {},
     "output_type": "execute_result"
    }
   ],
   "source": [
    "arr9 = np.diag([1, 2, 3, 4, 5]) # 生成对角元素为此的矩阵\n",
    "arr9"
   ]
  },
  {
   "cell_type": "markdown",
   "id": "3ffd20c0-af64-44d3-8a4d-21ac6a187587",
   "metadata": {},
   "source": [
    "### 2.3 random 方法"
   ]
  },
  {
   "cell_type": "code",
   "execution_count": 291,
   "id": "f3565979-9c61-4864-8cba-2d1711a6bea4",
   "metadata": {},
   "outputs": [
    {
     "data": {
      "text/plain": [
       "array([[0.24221534, 0.16995561, 0.38685986],\n",
       "       [0.84590563, 0.08110924, 0.7569834 ]])"
      ]
     },
     "execution_count": 291,
     "metadata": {},
     "output_type": "execute_result"
    }
   ],
   "source": [
    "# np.random.rand(num) # uniform distributioin\n",
    "np.random.rand(2,3)"
   ]
  },
  {
   "cell_type": "code",
   "execution_count": 292,
   "id": "6d03ae45-9189-4fb2-a9fe-bf01ac4d32ce",
   "metadata": {},
   "outputs": [
    {
     "data": {
      "text/plain": [
       "array([[-0.30028295,  0.72563905, -0.56309107,  0.07433637],\n",
       "       [-2.0149985 , -1.79276979,  0.49782617,  1.31438442]])"
      ]
     },
     "execution_count": 292,
     "metadata": {},
     "output_type": "execute_result"
    }
   ],
   "source": [
    "# np.random.randn(num) # standard normal distribution (mean = 0, var = 1)\n",
    "np.random.randn(2,4)"
   ]
  },
  {
   "cell_type": "code",
   "execution_count": 296,
   "id": "d9f5b0d8-bbe8-4b63-b24c-cb861cc78144",
   "metadata": {},
   "outputs": [
    {
     "name": "stdout",
     "output_type": "stream",
     "text": [
      "5\n",
      "[-2  0  2 -1  3 -1  3  0  3]\n"
     ]
    }
   ],
   "source": [
    "# np.random.randint(low, high [, num])\n",
    "print(np.random.randint(1, 10))\n",
    "print(np.random.randint(-3, 6, 9))"
   ]
  },
  {
   "cell_type": "code",
   "execution_count": 15,
   "id": "13e7ce5b-bc44-4c36-bd96-578e8281d326",
   "metadata": {},
   "outputs": [
    {
     "name": "stdout",
     "output_type": "stream",
     "text": [
      "[0 0 1 1 1 1 0 1 1 1]\n",
      "[1 0 1 2 2 0 0 1 1 1]\n",
      "[3 3 1 3 1 3 3 1 2 2]\n"
     ]
    }
   ],
   "source": [
    "# np.random.choice(iterable_or_int, size, replace=True, p=weights)\n",
    "print(np.random.choice(range(3), 10, replace=True, p=[0.1, 0.8, 0.1]))\n",
    "print(np.random.choice(3, 10))\n",
    "print(np.random.choice([1,2,3], 10))"
   ]
  },
  {
   "cell_type": "code",
   "execution_count": 16,
   "id": "14272a6f-807c-44c0-8cac-372e83cb5363",
   "metadata": {},
   "outputs": [
    {
     "name": "stdout",
     "output_type": "stream",
     "text": [
      "[0 1 2 3 4 5 6 7 8 9]\n",
      "[9 4 0 8 5 2 3 7 1 6]\n",
      "A permutation of the array:  [8 5 3 0 2 7 9 6 4 1]\n"
     ]
    }
   ],
   "source": [
    "# np.random.shuffle(arr) 打乱顺序\n",
    "arr = np.array(range(10))\n",
    "print(arr)\n",
    "np.random.shuffle(arr) # 改变arr数组\n",
    "print(arr)\n",
    "\n",
    "# 与np.random.shuffle()相同，但返回副本\n",
    "print('A permutation of the array: ', np.random.permutation(arr))"
   ]
  },
  {
   "cell_type": "markdown",
   "id": "ee127e2e-5fbf-4497-8294-51dc80f4fe08",
   "metadata": {},
   "source": [
    "### 2.4 Create array from other iterables"
   ]
  },
  {
   "cell_type": "code",
   "execution_count": 298,
   "id": "7b46095a-5f43-40cb-ae01-2a38799662d5",
   "metadata": {},
   "outputs": [],
   "source": [
    "# np.linspace(start, end, num)\n",
    "# np.logspace(start, end, num) # base is 10\n",
    "#    np.logspace(1.0, 2.0, num=10)  \n",
    "#    np.logspace(0, 9, 10, base=2)\n",
    "\n",
    "# np.asarray\n",
    "# diff between np.array and np.asarray: https://www.runoob.com/numpy/numpy-array-from-existing-data.html\n",
    "\n",
    "# np.frombuffer, np.fromiter"
   ]
  },
  {
   "cell_type": "code",
   "execution_count": 5,
   "id": "e7244ced-f1ed-4461-ad7a-438daafa9a14",
   "metadata": {},
   "outputs": [
    {
     "name": "stdout",
     "output_type": "stream",
     "text": [
      "[0 0 0 1 1 1 2 2 2 3 3 3 4 4 4 5 5 5]\n",
      "[[0 1 2]\n",
      " [0 1 2]\n",
      " [0 1 2]\n",
      " [3 4 5]\n",
      " [3 4 5]\n",
      " [3 4 5]]\n",
      "[[0 0 0 1 1 1 2 2 2]\n",
      " [3 3 3 4 4 4 5 5 5]]\n"
     ]
    }
   ],
   "source": [
    "# np.repeat(iterable, reps, axis=None): repeat each element by n times\n",
    "arr = [[0, 1, 2], [3, 4, 5]]\n",
    "print(np.repeat(arr, 3)) \n",
    "print(np.repeat(arr, 3, axis=0))\n",
    "print(np.repeat(arr, 3, axis=1))  "
   ]
  },
  {
   "cell_type": "code",
   "execution_count": 6,
   "id": "1247258d-58fb-4bf6-bc2b-f4e64390f9c9",
   "metadata": {},
   "outputs": [
    {
     "name": "stdout",
     "output_type": "stream",
     "text": [
      "[0 1 2 0 1 2 0 1 2]\n",
      "[[0 1 2 0 1 2]\n",
      " [0 1 2 0 1 2]]\n"
     ]
    }
   ],
   "source": [
    "# np.tile(): repeat the whole array by n times\n",
    "arr = [0, 1, 2]\n",
    "print(np.tile(arr, 3))\n",
    "print(np.tile(arr, (2,2)))"
   ]
  },
  {
   "cell_type": "markdown",
   "id": "08aa53ff-1770-4780-900e-0607632bbaae",
   "metadata": {},
   "source": [
    "## 3. Array properties"
   ]
  },
  {
   "cell_type": "code",
   "execution_count": 14,
   "id": "7baa041f-5c6f-4b09-8bbe-238e8db2c4dc",
   "metadata": {},
   "outputs": [
    {
     "name": "stdout",
     "output_type": "stream",
     "text": [
      "[ 2  3  4  5  6  7  8  9 10 11 12 13 14 15 16 17 18 19 20 21 22 23 24 25\n",
      " 26 27 28 29 30 31 32 33 34 35 36] \n",
      "\n",
      "[[ 2  3  4  5  6  7  8]\n",
      " [ 9 10 11 12 13 14 15]\n",
      " [16 17 18 19 20 21 22]\n",
      " [23 24 25 26 27 28 29]\n",
      " [30 31 32 33 34 35 36]] \n",
      "\n",
      "class:  ndarray\n",
      "shape:  (5, 7)\n",
      "strides:  (56, 8)\n",
      "itemsize:  8\n",
      "aligned:  True\n",
      "contiguous:  True\n",
      "fortran:  False\n",
      "data pointer: 0x12c70cd10\n",
      "byteorder:  little\n",
      "byteswap:  False\n",
      "type: int64\n",
      "None\n"
     ]
    }
   ],
   "source": [
    "# np.info(arr)\n",
    "# arr.reshape, arr.ndim, arr.shape, arr.size, arr.dtype\n",
    "\n",
    "arr2 = np.arange(2,37)\n",
    "\n",
    "arr2_1d = arr2\n",
    "arr2_2d = arr2.reshape(5,7)\n",
    "print(arr2_1d, '\\n')\n",
    "print(arr2_2d, '\\n')\n",
    "print(np.info(arr2_2d))"
   ]
  },
  {
   "cell_type": "code",
   "execution_count": null,
   "id": "5c35626f-a68e-4259-b8d0-7309c982e009",
   "metadata": {},
   "outputs": [],
   "source": [
    "arr2_1d[0] = 100 # arr2_1d and arr2_2d都是arr2的变形，都指向同一个区域，如果修改一个元素相当于修改整个区域的一个元素，即所有数组都发生变化\n",
    "print(arr2_1d,'\\n')\n",
    "print(arr2_2d)\n",
    "\n",
    "# arr2_2d.shape = (7,5) # shape用于改变每个维度的大小\n",
    "\n",
    "arr2_2d[0][0] = 2\n",
    "print(arr2_1d,'\\n')\n",
    "print(arr2_2d)"
   ]
  },
  {
   "cell_type": "code",
   "execution_count": null,
   "id": "7fa048fd-22cd-4b71-b7eb-de8b71e943d0",
   "metadata": {},
   "outputs": [],
   "source": [
    "print(arr2_1d.ndim, arr2_2d.ndim) # dimension of array"
   ]
  },
  {
   "cell_type": "code",
   "execution_count": null,
   "id": "8f5d1ee0-cd74-496a-a751-e7b413953230",
   "metadata": {},
   "outputs": [],
   "source": [
    "print(arr2_1d.shape, arr2_2d.shape) # shape of array"
   ]
  },
  {
   "cell_type": "code",
   "execution_count": null,
   "id": "3d56bf0a-808c-45f9-ba74-2d88345681a3",
   "metadata": {},
   "outputs": [],
   "source": [
    "print(arr2_1d.size, arr2_2d.size) # nr. of items"
   ]
  },
  {
   "cell_type": "code",
   "execution_count": null,
   "id": "7f94ffc0-5176-4fad-8872-a354a3add414",
   "metadata": {},
   "outputs": [],
   "source": [
    "print(arr2_1d.dtype, arr2_2d.dtype) # data type"
   ]
  },
  {
   "cell_type": "code",
   "execution_count": null,
   "id": "745dceae-c2c1-4d53-b8c1-c414ed80c8e1",
   "metadata": {},
   "outputs": [],
   "source": [
    "print(arr2_1d.real, '\\n\\n', arr2_2d.imag) # real and imag parts"
   ]
  },
  {
   "cell_type": "markdown",
   "id": "2f5830eb-b552-4bca-9553-c45614ed85a9",
   "metadata": {},
   "source": [
    "## 4. Slicing and indexing"
   ]
  },
  {
   "cell_type": "code",
   "execution_count": null,
   "id": "d5c62866-5161-40d7-be32-dfe5f8c744bb",
   "metadata": {},
   "outputs": [],
   "source": [
    "arr7 = np.arange(12)\n",
    "arr7"
   ]
  },
  {
   "cell_type": "code",
   "execution_count": null,
   "id": "0dc49385-adb7-496d-934b-805f34109502",
   "metadata": {},
   "outputs": [],
   "source": [
    "ss = slice(2,9,2)\n",
    "print(arr7[ss]) # [2 4 6 8]\n",
    "arr7_part = arr7[2:9:2]\n",
    "arr7_part # array([2, 4, 6, 8])"
   ]
  },
  {
   "cell_type": "code",
   "execution_count": null,
   "id": "defa57e7-e7a2-4585-b6ec-d7ccd98e095a",
   "metadata": {},
   "outputs": [],
   "source": [
    "arr8 = np.arange(2,17).reshape(3,5)\n",
    "arr8"
   ]
  },
  {
   "cell_type": "code",
   "execution_count": null,
   "id": "0da4d293-4de7-4f40-94c4-3089060b2cb0",
   "metadata": {},
   "outputs": [],
   "source": [
    "print (arr8[...,1], '\\n')   # 第2列元素\n",
    "print (arr8[0,...], '\\n')   # 第1行元素\n",
    "print (arr8[...,2:])  # 第3列及之后所有元素"
   ]
  },
  {
   "cell_type": "code",
   "execution_count": null,
   "id": "7b69701d-ae3b-42f3-ae78-eaf65bc754b8",
   "metadata": {},
   "outputs": [],
   "source": [
    "# 高级索引 -- 整数数组索引\n",
    "# 是用一数组来访问另一数组元素。这个数组的每个元素都是目标数组中某维度上索引值\n",
    "rows = np.array([[0,1], [2,2]])\n",
    "cols = np.array([[4,3], [4,3]])\n",
    "# 第一个的id是0-4，第二个是1-3，第三个是2-4，第四个是2-3\n",
    "arr8_part = arr8[rows, cols]\n",
    "arr8_part"
   ]
  },
  {
   "cell_type": "code",
   "execution_count": null,
   "id": "fe6b885d-3a60-4199-ab0c-58181833191b",
   "metadata": {},
   "outputs": [],
   "source": [
    "arr8[1:, 2:4]"
   ]
  },
  {
   "cell_type": "code",
   "execution_count": null,
   "id": "82ebb2ef-ac95-4f0e-a167-6d03b81edd5c",
   "metadata": {},
   "outputs": [],
   "source": [
    "# 高级索引 -- 布尔索引\n",
    "# 通过一个布尔数组来索引目标数组\n",
    "arr8"
   ]
  },
  {
   "cell_type": "code",
   "execution_count": null,
   "id": "5167dc18-5f1e-4733-9cc5-a8fe48bde0dc",
   "metadata": {},
   "outputs": [],
   "source": [
    "arr8[arr8 > 9]"
   ]
  },
  {
   "cell_type": "code",
   "execution_count": null,
   "id": "ba9e7cba-f00d-45a8-b4d2-810ccf7336b7",
   "metadata": {},
   "outputs": [],
   "source": [
    "arr8[arr8 % 3 == 0]"
   ]
  },
  {
   "cell_type": "code",
   "execution_count": null,
   "id": "7244fe22-7bc6-481b-893c-3d09e1d9f622",
   "metadata": {},
   "outputs": [],
   "source": [
    "arr8[[1,0,2,0,-1]] # 双层[]，分别取对应行"
   ]
  },
  {
   "cell_type": "markdown",
   "id": "c355f969-323a-4348-93c0-20e52dc13c0e",
   "metadata": {},
   "source": [
    "## 5. NumPy 迭代数组"
   ]
  },
  {
   "cell_type": "code",
   "execution_count": null,
   "id": "8a8a90d0-43ca-4a89-ab69-1bfb8f973690",
   "metadata": {},
   "outputs": [],
   "source": [
    "farr = np.arange(2, 14).reshape(3,4)\n",
    "farr"
   ]
  },
  {
   "cell_type": "code",
   "execution_count": null,
   "id": "ecdf8948-7c1c-4aea-80db-713330ee9dc0",
   "metadata": {},
   "outputs": [],
   "source": [
    "farr.T # 转置"
   ]
  },
  {
   "cell_type": "code",
   "execution_count": null,
   "id": "f708a035-9da1-4472-9864-eca8c2f04c76",
   "metadata": {},
   "outputs": [],
   "source": [
    "for x in np.nditer(farr): # order='C') 默认order是c风格\n",
    "    print(x, end=' ')"
   ]
  },
  {
   "cell_type": "code",
   "execution_count": null,
   "id": "28ba5743-24b5-42e3-b4af-1255b9d18c90",
   "metadata": {},
   "outputs": [],
   "source": [
    "for x in np.nditer(farr, order='F'):\n",
    "    print(x, end=' ')"
   ]
  },
  {
   "cell_type": "code",
   "execution_count": null,
   "id": "4fc7e48c-a44e-4959-867e-bdbb98b27d5e",
   "metadata": {},
   "outputs": [],
   "source": [
    "# Numpy 数组操作\n",
    "# np.reshape, \n",
    "# arr.flatten(), arr.flatten(order='F')\n",
    "# np.transpose(arr) = arr.T"
   ]
  },
  {
   "cell_type": "markdown",
   "id": "23520014-ca87-451a-b896-22218a7f0730",
   "metadata": {},
   "source": [
    "## 5. Broadcasting"
   ]
  },
  {
   "cell_type": "code",
   "execution_count": null,
   "id": "7121cdd0-3b1c-43a4-8207-ee47e0cf1f43",
   "metadata": {},
   "outputs": [],
   "source": [
    "# 如两数组a和b形状相同，即a.shape==b.shape，那a*b是a与b数组对应位相乘"
   ]
  },
  {
   "cell_type": "code",
   "execution_count": null,
   "id": "3720cb0d-c06c-4914-bac7-0fba7d9525fd",
   "metadata": {},
   "outputs": [],
   "source": [
    "# 对不同形状(shape)的数组进行的是broadcast形式计算"
   ]
  },
  {
   "cell_type": "code",
   "execution_count": null,
   "id": "fd6430af-c583-4e63-af96-53fca8e78712",
   "metadata": {},
   "outputs": [],
   "source": [
    "brr = np.array([1, 2, 3, 4])\n",
    "crr = np.array([10, 20, 30, 40])\n",
    "drr = brr + crr\n",
    "err = brr * crr\n",
    "print(drr, '\\n', err)"
   ]
  },
  {
   "cell_type": "code",
   "execution_count": null,
   "id": "de5fdf0f-37c3-4480-8e4d-56791cfec30a",
   "metadata": {},
   "outputs": [],
   "source": [
    "# 当2个数组形状不同时，numpy自动触发广播机制\n",
    "\n",
    "brr = np.array([[ 0, 0, 0],\n",
    "           [10,10,10],\n",
    "           [20,20,20],\n",
    "           [30,30,30]])\n",
    "crr = np.array([0, 4, 7])\n",
    "\n",
    "brr + crr"
   ]
  },
  {
   "cell_type": "code",
   "execution_count": null,
   "id": "7175aaeb-5cd5-4169-879c-d97886318ae7",
   "metadata": {},
   "outputs": [],
   "source": [
    "brr*crr"
   ]
  },
  {
   "cell_type": "markdown",
   "id": "3aa252ce-a9a3-4d93-907f-2780ba03a412",
   "metadata": {},
   "source": [
    "## 6. Numpy operations"
   ]
  },
  {
   "cell_type": "markdown",
   "id": "97b59f21-8c47-4b19-9a94-08c9bdb5700e",
   "metadata": {},
   "source": [
    "### 6.1 NumPy bite-wise operation"
   ]
  },
  {
   "cell_type": "code",
   "execution_count": null,
   "id": "4ce36c25-579f-4501-9154-850593f830a5",
   "metadata": {},
   "outputs": [],
   "source": [
    "# 操作\t函数/运算符\t描述\n",
    "# 按位与\tnumpy.bitwise_and(x1, x2)\t对数组的每个元素执行逐位与操作。\n",
    "# 按位或\tnumpy.bitwise_or(x1, x2)\t对数组的每个元素执行逐位或操作。\n",
    "# 按位异或\tnumpy.bitwise_xor(x1, x2)\t对数组的每个元素执行逐位异或操作。\n",
    "# 按位取反\tnumpy.invert(x)\t对数组的每个元素执行逐位取反（按位非）。\n",
    "# 左移\tnumpy.left_shift(x1, x2)\t将数组的每个元素左移指定的位数。\n",
    "# 右移\tnumpy.right_shift(x1, x2)\t将数组的每个元素右移指定的位数。"
   ]
  },
  {
   "cell_type": "markdown",
   "id": "cf3b43e9-93ff-469d-8ee5-d2ae2fd5011d",
   "metadata": {},
   "source": [
    "### 6.2 NumPy math functions"
   ]
  },
  {
   "cell_type": "code",
   "execution_count": null,
   "id": "58311b49-29cc-47b4-8afa-990777996c2a",
   "metadata": {},
   "outputs": [],
   "source": [
    "# np.sin(arr*np.pi/180), np.cos(), np.tan(), np.arcsin(), ...\n",
    "# np.exp(arr), np.log(arr), ...\n",
    "# np.around(arr), np.floor(), np.ceil(), "
   ]
  },
  {
   "cell_type": "code",
   "execution_count": null,
   "id": "62928db2-15a4-4eed-929d-470248452bc5",
   "metadata": {},
   "outputs": [],
   "source": [
    "# np.add(arr1, arr2)\n",
    "# np.subtract(), multiply(), np.divide()\n",
    "# np.reciprocal(arr)\n",
    "# np.power(arr, 3)\n",
    "\n",
    "# np.mod(arr, brr) # same shepe\n",
    "# np.reminder(arr, brr)"
   ]
  },
  {
   "cell_type": "markdown",
   "id": "996798c6-d8cf-4803-8dca-5eb83122d85d",
   "metadata": {},
   "source": [
    "## 7. NumPy 统计函数"
   ]
  },
  {
   "cell_type": "code",
   "execution_count": null,
   "id": "b0f1f848-e9e4-42df-9e66-e671c66f6866",
   "metadata": {},
   "outputs": [],
   "source": [
    "# np.amin(arr), np.amax(arr, axis=None)\n",
    "\n",
    "arb = np.array([[3,7,5],[8,4,3],[2,4,9]])\n",
    "arb"
   ]
  },
  {
   "cell_type": "code",
   "execution_count": null,
   "id": "a53b1272-c87d-49ec-9ed3-eef52169ac68",
   "metadata": {},
   "outputs": [],
   "source": [
    "np.amin(arb) # global minimum"
   ]
  },
  {
   "cell_type": "code",
   "execution_count": null,
   "id": "3fe03e06-9482-494c-b754-1e82bc15d387",
   "metadata": {},
   "outputs": [],
   "source": [
    "np.amin(arb, axis=0) # 每列的最小值"
   ]
  },
  {
   "cell_type": "code",
   "execution_count": null,
   "id": "778bbb95-56ba-4904-ab60-8fcf991fa636",
   "metadata": {},
   "outputs": [],
   "source": [
    "np.amin(arb, 0) # 每列的最小值"
   ]
  },
  {
   "cell_type": "code",
   "execution_count": null,
   "id": "a0a9f7f5-fbce-4a3a-83e5-e42228b7a178",
   "metadata": {},
   "outputs": [],
   "source": [
    "np.amax(arb, 1) # 每行的最大值"
   ]
  },
  {
   "cell_type": "code",
   "execution_count": null,
   "id": "d099dccf-f17e-425e-a8df-f7571c8d28e9",
   "metadata": {},
   "outputs": [],
   "source": [
    "# numpy.ptp()计算数组中最大值与最小值的差（最大值-最小值）\n",
    "np.ptp(arb) # min=2 and max=9"
   ]
  },
  {
   "cell_type": "code",
   "execution_count": null,
   "id": "02400227-dea6-4d5c-b107-14eae702c883",
   "metadata": {},
   "outputs": [],
   "source": [
    "np.ptp(arb, 0)"
   ]
  },
  {
   "cell_type": "code",
   "execution_count": null,
   "id": "ac987544-00d6-4498-a9ff-bd7ec8ba81d5",
   "metadata": {},
   "outputs": [],
   "source": [
    "# numpy.median()用于计算数组a中元素的中位数\n",
    "np.median(arb)"
   ]
  },
  {
   "cell_type": "code",
   "execution_count": null,
   "id": "13d353c6-16c9-46d0-a2e1-42afd1c8048a",
   "metadata": {},
   "outputs": [],
   "source": [
    "# numpy.mean()返回数组中元素的算术平均值\n",
    "np.mean(arb)"
   ]
  },
  {
   "cell_type": "code",
   "execution_count": null,
   "id": "119d5c9b-a0ea-4481-9b1a-0eedeef59df3",
   "metadata": {},
   "outputs": [],
   "source": [
    "# np.std()标准差是数据平均值分散程度，是方差的算术平方根。\n",
    "np.std(arb)"
   ]
  },
  {
   "cell_type": "markdown",
   "id": "f0ab1725-ab37-4bbc-8095-e35772f09bf7",
   "metadata": {},
   "source": [
    "## 8. NumPy 排序、条件筛选函数"
   ]
  },
  {
   "cell_type": "code",
   "execution_count": null,
   "id": "beef934f-806a-4d0a-b33d-3672ad6a3e71",
   "metadata": {},
   "outputs": [],
   "source": [
    "# numpy.sort()返回输入数组的排序副本\n",
    "print(arb, '\\n')\n",
    "np.sort(arb)"
   ]
  },
  {
   "cell_type": "code",
   "execution_count": null,
   "id": "d34abd58-5641-45e6-8ce6-3e4cc60132bd",
   "metadata": {},
   "outputs": [],
   "source": [
    "np.sort(arb, 0)"
   ]
  },
  {
   "cell_type": "code",
   "execution_count": null,
   "id": "5ef96ac0-6ce6-47d6-aca9-2ac1578667b4",
   "metadata": {},
   "outputs": [],
   "source": [
    "# quicksort（快速排序）速度最快 O(n^2) 不稳定\n",
    "# mergesort（归并排序）速度中等 (n*log(n)) 稳定\n",
    "# heapsort'（堆排序）速度较慢 (n*log(n)) 稳定"
   ]
  },
  {
   "cell_type": "code",
   "execution_count": null,
   "id": "f4e5d689-feea-46ea-8e9d-ed6019307a4d",
   "metadata": {},
   "outputs": [],
   "source": [
    "# np.argsort() 返回的是数组值从小到大的索引值\n",
    "# np.lexsort() 用于对多个序列进行排序\n",
    "# msort(arr)、sort_complex(arr)、partition(arr)\n",
    "# np.argmax()和 np.argmin()分别沿给定轴返回最大和最小元素的索引\n",
    "# np.nonzero() 返回输入数组中非零元素的索引\n",
    "# np.where() 返回输入数组中满足给定条件的元素的索引\n",
    "# np.extract() 函数根据某个条件从数组中抽取元素，返回满条件的元素"
   ]
  },
  {
   "cell_type": "markdown",
   "id": "e17e342c-c1ba-432f-b5f6-f8d98d47c189",
   "metadata": {},
   "source": [
    "## 10. Matplotlib"
   ]
  },
  {
   "cell_type": "code",
   "execution_count": null,
   "id": "e3267673-7797-4464-9d20-293881ff6b4a",
   "metadata": {},
   "outputs": [],
   "source": [
    "import matplotlib.pyplot as plt"
   ]
  },
  {
   "cell_type": "code",
   "execution_count": null,
   "id": "ee37b710-86a8-4c8c-9de6-75a64124e0b8",
   "metadata": {},
   "outputs": [],
   "source": [
    "%matplotlib inline\n",
    "\n",
    "xarr = np.arange(1, 10, 0.1)\n",
    "yarr = np.sin(xarr)\n",
    "\n",
    "plt.plot(xarr, yarr, 'ro-')\n",
    "\n",
    "plt.title(\"Matplotlib demo\")\n",
    "plt.xlabel(\"X axis\")\n",
    "plt.ylabel(\"Y axis\")"
   ]
  },
  {
   "cell_type": "code",
   "execution_count": null,
   "id": "3e1a60a3-d171-46fb-9332-b2d5ce802ead",
   "metadata": {},
   "outputs": [],
   "source": []
  }
 ],
 "metadata": {
  "kernelspec": {
   "display_name": "Python 3 (ipykernel)",
   "language": "python",
   "name": "python3"
  },
  "language_info": {
   "codemirror_mode": {
    "name": "ipython",
    "version": 3
   },
   "file_extension": ".py",
   "mimetype": "text/x-python",
   "name": "python",
   "nbconvert_exporter": "python",
   "pygments_lexer": "ipython3",
   "version": "3.10.8"
  }
 },
 "nbformat": 4,
 "nbformat_minor": 5
}
