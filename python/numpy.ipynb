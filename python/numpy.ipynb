{
 "cells": [
  {
   "cell_type": "markdown",
   "id": "fbb250f3-6a57-4525-a9f3-3e263f4dc8f8",
   "metadata": {},
   "source": [
    "> NumPy is a powerful numerical computing library in Python that provides support for large, multi-dimensional arrays and matrices, along with mathematical functions to operate on these arrays.\n",
    ">\n",
    "> This tutorial will guide you through the fundamental aspects of NumPy, covering essential topics for data manipulation and scientific computing."
   ]
  },
  {
   "cell_type": "markdown",
   "id": "28d4c94b-3baa-44e3-9a59-802a44bd3651",
   "metadata": {
    "tags": []
   },
   "source": [
    "# Comprehensive NumPy Tutorial: Mastering Numerical Computing in Python"
   ]
  },
  {
   "cell_type": "markdown",
   "id": "534aeec9-f70c-4362-ae12-eb031e82f83e",
   "metadata": {},
   "source": [
    "## 1. Introduction to Numpy"
   ]
  },
  {
   "cell_type": "markdown",
   "id": "e2139ea8-3779-4d2a-a84a-88de473d6b2b",
   "metadata": {},
   "source": [
    "### 1.1 What is Numpy?"
   ]
  },
  {
   "cell_type": "markdown",
   "id": "0f9d9297-596b-4506-938a-4397b59c0d94",
   "metadata": {},
   "source": [
    "NumPy, short for Numerical Python, is a powerful Python library for numerical computing. It provides support for large, multi-dimensional arrays and matrices, along with mathematical functions to operate on these arrays efficiently."
   ]
  },
  {
   "cell_type": "markdown",
   "id": "792db6e8-9f88-4ed4-a82b-a48f5d1cd7c1",
   "metadata": {},
   "source": [
    "### 1.2 Why Use Numpy?"
   ]
  },
  {
   "cell_type": "markdown",
   "id": "d46d2880-4d8e-49aa-8cad-b09ea723a197",
   "metadata": {},
   "source": [
    "- Efficiency: NumPy operations are implemented in C, making them faster than equivalent Python operations.\n",
    "- Convenience: NumPy provides a convenient and efficient way to handle large datasets and perform complex mathematical operations.\n",
    "- Interoperability: NumPy seamlessly integrates with other libraries in the scientific computing ecosystem, such as SciPy, Pandas, and Matplotlib.\n",
    "- Versatility: NumPy is the foundation for many other libraries used in data science, machine learning, and scientific research."
   ]
  },
  {
   "cell_type": "markdown",
   "id": "558bf7cd-43de-488a-9604-79ed45f772d5",
   "metadata": {},
   "source": [
    "## 2. Installation and Setup"
   ]
  },
  {
   "cell_type": "markdown",
   "id": "4329b20e-a714-411b-9a12-f40410b82184",
   "metadata": {},
   "source": [
    "### 2.1 Installing NumPy"
   ]
  },
  {
   "cell_type": "markdown",
   "id": "ad752bcc-b6cd-48c6-ba2d-59ed950eec32",
   "metadata": {},
   "source": [
    "To install NumPy, use either one of the following command:"
   ]
  },
  {
   "cell_type": "code",
   "execution_count": 444,
   "id": "7dff4b4f-3618-4a5b-a8a9-d137326f7dfa",
   "metadata": {},
   "outputs": [],
   "source": [
    "# pip3 install numpy\n",
    "# conda install numpy"
   ]
  },
  {
   "cell_type": "markdown",
   "id": "6c368b84-3ccf-4426-88b8-308c2faeddbd",
   "metadata": {},
   "source": [
    "### 2.2 Verifying Installation"
   ]
  },
  {
   "cell_type": "markdown",
   "id": "5c601fc2-bf03-4c20-9e7e-0198c4970c1b",
   "metadata": {},
   "source": [
    "After installation, verify that NumPy is correctly installed by importing it in a Python script or Jupyter notebook.\n",
    "It should print the installed version of the Numpy as shown below."
   ]
  },
  {
   "cell_type": "code",
   "execution_count": 445,
   "id": "92009a28-0b4a-4a9a-a16f-81bbddf0ebb5",
   "metadata": {},
   "outputs": [
    {
     "name": "stdout",
     "output_type": "stream",
     "text": [
      "1.23.5\n"
     ]
    }
   ],
   "source": [
    "import numpy as np\n",
    "print(np.__version__)"
   ]
  },
  {
   "cell_type": "markdown",
   "id": "5e99357e-b27c-4979-a809-ff340c5d4e29",
   "metadata": {},
   "source": [
    "## 3. Creating arrays in Numpy"
   ]
  },
  {
   "cell_type": "markdown",
   "id": "55ba839b-2539-4fe2-bb0e-c9a36a2c7cd3",
   "metadata": {},
   "source": [
    "### 3.1 NumPy arrays"
   ]
  },
  {
   "cell_type": "markdown",
   "id": "0eb4aa80-8e71-4e5c-a51c-f39f860da27b",
   "metadata": {},
   "source": [
    "NumPy’s core component is `ndarray` (n-dimensional array), a versatile and efficient data structure for storing homogeneous numerical data."
   ]
  },
  {
   "cell_type": "code",
   "execution_count": 446,
   "id": "84ae4472-1a32-4d92-8bcd-ed84feb673eb",
   "metadata": {},
   "outputs": [],
   "source": [
    "# numpy.array(object, dtype = None, copy = True, order = None, subok = False, ndmin = 0)"
   ]
  },
  {
   "cell_type": "code",
   "execution_count": 447,
   "id": "0ef011aa-2686-4a51-9c45-d01b784437a9",
   "metadata": {},
   "outputs": [
    {
     "name": "stdout",
     "output_type": "stream",
     "text": [
      "[1 2 3 4 5 6]\n"
     ]
    }
   ],
   "source": [
    "arr_1d_int = np.array([1, 2, 3, 4, 5, 6])\n",
    "print(arr_1d_int)"
   ]
  },
  {
   "cell_type": "code",
   "execution_count": 448,
   "id": "c1530641-0db6-4146-a733-074c5001c5a1",
   "metadata": {},
   "outputs": [
    {
     "name": "stdout",
     "output_type": "stream",
     "text": [
      "arr_1d_float =  [1. 2. 3. 4. 5. 6.]\n",
      "arr_1d_float_int =  [10 20 30 40]\n"
     ]
    }
   ],
   "source": [
    "# arrays qith specific data types\n",
    "\n",
    "arr_1d_float = np.array([1, 2, 3, 4, 5, 6], dtype = np.float64)\n",
    "print(\"arr_1d_float = \", arr_1d_float)\n",
    "\n",
    "arr_1d_float_int = arr2.astype(np.int64) # astype from one data type to another\n",
    "print(\"arr_1d_float_int = \", arr_1d_float_int)"
   ]
  },
  {
   "cell_type": "code",
   "execution_count": 449,
   "id": "e4fe1928-8354-4f14-8902-e0fd14f0b2c5",
   "metadata": {},
   "outputs": [
    {
     "name": "stdout",
     "output_type": "stream",
     "text": [
      "float64 int64\n"
     ]
    }
   ],
   "source": [
    "print(arr_1d_float.dtype, arr_1d_float_int.dtype)"
   ]
  },
  {
   "cell_type": "code",
   "execution_count": 450,
   "id": "6e4a5d3d-61f1-4e73-92e1-0d71afb69fcd",
   "metadata": {},
   "outputs": [
    {
     "name": "stdout",
     "output_type": "stream",
     "text": [
      "[[1. 2. 3.]\n",
      " [4. 5. 6.]]\n"
     ]
    }
   ],
   "source": [
    "arr_2d_float = arr_1d_float.reshape(2,3)\n",
    "print(arr_2d_float)"
   ]
  },
  {
   "cell_type": "code",
   "execution_count": 451,
   "id": "393f008f-1054-4381-9c72-094670324b6f",
   "metadata": {},
   "outputs": [
    {
     "name": "stdout",
     "output_type": "stream",
     "text": [
      "[[1.+0.j 2.+0.j 3.+0.j]\n",
      " [4.+0.j 5.+0.j 6.+0.j]]\n"
     ]
    }
   ],
   "source": [
    "# dtype = np.float64, np.int64, np.int32\n",
    "#         complex, np.complex128, str, np.str_\n",
    "\n",
    "arr_2d_complex = arr_2d_float.astype(np.complex128)\n",
    "print(arr_2d_complex)"
   ]
  },
  {
   "cell_type": "code",
   "execution_count": 452,
   "id": "a190abc0-0fc6-4655-806b-231a5e6974c2",
   "metadata": {},
   "outputs": [
    {
     "name": "stdout",
     "output_type": "stream",
     "text": [
      "[['1.0' '2.0' '3.0']\n",
      " ['4.0' '5.0' '6.0']]\n"
     ]
    }
   ],
   "source": [
    "arr_2d_str = arr_2d_float.astype(np.str_)\n",
    "print(arr_2d_str)"
   ]
  },
  {
   "cell_type": "markdown",
   "id": "dfb3c9a3-70f1-4525-86b7-061153693299",
   "metadata": {},
   "source": [
    "### 3.2 Array initialization methods"
   ]
  },
  {
   "cell_type": "markdown",
   "id": "a67ba917-b96c-43d8-a2f5-aa43f5583811",
   "metadata": {},
   "source": [
    "Learn various methods to create and initialize NumPy arrays, from simple lists to more specialized arrays like identity matrices and diagonal arrays."
   ]
  },
  {
   "cell_type": "code",
   "execution_count": 453,
   "id": "df9a0cff-6f9a-44fa-b98f-5d3702b0ac49",
   "metadata": {},
   "outputs": [],
   "source": [
    "# empty, empty_like, full, full_like\n",
    "\n",
    "# numpy.empty(shape, dtype = float, order = 'C') \n",
    "# order有\"C\"/\"F\"两个选项,分别代表行优/列优先，计算机内存中的存储元存储元素的顺序"
   ]
  },
  {
   "cell_type": "code",
   "execution_count": 454,
   "id": "cc4ff9d1-6fb4-405e-bf22-d29abf3cd95c",
   "metadata": {},
   "outputs": [
    {
     "name": "stdout",
     "output_type": "stream",
     "text": [
      "[[0 0 0]\n",
      " [0 0 0]]\n"
     ]
    }
   ],
   "source": [
    "empty_arr = np.empty((2,3), dtype=int)\n",
    "print(empty_arr) # 数组元素为随机值，因为未初始化"
   ]
  },
  {
   "cell_type": "code",
   "execution_count": 455,
   "id": "1fb7f1ed-d662-4b3d-8862-71d02a247aeb",
   "metadata": {},
   "outputs": [
    {
     "name": "stdout",
     "output_type": "stream",
     "text": [
      "[[101 101 101 101]\n",
      " [101 101 101 101]]\n"
     ]
    }
   ],
   "source": [
    "full_arr = np.full((2,4), 101) # 单一元素矩阵\n",
    "print(full_arr)"
   ]
  },
  {
   "cell_type": "code",
   "execution_count": 456,
   "id": "14725201-303d-4316-94a3-ceb4ee2a6dce",
   "metadata": {},
   "outputs": [
    {
     "name": "stdout",
     "output_type": "stream",
     "text": [
      "[[0. 0. 0.]\n",
      " [0. 0. 0.]]\n"
     ]
    }
   ],
   "source": [
    "# zeros, zeros_like, ones, one_like\n",
    "# numpy.zeros(shape, dtype = float, order = 'C')\n",
    "\n",
    "zeros_arr = np.zeros([2,3], dtype=np.float64, order='C')\n",
    "print(zeros_arr)"
   ]
  },
  {
   "cell_type": "code",
   "execution_count": 457,
   "id": "4aa730c8-df0f-4948-85d3-04ff02dffe99",
   "metadata": {},
   "outputs": [
    {
     "name": "stdout",
     "output_type": "stream",
     "text": [
      "[0 0 0 0 0]\n"
     ]
    }
   ],
   "source": [
    "zeros_arr = np.zeros((5), dtype=int)\n",
    "print(zeros_arr)"
   ]
  },
  {
   "cell_type": "code",
   "execution_count": 458,
   "id": "f7fd1e45-afa7-461d-b0c5-ace8f7700960",
   "metadata": {},
   "outputs": [
    {
     "name": "stdout",
     "output_type": "stream",
     "text": [
      "[[0 0]\n",
      " [0 0]\n",
      " [0 0]]\n"
     ]
    }
   ],
   "source": [
    "arr = np.arange(2,8).reshape(3,2)\n",
    "arr_zeros_like = np.zeros_like(arr) # 相同形状，数值全是同类型的0\n",
    "print(arr_zeros_like)"
   ]
  },
  {
   "cell_type": "code",
   "execution_count": 459,
   "id": "e98d6286-d00d-4a47-8b74-7b60bbf4a385",
   "metadata": {},
   "outputs": [
    {
     "name": "stdout",
     "output_type": "stream",
     "text": [
      "[[1. 1. 1.]\n",
      " [1. 1. 1.]]\n"
     ]
    }
   ],
   "source": [
    "ones_arr = np.ones((2,3), dtype=float) # int\n",
    "print(ones_arr)"
   ]
  },
  {
   "cell_type": "code",
   "execution_count": 460,
   "id": "18ef3392-9472-4c1d-8637-a7a66419a867",
   "metadata": {},
   "outputs": [
    {
     "name": "stdout",
     "output_type": "stream",
     "text": [
      "[[2 3]\n",
      " [4 5]\n",
      " [6 7]]\n"
     ]
    }
   ],
   "source": [
    "arr5 = np.arange(2,8).reshape(3,2)\n",
    "print(arr5)"
   ]
  },
  {
   "cell_type": "code",
   "execution_count": 461,
   "id": "9e1b82b4-3025-4567-88fa-a1cb59f73495",
   "metadata": {},
   "outputs": [
    {
     "name": "stdout",
     "output_type": "stream",
     "text": [
      "[[1. 1.]\n",
      " [1. 1.]\n",
      " [1. 1.]]\n"
     ]
    }
   ],
   "source": [
    "arr5_ones_like = np.ones_like(arr5, dtype=float)\n",
    "print(arr5_ones_like)"
   ]
  },
  {
   "cell_type": "code",
   "execution_count": 462,
   "id": "26a43308-d0d8-4ac6-bdf2-08ce49e01e4a",
   "metadata": {},
   "outputs": [
    {
     "name": "stdout",
     "output_type": "stream",
     "text": [
      "[[1. 0. 0. 0. 0.]\n",
      " [0. 1. 0. 0. 0.]\n",
      " [0. 0. 1. 0. 0.]\n",
      " [0. 0. 0. 1. 0.]\n",
      " [0. 0. 0. 0. 1.]] \n",
      "\n",
      "[[0. 0. 0. 0. 0.]\n",
      " [0. 0. 0. 0. 0.]\n",
      " [1. 0. 0. 0. 0.]\n",
      " [0. 1. 0. 0. 0.]\n",
      " [0. 0. 1. 0. 0.]] \n",
      "\n",
      "Values on diagonal: [0. 0. 0. 0. 0.]\n"
     ]
    }
   ],
   "source": [
    "# np.eye(num), creates an identity matrix\n",
    "\n",
    "arr6 = np.eye(5)\n",
    "print(arr6, '\\n')\n",
    "\n",
    "arr7 = np.eye(5, k=-2) # diagonal offset 下移2个单位\n",
    "print(arr7, '\\n')\n",
    "\n",
    "print('Values on diagonal: ' + str(np.diag(arr7))) # 提取对角元素"
   ]
  },
  {
   "cell_type": "code",
   "execution_count": 463,
   "id": "5e7f7b19-3b89-4f58-92bc-097887129fb4",
   "metadata": {},
   "outputs": [
    {
     "name": "stdout",
     "output_type": "stream",
     "text": [
      "[[1 0 0 0 0]\n",
      " [0 2 0 0 0]\n",
      " [0 0 3 0 0]\n",
      " [0 0 0 4 0]\n",
      " [0 0 0 0 5]]\n"
     ]
    }
   ],
   "source": [
    "# np.diag([list]), array with diagonal elements\n",
    "\n",
    "arr8 = np.diag([1, 2, 3, 4, 5])\n",
    "print(arr8)"
   ]
  },
  {
   "cell_type": "markdown",
   "id": "3ffd20c0-af64-44d3-8a4d-21ac6a187587",
   "metadata": {},
   "source": [
    "### 3.3 Sepcial arrays"
   ]
  },
  {
   "cell_type": "code",
   "execution_count": 464,
   "id": "315edd81-a07d-4cc5-9d2d-f00ea54d1098",
   "metadata": {},
   "outputs": [],
   "source": [
    "# np.arange()"
   ]
  },
  {
   "cell_type": "code",
   "execution_count": 465,
   "id": "1c08786c-99dc-4358-9134-e1baa72eef05",
   "metadata": {},
   "outputs": [
    {
     "data": {
      "text/plain": [
       "array([1. , 1.2, 1.4, 1.6, 1.8, 2. ])"
      ]
     },
     "execution_count": 465,
     "metadata": {},
     "output_type": "execute_result"
    }
   ],
   "source": [
    "# np.linspace(start, end, num)\n",
    "np.linspace(1, 2, 6)"
   ]
  },
  {
   "cell_type": "code",
   "execution_count": 466,
   "id": "fb7983d0-2317-499a-a2c2-c43407a988af",
   "metadata": {},
   "outputs": [
    {
     "data": {
      "text/plain": [
       "array([ 10.        ,  21.5443469 ,  46.41588834, 100.        ])"
      ]
     },
     "execution_count": 466,
     "metadata": {},
     "output_type": "execute_result"
    }
   ],
   "source": [
    "# np.logspace(start, end, num [, base=10]) # base = 10 for default\n",
    "\n",
    "np.logspace(1, 2, 4) # base =10 for default"
   ]
  },
  {
   "cell_type": "code",
   "execution_count": 467,
   "id": "830fabcb-e27d-4e98-86d6-163ebd589f3a",
   "metadata": {},
   "outputs": [
    {
     "data": {
      "text/plain": [
       "array([2.       , 2.5198421, 3.1748021, 4.       ])"
      ]
     },
     "execution_count": 467,
     "metadata": {},
     "output_type": "execute_result"
    }
   ],
   "source": [
    "np.logspace(1, 2, 4, base=2)"
   ]
  },
  {
   "cell_type": "code",
   "execution_count": 468,
   "id": "f3565979-9c61-4864-8cba-2d1711a6bea4",
   "metadata": {},
   "outputs": [
    {
     "data": {
      "text/plain": [
       "array([[0.01166475, 0.90447076, 0.17371534],\n",
       "       [0.05211608, 0.2250728 , 0.30708222]])"
      ]
     },
     "execution_count": 468,
     "metadata": {},
     "output_type": "execute_result"
    }
   ],
   "source": [
    "# np.random.rand(num) # uniform distribution\n",
    "\n",
    "np.random.rand(2,3)"
   ]
  },
  {
   "cell_type": "code",
   "execution_count": 469,
   "id": "6d03ae45-9189-4fb2-a9fe-bf01ac4d32ce",
   "metadata": {},
   "outputs": [
    {
     "data": {
      "text/plain": [
       "array([[-0.93153187,  1.14905653, -0.40193092, -1.8899721 ],\n",
       "       [ 1.93008551, -0.05084357, -0.0619048 , -0.44824011]])"
      ]
     },
     "execution_count": 469,
     "metadata": {},
     "output_type": "execute_result"
    }
   ],
   "source": [
    "# np.random.randn(num) # standard normal distribution (mean = 0, var = 1)\n",
    "\n",
    "np.random.randn(2,4)"
   ]
  },
  {
   "cell_type": "code",
   "execution_count": 470,
   "id": "d9f5b0d8-bbe8-4b63-b24c-cb861cc78144",
   "metadata": {},
   "outputs": [
    {
     "name": "stdout",
     "output_type": "stream",
     "text": [
      "8\n",
      "[ 0  5  5  3 -1  3  0  0  3]\n"
     ]
    }
   ],
   "source": [
    "# np.random.randint(low, high [, num])\n",
    "\n",
    "print(np.random.randint(1, 10))\n",
    "print(np.random.randint(-3, 6, 9))"
   ]
  },
  {
   "cell_type": "code",
   "execution_count": 471,
   "id": "13e7ce5b-bc44-4c36-bd96-578e8281d326",
   "metadata": {},
   "outputs": [
    {
     "name": "stdout",
     "output_type": "stream",
     "text": [
      "[1 1 1 2 1 1 1 1 1 1]\n",
      "[1 1 0 0 1 1 0 0 0 1]\n",
      "[2 1 2 2 2 3 2 2 1 2]\n"
     ]
    }
   ],
   "source": [
    "# np.random.choice(iterable_or_int, size, replace=True, p=weights)\n",
    "\n",
    "print(np.random.choice(range(3), 10, replace=True, p=[0.1, 0.8, 0.1]))\n",
    "print(np.random.choice(3, 10))\n",
    "print(np.random.choice([1,2,3], 10))"
   ]
  },
  {
   "cell_type": "code",
   "execution_count": 472,
   "id": "14272a6f-807c-44c0-8cac-372e83cb5363",
   "metadata": {},
   "outputs": [
    {
     "name": "stdout",
     "output_type": "stream",
     "text": [
      "[0 1 2 3 4 5 6 7 8 9]\n",
      "[5 0 6 1 3 8 7 2 9 4]\n",
      "A permutation of the array:  [8 3 2 0 7 5 1 9 6 4]\n"
     ]
    }
   ],
   "source": [
    "# np.random.shuffle(arr) 打乱顺序\n",
    "\n",
    "arr = np.array(range(10))\n",
    "print(arr)\n",
    "\n",
    "np.random.shuffle(arr) # 改变arr数组\n",
    "print(arr)\n",
    "\n",
    "# 与np.random.shuffle()相同，但返回副本\n",
    "print('A permutation of the array: ', np.random.permutation(arr))"
   ]
  },
  {
   "cell_type": "markdown",
   "id": "ee127e2e-5fbf-4497-8294-51dc80f4fe08",
   "metadata": {},
   "source": [
    "### 3.4 Create array from other iterables"
   ]
  },
  {
   "cell_type": "code",
   "execution_count": 473,
   "id": "7b46095a-5f43-40cb-ae01-2a38799662d5",
   "metadata": {},
   "outputs": [],
   "source": [
    "# np.asarray\n",
    "# diff between np.array and np.asarray: https://www.runoob.com/numpy/numpy-array-from-existing-data.html\n",
    "\n",
    "# np.frombuffer, np.fromiter"
   ]
  },
  {
   "cell_type": "code",
   "execution_count": 474,
   "id": "e7244ced-f1ed-4461-ad7a-438daafa9a14",
   "metadata": {},
   "outputs": [
    {
     "name": "stdout",
     "output_type": "stream",
     "text": [
      "[0 0 0 1 1 1 2 2 2 3 3 3 4 4 4 5 5 5]\n",
      "[[0 1 2]\n",
      " [0 1 2]\n",
      " [0 1 2]\n",
      " [3 4 5]\n",
      " [3 4 5]\n",
      " [3 4 5]]\n",
      "[[0 0 0 1 1 1 2 2 2]\n",
      " [3 3 3 4 4 4 5 5 5]]\n"
     ]
    }
   ],
   "source": [
    "# np.repeat(iterable, reps, axis=None): repeat each element by n times\n",
    "\n",
    "arr = [[0, 1, 2], [3, 4, 5]]\n",
    "print(np.repeat(arr, 3)) \n",
    "print(np.repeat(arr, 3, axis=0))\n",
    "print(np.repeat(arr, 3, axis=1))  "
   ]
  },
  {
   "cell_type": "code",
   "execution_count": 475,
   "id": "1247258d-58fb-4bf6-bc2b-f4e64390f9c9",
   "metadata": {},
   "outputs": [
    {
     "name": "stdout",
     "output_type": "stream",
     "text": [
      "[0 1 2 0 1 2 0 1 2]\n",
      "[[0 1 2 0 1 2]\n",
      " [0 1 2 0 1 2]]\n"
     ]
    }
   ],
   "source": [
    "# np.tile(): repeat the whole array by n times\n",
    "\n",
    "arr = [0, 1, 2]\n",
    "print(np.tile(arr, 3))\n",
    "print(np.tile(arr, (2,2)))"
   ]
  },
  {
   "cell_type": "markdown",
   "id": "08aa53ff-1770-4780-900e-0607632bbaae",
   "metadata": {},
   "source": [
    "## 4. Array Attributes"
   ]
  },
  {
   "cell_type": "markdown",
   "id": "ec730058-f6b7-458f-a93a-ced84a1bb260",
   "metadata": {},
   "source": [
    "NumPy arrays have useful attributes like `shape`, `dtype`, and `size`."
   ]
  },
  {
   "cell_type": "code",
   "execution_count": 476,
   "id": "7baa041f-5c6f-4b09-8bbe-238e8db2c4dc",
   "metadata": {},
   "outputs": [
    {
     "name": "stdout",
     "output_type": "stream",
     "text": [
      "[ 2  3  4  5  6  7  8  9 10 11 12 13 14 15 16 17 18 19 20 21 22 23 24 25\n",
      " 26 27 28 29 30 31 32 33 34 35 36] \n",
      "\n",
      "[[ 2  3  4  5  6  7  8]\n",
      " [ 9 10 11 12 13 14 15]\n",
      " [16 17 18 19 20 21 22]\n",
      " [23 24 25 26 27 28 29]\n",
      " [30 31 32 33 34 35 36]] \n",
      "\n",
      "class:  ndarray\n",
      "shape:  (5, 7)\n",
      "strides:  (56, 8)\n",
      "itemsize:  8\n",
      "aligned:  True\n",
      "contiguous:  True\n",
      "fortran:  False\n",
      "data pointer: 0x1166736c0\n",
      "byteorder:  little\n",
      "byteswap:  False\n",
      "type: int64\n",
      "None\n"
     ]
    }
   ],
   "source": [
    "# np.info(arr)\n",
    "\n",
    "# arr.reshape, arr.ndim, arr.shape, arr.size, arr.dtype\n",
    "\n",
    "arr2 = np.arange(2,37)\n",
    "\n",
    "arr2_1d = arr2\n",
    "arr2_2d = arr2.reshape(5,7)\n",
    "print(arr2_1d, '\\n')\n",
    "print(arr2_2d, '\\n')\n",
    "print(np.info(arr2_2d))"
   ]
  },
  {
   "cell_type": "code",
   "execution_count": 477,
   "id": "5c35626f-a68e-4259-b8d0-7309c982e009",
   "metadata": {},
   "outputs": [
    {
     "name": "stdout",
     "output_type": "stream",
     "text": [
      "[100   3   4   5   6   7   8   9  10  11  12  13  14  15  16  17  18  19\n",
      "  20  21  22  23  24  25  26  27  28  29  30  31  32  33  34  35  36] \n",
      "\n",
      "[[100   3   4   5   6   7   8]\n",
      " [  9  10  11  12  13  14  15]\n",
      " [ 16  17  18  19  20  21  22]\n",
      " [ 23  24  25  26  27  28  29]\n",
      " [ 30  31  32  33  34  35  36]]\n",
      "[ 2  3  4  5  6  7  8  9 10 11 12 13 14 15 16 17 18 19 20 21 22 23 24 25\n",
      " 26 27 28 29 30 31 32 33 34 35 36] \n",
      "\n",
      "[[ 2  3  4  5  6  7  8]\n",
      " [ 9 10 11 12 13 14 15]\n",
      " [16 17 18 19 20 21 22]\n",
      " [23 24 25 26 27 28 29]\n",
      " [30 31 32 33 34 35 36]]\n"
     ]
    }
   ],
   "source": [
    "arr2_1d[0] = 100 # arr2_1d and arr2_2d都是arr2的变形，都指向同一个区域，如果修改一个元素相当于修改整个区域的一个元素，即所有数组都发生变化\n",
    "print(arr2_1d,'\\n')\n",
    "print(arr2_2d)\n",
    "\n",
    "# arr2_2d.shape = (7,5) # shape用于改变每个维度的大小\n",
    "\n",
    "arr2_2d[0][0] = 2\n",
    "print(arr2_1d,'\\n')\n",
    "print(arr2_2d)"
   ]
  },
  {
   "cell_type": "code",
   "execution_count": 478,
   "id": "7fa048fd-22cd-4b71-b7eb-de8b71e943d0",
   "metadata": {},
   "outputs": [
    {
     "name": "stdout",
     "output_type": "stream",
     "text": [
      "1 2\n"
     ]
    }
   ],
   "source": [
    "print(arr2_1d.ndim, arr2_2d.ndim) # dimension of array"
   ]
  },
  {
   "cell_type": "code",
   "execution_count": 479,
   "id": "8f5d1ee0-cd74-496a-a751-e7b413953230",
   "metadata": {},
   "outputs": [
    {
     "name": "stdout",
     "output_type": "stream",
     "text": [
      "(35,) (5, 7)\n"
     ]
    }
   ],
   "source": [
    "print(arr2_1d.shape, arr2_2d.shape) # shape of array"
   ]
  },
  {
   "cell_type": "code",
   "execution_count": 480,
   "id": "3d56bf0a-808c-45f9-ba74-2d88345681a3",
   "metadata": {},
   "outputs": [
    {
     "name": "stdout",
     "output_type": "stream",
     "text": [
      "35 35\n"
     ]
    }
   ],
   "source": [
    "print(arr2_1d.size, arr2_2d.size) # nr. of items"
   ]
  },
  {
   "cell_type": "code",
   "execution_count": 481,
   "id": "7f94ffc0-5176-4fad-8872-a354a3add414",
   "metadata": {},
   "outputs": [
    {
     "name": "stdout",
     "output_type": "stream",
     "text": [
      "int64 int64\n"
     ]
    }
   ],
   "source": [
    "print(arr2_1d.dtype, arr2_2d.dtype) # data type"
   ]
  },
  {
   "cell_type": "code",
   "execution_count": 482,
   "id": "745dceae-c2c1-4d53-b8c1-c414ed80c8e1",
   "metadata": {},
   "outputs": [
    {
     "name": "stdout",
     "output_type": "stream",
     "text": [
      "[ 2  3  4  5  6  7  8  9 10 11 12 13 14 15 16 17 18 19 20 21 22 23 24 25\n",
      " 26 27 28 29 30 31 32 33 34 35 36] \n",
      "\n",
      " [[0 0 0 0 0 0 0]\n",
      " [0 0 0 0 0 0 0]\n",
      " [0 0 0 0 0 0 0]\n",
      " [0 0 0 0 0 0 0]\n",
      " [0 0 0 0 0 0 0]]\n"
     ]
    }
   ],
   "source": [
    "print(arr2_1d.real, '\\n\\n', arr2_2d.imag) # real and imag parts"
   ]
  },
  {
   "cell_type": "markdown",
   "id": "2f5830eb-b552-4bca-9553-c45614ed85a9",
   "metadata": {},
   "source": [
    "## 4. Array indexing and slicing"
   ]
  },
  {
   "cell_type": "markdown",
   "id": "b0c71883-3f33-4488-b65e-0ce6cbe1d7fa",
   "metadata": {},
   "source": [
    "Understanding how to access and manipulate elements within NumPy arrays is crucial. This section delves into indexing, slicing, and boolean indexing, empowering you to efficiently extract information from your arrays."
   ]
  },
  {
   "cell_type": "code",
   "execution_count": 483,
   "id": "d5c62866-5161-40d7-be32-dfe5f8c744bb",
   "metadata": {},
   "outputs": [
    {
     "data": {
      "text/plain": [
       "array([ 0,  1,  2,  3,  4,  5,  6,  7,  8,  9, 10, 11])"
      ]
     },
     "execution_count": 483,
     "metadata": {},
     "output_type": "execute_result"
    }
   ],
   "source": [
    "arr7 = np.arange(12)\n",
    "arr7"
   ]
  },
  {
   "cell_type": "code",
   "execution_count": null,
   "id": "cdbffc2c-eaa6-4d64-9316-db89d4a11b8c",
   "metadata": {},
   "outputs": [],
   "source": []
  },
  {
   "cell_type": "code",
   "execution_count": 484,
   "id": "0dc49385-adb7-496d-934b-805f34109502",
   "metadata": {},
   "outputs": [
    {
     "name": "stdout",
     "output_type": "stream",
     "text": [
      "[2 4 6 8]\n"
     ]
    },
    {
     "data": {
      "text/plain": [
       "array([2, 4, 6, 8])"
      ]
     },
     "execution_count": 484,
     "metadata": {},
     "output_type": "execute_result"
    }
   ],
   "source": [
    "ss = slice(2,9,2)\n",
    "print(arr7[ss]) # [2 4 6 8]\n",
    "arr7_part = arr7[2:9:2]\n",
    "arr7_part # array([2, 4, 6, 8])"
   ]
  },
  {
   "cell_type": "code",
   "execution_count": 485,
   "id": "defa57e7-e7a2-4585-b6ec-d7ccd98e095a",
   "metadata": {},
   "outputs": [
    {
     "data": {
      "text/plain": [
       "array([[ 2,  3,  4,  5,  6],\n",
       "       [ 7,  8,  9, 10, 11],\n",
       "       [12, 13, 14, 15, 16]])"
      ]
     },
     "execution_count": 485,
     "metadata": {},
     "output_type": "execute_result"
    }
   ],
   "source": [
    "arr8 = np.arange(2,17).reshape(3,5)\n",
    "arr8"
   ]
  },
  {
   "cell_type": "code",
   "execution_count": 486,
   "id": "0da4d293-4de7-4f40-94c4-3089060b2cb0",
   "metadata": {},
   "outputs": [
    {
     "name": "stdout",
     "output_type": "stream",
     "text": [
      "[ 3  8 13] \n",
      "\n",
      "[2 3 4 5 6] \n",
      "\n",
      "[[ 4  5  6]\n",
      " [ 9 10 11]\n",
      " [14 15 16]]\n"
     ]
    }
   ],
   "source": [
    "print (arr8[...,1], '\\n')   # 第2列元素\n",
    "print (arr8[0,...], '\\n')   # 第1行元素\n",
    "print (arr8[...,2:])  # 第3列及之后所有元素"
   ]
  },
  {
   "cell_type": "code",
   "execution_count": 487,
   "id": "7b69701d-ae3b-42f3-ae78-eaf65bc754b8",
   "metadata": {},
   "outputs": [
    {
     "name": "stdout",
     "output_type": "stream",
     "text": [
      "[[ 6 10]\n",
      " [16 15]]\n"
     ]
    }
   ],
   "source": [
    "# 高级索引 -- 整数数组索引\n",
    "# 是用一数组来访问另一数组元素。这个数组的每个元素都是目标数组中某维度上索引值\n",
    "\n",
    "rows = np.array([[0,1], [2,2]])\n",
    "cols = np.array([[4,3], [4,3]])\n",
    "# 第一个的id是0-4，第二个是1-3，第三个是2-4，第四个是2-3\n",
    "\n",
    "arr8_part = arr8[rows, cols]\n",
    "print(arr8_part)"
   ]
  },
  {
   "cell_type": "code",
   "execution_count": 488,
   "id": "fe6b885d-3a60-4199-ab0c-58181833191b",
   "metadata": {},
   "outputs": [
    {
     "data": {
      "text/plain": [
       "array([[ 9, 10],\n",
       "       [14, 15]])"
      ]
     },
     "execution_count": 488,
     "metadata": {},
     "output_type": "execute_result"
    }
   ],
   "source": [
    "arr8[1:, 2:4]"
   ]
  },
  {
   "cell_type": "code",
   "execution_count": 489,
   "id": "82ebb2ef-ac95-4f0e-a167-6d03b81edd5c",
   "metadata": {},
   "outputs": [
    {
     "data": {
      "text/plain": [
       "array([[ 2,  3,  4,  5,  6],\n",
       "       [ 7,  8,  9, 10, 11],\n",
       "       [12, 13, 14, 15, 16]])"
      ]
     },
     "execution_count": 489,
     "metadata": {},
     "output_type": "execute_result"
    }
   ],
   "source": [
    "# 高级索引 -- 布尔索引\n",
    "# 通过一个布尔数组来索引目标数组\n",
    "arr8"
   ]
  },
  {
   "cell_type": "code",
   "execution_count": 490,
   "id": "5167dc18-5f1e-4733-9cc5-a8fe48bde0dc",
   "metadata": {},
   "outputs": [
    {
     "data": {
      "text/plain": [
       "array([10, 11, 12, 13, 14, 15, 16])"
      ]
     },
     "execution_count": 490,
     "metadata": {},
     "output_type": "execute_result"
    }
   ],
   "source": [
    "arr8[arr8 > 9]"
   ]
  },
  {
   "cell_type": "code",
   "execution_count": 491,
   "id": "ba9e7cba-f00d-45a8-b4d2-810ccf7336b7",
   "metadata": {},
   "outputs": [
    {
     "data": {
      "text/plain": [
       "array([ 3,  6,  9, 12, 15])"
      ]
     },
     "execution_count": 491,
     "metadata": {},
     "output_type": "execute_result"
    }
   ],
   "source": [
    "arr8[arr8 % 3 == 0]"
   ]
  },
  {
   "cell_type": "code",
   "execution_count": 492,
   "id": "7244fe22-7bc6-481b-893c-3d09e1d9f622",
   "metadata": {},
   "outputs": [
    {
     "data": {
      "text/plain": [
       "array([[ 7,  8,  9, 10, 11],\n",
       "       [ 2,  3,  4,  5,  6],\n",
       "       [12, 13, 14, 15, 16],\n",
       "       [ 2,  3,  4,  5,  6],\n",
       "       [12, 13, 14, 15, 16]])"
      ]
     },
     "execution_count": 492,
     "metadata": {},
     "output_type": "execute_result"
    }
   ],
   "source": [
    "arr8[[1,0,2,0,-1]] # 双层[]，分别取对应行"
   ]
  },
  {
   "cell_type": "markdown",
   "id": "c355f969-323a-4348-93c0-20e52dc13c0e",
   "metadata": {},
   "source": [
    "## 5. Array Operations"
   ]
  },
  {
   "cell_type": "markdown",
   "id": "33286fbe-f4d8-444c-9bcc-306e2d1b7c9f",
   "metadata": {},
   "source": [
    "NumPy facilitates various operations on arrays, from basic arithmetic to more complex mathematical and statistical functions. Explore the vast array of possibilities, including broadcasting and universal functions."
   ]
  },
  {
   "cell_type": "code",
   "execution_count": 493,
   "id": "8a8a90d0-43ca-4a89-ab69-1bfb8f973690",
   "metadata": {},
   "outputs": [
    {
     "data": {
      "text/plain": [
       "array([[ 2,  3,  4,  5],\n",
       "       [ 6,  7,  8,  9],\n",
       "       [10, 11, 12, 13]])"
      ]
     },
     "execution_count": 493,
     "metadata": {},
     "output_type": "execute_result"
    }
   ],
   "source": [
    "farr = np.arange(2, 14).reshape(3,4)\n",
    "farr"
   ]
  },
  {
   "cell_type": "code",
   "execution_count": 494,
   "id": "ecdf8948-7c1c-4aea-80db-713330ee9dc0",
   "metadata": {},
   "outputs": [
    {
     "data": {
      "text/plain": [
       "array([[ 2,  6, 10],\n",
       "       [ 3,  7, 11],\n",
       "       [ 4,  8, 12],\n",
       "       [ 5,  9, 13]])"
      ]
     },
     "execution_count": 494,
     "metadata": {},
     "output_type": "execute_result"
    }
   ],
   "source": [
    "farr.T # 转置"
   ]
  },
  {
   "cell_type": "code",
   "execution_count": 495,
   "id": "f708a035-9da1-4472-9864-eca8c2f04c76",
   "metadata": {},
   "outputs": [
    {
     "name": "stdout",
     "output_type": "stream",
     "text": [
      "2 3 4 5 6 7 8 9 10 11 12 13 "
     ]
    }
   ],
   "source": [
    "for x in np.nditer(farr): # order='C') 默认order是c风格\n",
    "    print(x, end=' ')"
   ]
  },
  {
   "cell_type": "code",
   "execution_count": 496,
   "id": "28ba5743-24b5-42e3-b4af-1255b9d18c90",
   "metadata": {},
   "outputs": [
    {
     "name": "stdout",
     "output_type": "stream",
     "text": [
      "2 6 10 3 7 11 4 8 12 5 9 13 "
     ]
    }
   ],
   "source": [
    "for x in np.nditer(farr, order='F'):\n",
    "    print(x, end=' ')"
   ]
  },
  {
   "cell_type": "code",
   "execution_count": 497,
   "id": "4fc7e48c-a44e-4959-867e-bdbb98b27d5e",
   "metadata": {},
   "outputs": [],
   "source": [
    "# np.reshape, \n",
    "# arr.flatten(), arr.flatten(order='F')\n",
    "# np.transpose(arr) = arr.T"
   ]
  },
  {
   "cell_type": "markdown",
   "id": "a27b6a24-f4c1-4ede-a1d0-ee89eff1ce69",
   "metadata": {},
   "source": [
    "### 5.1 Basic operatioins"
   ]
  },
  {
   "cell_type": "code",
   "execution_count": 498,
   "id": "9cec6fe5-b224-4596-8d14-28d56e5152ef",
   "metadata": {},
   "outputs": [],
   "source": [
    "arr1 = np.array([1,2,3,4])\n",
    "arr2 = np.array([10, 20, 30, 40])"
   ]
  },
  {
   "cell_type": "code",
   "execution_count": 499,
   "id": "d59bc96f-dabf-4d3e-b2b3-12883e1c7b09",
   "metadata": {},
   "outputs": [
    {
     "name": "stdout",
     "output_type": "stream",
     "text": [
      "[11 22 33 44] \n",
      "\n",
      "[ 9 18 27 36] \n",
      "\n",
      "[ 10  40  90 160] \n",
      "\n",
      "300\n"
     ]
    }
   ],
   "source": [
    "print(arr1 + arr2, '\\n') # Element-wise addition\n",
    "print(arr2 - arr1, '\\n')\n",
    "print(arr1 * arr2, '\\n') # Scalar multiplication\n",
    "print(np.dot(arr1, arr2))\n"
   ]
  },
  {
   "cell_type": "markdown",
   "id": "bcee25cb-c5d9-4dd9-bf18-f03d28b804ff",
   "metadata": {},
   "source": [
    "### 5.2 Mathematical functions"
   ]
  },
  {
   "cell_type": "code",
   "execution_count": 500,
   "id": "1229d8f3-1c4f-4427-83a8-1af85131cea4",
   "metadata": {},
   "outputs": [
    {
     "name": "stdout",
     "output_type": "stream",
     "text": [
      "10\n",
      "2.5\n",
      "1.118033988749895\n"
     ]
    }
   ],
   "source": [
    "print(np.sum(arr1))   # Sum of array elements\n",
    "print(np.mean(arr1))  # Mean of array elements\n",
    "print(np.std(arr1))   # Standard deviation"
   ]
  },
  {
   "cell_type": "code",
   "execution_count": 501,
   "id": "58311b49-29cc-47b4-8afa-990777996c2a",
   "metadata": {},
   "outputs": [],
   "source": [
    "# np.sin(arr*np.pi/180), np.cos(), np.tan(), np.arcsin(), ...\n",
    "# np.exp(arr), np.log(arr), ...\n",
    "# np.around(arr), np.floor(), np.ceil(), "
   ]
  },
  {
   "cell_type": "code",
   "execution_count": 502,
   "id": "62928db2-15a4-4eed-929d-470248452bc5",
   "metadata": {},
   "outputs": [],
   "source": [
    "# np.add(arr1, arr2)\n",
    "# np.subtract(), multiply(), np.divide()\n",
    "# np.reciprocal(arr)\n",
    "# np.power(arr, 3)\n",
    "\n",
    "# np.mod(arr, brr) # same shepe\n",
    "# np.reminder(arr, brr)"
   ]
  },
  {
   "cell_type": "markdown",
   "id": "95e3edaa-a7ce-43c2-9aee-60eb27a1c523",
   "metadata": {},
   "source": [
    "### 5.3 Universal functions (ufunc)"
   ]
  },
  {
   "cell_type": "code",
   "execution_count": 503,
   "id": "117c2956-d177-4011-adea-51fe1ed349f9",
   "metadata": {},
   "outputs": [
    {
     "name": "stdout",
     "output_type": "stream",
     "text": [
      "[ 1  4  9 16]\n",
      "[1.         1.41421356 1.73205081 2.        ]\n",
      "[ 2.71828183  7.3890561  20.08553692 54.59815003]\n"
     ]
    }
   ],
   "source": [
    "print(np.square(arr1))   # Square each element\n",
    "print(np.sqrt(arr1))     # Square root of each element\n",
    "print(np.exp(arr1))"
   ]
  },
  {
   "cell_type": "markdown",
   "id": "eef00fe9-b1d9-4498-b368-a91f588c655a",
   "metadata": {},
   "source": [
    "### 5.4 Aggregate function"
   ]
  },
  {
   "cell_type": "code",
   "execution_count": 504,
   "id": "7291fbbe-fae0-4ac9-8761-f59265b52066",
   "metadata": {},
   "outputs": [
    {
     "name": "stdout",
     "output_type": "stream",
     "text": [
      "1\n",
      "4\n",
      "0\n",
      "3\n"
     ]
    }
   ],
   "source": [
    "print(np.min(arr1))   # Minimum value\n",
    "print(np.max(arr1))   # Maximum value\n",
    "print(np.argmin(arr1))   # Index of minimum value\n",
    "print(np.argmax(arr1))   # Index of maximum value"
   ]
  },
  {
   "cell_type": "markdown",
   "id": "23520014-ca87-451a-b896-22218a7f0730",
   "metadata": {},
   "source": [
    "### 5.5 Broadcasting"
   ]
  },
  {
   "cell_type": "markdown",
   "id": "d31b1155-9e45-4a37-85e2-6b9b68c0bc5d",
   "metadata": {},
   "source": [
    "NumPy allows operations between arrays of different shapes and dimensions through broadcasting."
   ]
  },
  {
   "cell_type": "code",
   "execution_count": 505,
   "id": "7121cdd0-3b1c-43a4-8207-ee47e0cf1f43",
   "metadata": {},
   "outputs": [],
   "source": [
    "# 如两数组a和b形状相同，即a.shape==b.shape，那a*b是a与b数组对应位相乘"
   ]
  },
  {
   "cell_type": "code",
   "execution_count": 506,
   "id": "3720cb0d-c06c-4914-bac7-0fba7d9525fd",
   "metadata": {},
   "outputs": [],
   "source": [
    "# 对不同形状(shape)的数组进行的是broadcast形式计算"
   ]
  },
  {
   "cell_type": "code",
   "execution_count": 507,
   "id": "fd6430af-c583-4e63-af96-53fca8e78712",
   "metadata": {},
   "outputs": [
    {
     "name": "stdout",
     "output_type": "stream",
     "text": [
      "[11 22 33 44] \n",
      " [ 10  40  90 160]\n"
     ]
    }
   ],
   "source": [
    "brr = np.array([1, 2, 3, 4])\n",
    "crr = np.array([10, 20, 30, 40])\n",
    "drr = brr + crr\n",
    "err = brr * crr\n",
    "print(drr, '\\n', err)"
   ]
  },
  {
   "cell_type": "code",
   "execution_count": 508,
   "id": "de5fdf0f-37c3-4480-8e4d-56791cfec30a",
   "metadata": {},
   "outputs": [
    {
     "data": {
      "text/plain": [
       "array([[ 0,  4,  7],\n",
       "       [10, 14, 17],\n",
       "       [20, 24, 27],\n",
       "       [30, 34, 37]])"
      ]
     },
     "execution_count": 508,
     "metadata": {},
     "output_type": "execute_result"
    }
   ],
   "source": [
    "# 当2个数组形状不同时，numpy自动触发广播机制\n",
    "\n",
    "brr = np.array([[ 0, 0, 0],\n",
    "           [10,10,10],\n",
    "           [20,20,20],\n",
    "           [30,30,30]])\n",
    "crr = np.array([0, 4, 7])\n",
    "\n",
    "brr + crr"
   ]
  },
  {
   "cell_type": "code",
   "execution_count": 509,
   "id": "7175aaeb-5cd5-4169-879c-d97886318ae7",
   "metadata": {},
   "outputs": [
    {
     "data": {
      "text/plain": [
       "array([[  0,   0,   0],\n",
       "       [  0,  40,  70],\n",
       "       [  0,  80, 140],\n",
       "       [  0, 120, 210]])"
      ]
     },
     "execution_count": 509,
     "metadata": {},
     "output_type": "execute_result"
    }
   ],
   "source": [
    "brr*crr"
   ]
  },
  {
   "cell_type": "code",
   "execution_count": 510,
   "id": "4ce36c25-579f-4501-9154-850593f830a5",
   "metadata": {},
   "outputs": [],
   "source": [
    "# 操作\t函数/运算符\t描述\n",
    "# 按位与\tnumpy.bitwise_and(x1, x2)\t对数组的每个元素执行逐位与操作。\n",
    "# 按位或\tnumpy.bitwise_or(x1, x2)\t对数组的每个元素执行逐位或操作。\n",
    "# 按位异或\tnumpy.bitwise_xor(x1, x2)\t对数组的每个元素执行逐位异或操作。\n",
    "# 按位取反\tnumpy.invert(x)\t对数组的每个元素执行逐位取反（按位非）。\n",
    "# 左移\tnumpy.left_shift(x1, x2)\t将数组的每个元素左移指定的位数。\n",
    "# 右移\tnumpy.right_shift(x1, x2)\t将数组的每个元素右移指定的位数。"
   ]
  },
  {
   "cell_type": "markdown",
   "id": "3aa252ce-a9a3-4d93-907f-2780ba03a412",
   "metadata": {},
   "source": [
    "## 6. Linear Algebra with NumPy"
   ]
  },
  {
   "cell_type": "markdown",
   "id": "03eb7eb3-4dc9-4617-8de0-3f5082ea9059",
   "metadata": {},
   "source": [
    "Discover the capabilities of NumPy in the realm of linear algebra. From matrix multiplication to eigenvalues and eigenvectors, this section provides a comprehensive guide to leveraging NumPy for linear algebraic computations."
   ]
  },
  {
   "cell_type": "markdown",
   "id": "97b59f21-8c47-4b19-9a94-08c9bdb5700e",
   "metadata": {},
   "source": [
    "### 6.1 Vectors and matrices"
   ]
  },
  {
   "cell_type": "code",
   "execution_count": 511,
   "id": "426c470b-73fa-4cdf-b11d-d6e45c5abe5d",
   "metadata": {},
   "outputs": [],
   "source": [
    "# Vectors and Matrices\n",
    "vector = np.array([1, 2, 3])\n",
    "matrix = np.array([[1, 2, 3], [4, 5, 6], [7, 8, 9]])"
   ]
  },
  {
   "cell_type": "markdown",
   "id": "cf3b43e9-93ff-469d-8ee5-d2ae2fd5011d",
   "metadata": {},
   "source": [
    "### 6.2 Matrix Operations"
   ]
  },
  {
   "cell_type": "code",
   "execution_count": 512,
   "id": "c513e448-b61e-406d-92ab-2617251fb25b",
   "metadata": {},
   "outputs": [
    {
     "name": "stdout",
     "output_type": "stream",
     "text": [
      "[[19 22]\n",
      " [43 50]]\n",
      "[[-2.   1. ]\n",
      " [ 1.5 -0.5]]\n"
     ]
    }
   ],
   "source": [
    "# Matrix operations\n",
    "matrix_a = np.array([[1, 2], [3, 4]])\n",
    "matrix_b = np.array([[5, 6], [7, 8]])\n",
    "print(np.matmul(matrix_a, matrix_b))  # Matrix multiplication\n",
    "print(np.linalg.inv(matrix_a))        # Inverse of a matrix"
   ]
  },
  {
   "cell_type": "markdown",
   "id": "a7cfbf8e-63a5-4d71-b64f-d4ef760668e7",
   "metadata": {},
   "source": [
    "### 6.3 Eigenvalues and eigenvectors"
   ]
  },
  {
   "cell_type": "code",
   "execution_count": 513,
   "id": "2dcc0169-0164-4ecd-a155-3049be9dc925",
   "metadata": {},
   "outputs": [
    {
     "name": "stdout",
     "output_type": "stream",
     "text": [
      "[ 1.61168440e+01 -1.11684397e+00 -8.58274334e-16] \n",
      " [[-0.23197069 -0.78583024  0.40824829]\n",
      " [-0.52532209 -0.08675134 -0.81649658]\n",
      " [-0.8186735   0.61232756  0.40824829]]\n"
     ]
    }
   ],
   "source": [
    "# Eigenvalues and eigenvectors\n",
    "eigenvalues, eigenvectors = np.linalg.eig(matrix)\n",
    "print(eigenvalues, '\\n', eigenvectors)"
   ]
  },
  {
   "cell_type": "markdown",
   "id": "69449f56-77e9-479b-b63f-b8d304c5c84c",
   "metadata": {},
   "source": [
    "### 6.4 Solving linear equations"
   ]
  },
  {
   "cell_type": "code",
   "execution_count": 514,
   "id": "f2935d5e-15d6-44c7-8339-b6d78641ab8e",
   "metadata": {},
   "outputs": [
    {
     "name": "stdout",
     "output_type": "stream",
     "text": [
      "[ 7. -2.]\n"
     ]
    }
   ],
   "source": [
    "coefficients = np.array([[2, 3], [4, 5]])\n",
    "constants = np.array([8, 18])\n",
    "solution = np.linalg.solve(coefficients, constants)\n",
    "print(solution)"
   ]
  },
  {
   "cell_type": "markdown",
   "id": "996798c6-d8cf-4803-8dca-5eb83122d85d",
   "metadata": {},
   "source": [
    "## 7. Statistical Operations"
   ]
  },
  {
   "cell_type": "markdown",
   "id": "809a9719-ca50-4b7a-8df4-756880f71a78",
   "metadata": {},
   "source": [
    "Data analysis often involves statistical measures. Learn how to perform descriptive statistics, work with probability distributions, and conduct hypothesis testing using NumPy and SciPy."
   ]
  },
  {
   "cell_type": "code",
   "execution_count": 515,
   "id": "b0f1f848-e9e4-42df-9e66-e671c66f6866",
   "metadata": {},
   "outputs": [
    {
     "data": {
      "text/plain": [
       "array([[3, 7, 5],\n",
       "       [8, 4, 3],\n",
       "       [2, 4, 9]])"
      ]
     },
     "execution_count": 515,
     "metadata": {},
     "output_type": "execute_result"
    }
   ],
   "source": [
    "# np.amin(arr), np.amax(arr, axis=None)\n",
    "\n",
    "arb = np.array([[3,7,5],[8,4,3],[2,4,9]])\n",
    "arb"
   ]
  },
  {
   "cell_type": "code",
   "execution_count": 516,
   "id": "13d353c6-16c9-46d0-a2e1-42afd1c8048a",
   "metadata": {},
   "outputs": [
    {
     "data": {
      "text/plain": [
       "5.0"
      ]
     },
     "execution_count": 516,
     "metadata": {},
     "output_type": "execute_result"
    }
   ],
   "source": [
    "# numpy.mean()返回数组中元素的算术平均值\n",
    "np.mean(arb)"
   ]
  },
  {
   "cell_type": "code",
   "execution_count": 517,
   "id": "a53b1272-c87d-49ec-9ed3-eef52169ac68",
   "metadata": {},
   "outputs": [
    {
     "data": {
      "text/plain": [
       "2"
      ]
     },
     "execution_count": 517,
     "metadata": {},
     "output_type": "execute_result"
    }
   ],
   "source": [
    "np.amin(arb) # global minimum"
   ]
  },
  {
   "cell_type": "code",
   "execution_count": 518,
   "id": "3fe03e06-9482-494c-b754-1e82bc15d387",
   "metadata": {},
   "outputs": [
    {
     "data": {
      "text/plain": [
       "array([2, 4, 3])"
      ]
     },
     "execution_count": 518,
     "metadata": {},
     "output_type": "execute_result"
    }
   ],
   "source": [
    "np.amin(arb, axis=0) # 每列的最小值"
   ]
  },
  {
   "cell_type": "code",
   "execution_count": 519,
   "id": "778bbb95-56ba-4904-ab60-8fcf991fa636",
   "metadata": {},
   "outputs": [
    {
     "data": {
      "text/plain": [
       "array([2, 4, 3])"
      ]
     },
     "execution_count": 519,
     "metadata": {},
     "output_type": "execute_result"
    }
   ],
   "source": [
    "np.amin(arb, 0) # 每列的最小值"
   ]
  },
  {
   "cell_type": "code",
   "execution_count": 520,
   "id": "a0a9f7f5-fbce-4a3a-83e5-e42228b7a178",
   "metadata": {},
   "outputs": [
    {
     "data": {
      "text/plain": [
       "array([7, 8, 9])"
      ]
     },
     "execution_count": 520,
     "metadata": {},
     "output_type": "execute_result"
    }
   ],
   "source": [
    "np.amax(arb, 1) # 每行的最大值"
   ]
  },
  {
   "cell_type": "code",
   "execution_count": 521,
   "id": "ac987544-00d6-4498-a9ff-bd7ec8ba81d5",
   "metadata": {},
   "outputs": [
    {
     "data": {
      "text/plain": [
       "4.0"
      ]
     },
     "execution_count": 521,
     "metadata": {},
     "output_type": "execute_result"
    }
   ],
   "source": [
    "# numpy.median()用于计算数组a中元素的中位数\n",
    "np.median(arb)"
   ]
  },
  {
   "cell_type": "code",
   "execution_count": 522,
   "id": "d099dccf-f17e-425e-a8df-f7571c8d28e9",
   "metadata": {},
   "outputs": [
    {
     "data": {
      "text/plain": [
       "7"
      ]
     },
     "execution_count": 522,
     "metadata": {},
     "output_type": "execute_result"
    }
   ],
   "source": [
    "# numpy.ptp()计算数组中最大值与最小值的差（最大值-最小值）\n",
    "np.ptp(arb) # min=2 and max=9"
   ]
  },
  {
   "cell_type": "code",
   "execution_count": 523,
   "id": "02400227-dea6-4d5c-b107-14eae702c883",
   "metadata": {},
   "outputs": [
    {
     "data": {
      "text/plain": [
       "array([6, 3, 6])"
      ]
     },
     "execution_count": 523,
     "metadata": {},
     "output_type": "execute_result"
    }
   ],
   "source": [
    "np.ptp(arb, 0)"
   ]
  },
  {
   "cell_type": "code",
   "execution_count": 524,
   "id": "119d5c9b-a0ea-4481-9b1a-0eedeef59df3",
   "metadata": {},
   "outputs": [
    {
     "data": {
      "text/plain": [
       "2.309401076758503"
      ]
     },
     "execution_count": 524,
     "metadata": {},
     "output_type": "execute_result"
    }
   ],
   "source": [
    "# np.std() 标准差是数据平均值分散程度，是方差的算术平方根。\n",
    "np.std(arb)"
   ]
  },
  {
   "cell_type": "code",
   "execution_count": 525,
   "id": "1997c20b-a3f8-4ac1-8bae-1195c633b512",
   "metadata": {},
   "outputs": [
    {
     "data": {
      "text/plain": [
       "5.333333333333333"
      ]
     },
     "execution_count": 525,
     "metadata": {},
     "output_type": "execute_result"
    }
   ],
   "source": [
    "np.var(arb) # Variance"
   ]
  },
  {
   "cell_type": "markdown",
   "id": "f0ab1725-ab37-4bbc-8095-e35772f09bf7",
   "metadata": {},
   "source": [
    "## 8. NumPy sorting and conditional filtering functions"
   ]
  },
  {
   "cell_type": "code",
   "execution_count": 526,
   "id": "beef934f-806a-4d0a-b33d-3672ad6a3e71",
   "metadata": {},
   "outputs": [
    {
     "name": "stdout",
     "output_type": "stream",
     "text": [
      "[[3 7 5]\n",
      " [8 4 3]\n",
      " [2 4 9]] \n",
      "\n"
     ]
    },
    {
     "data": {
      "text/plain": [
       "array([[3, 5, 7],\n",
       "       [3, 4, 8],\n",
       "       [2, 4, 9]])"
      ]
     },
     "execution_count": 526,
     "metadata": {},
     "output_type": "execute_result"
    }
   ],
   "source": [
    "# numpy.sort()返回输入数组的排序副本\n",
    "\n",
    "print(arb, '\\n')\n",
    "np.sort(arb)"
   ]
  },
  {
   "cell_type": "code",
   "execution_count": 527,
   "id": "d34abd58-5641-45e6-8ce6-3e4cc60132bd",
   "metadata": {},
   "outputs": [
    {
     "data": {
      "text/plain": [
       "array([[2, 4, 3],\n",
       "       [3, 4, 5],\n",
       "       [8, 7, 9]])"
      ]
     },
     "execution_count": 527,
     "metadata": {},
     "output_type": "execute_result"
    }
   ],
   "source": [
    "np.sort(arb, 0)"
   ]
  },
  {
   "cell_type": "code",
   "execution_count": 528,
   "id": "5ef96ac0-6ce6-47d6-aca9-2ac1578667b4",
   "metadata": {},
   "outputs": [],
   "source": [
    "# quicksort（快速排序）速度最快 O(n^2) 不稳定\n",
    "# mergesort（归并排序）速度中等 (n*log(n)) 稳定\n",
    "# heapsort'（堆排序）速度较慢 (n*log(n)) 稳定"
   ]
  },
  {
   "cell_type": "code",
   "execution_count": 529,
   "id": "f4e5d689-feea-46ea-8e9d-ed6019307a4d",
   "metadata": {},
   "outputs": [],
   "source": [
    "# np.argsort() 返回的是数组值从小到大的索引值\n",
    "# np.lexsort() 用于对多个序列进行排序\n",
    "# msort(arr)、sort_complex(arr)、partition(arr)\n",
    "# np.argmax()和 np.argmin()分别沿给定轴返回最大和最小元素的索引\n",
    "# np.nonzero() 返回输入数组中非零元素的索引\n",
    "# np.where() 返回输入数组中满足给定条件的元素的索引\n",
    "# np.extract() 函数根据某个条件从数组中抽取元素，返回满条件的元素"
   ]
  },
  {
   "cell_type": "markdown",
   "id": "614d3e03-d86b-4102-9ff0-b706bb11be66",
   "metadata": {},
   "source": [
    "## 9. File I/O with NumPy"
   ]
  },
  {
   "cell_type": "code",
   "execution_count": 530,
   "id": "0c9203fd-5ae5-4c02-9d69-e6fd50a6d235",
   "metadata": {},
   "outputs": [],
   "source": [
    "# File I/O with NumPy\n",
    "np.savetxt('data.txt', arb, delimiter=',')  # Save to a text file\n",
    "\n",
    "loaded_array = np.loadtxt('data.txt', delimiter=',')  # Load from a text file"
   ]
  },
  {
   "cell_type": "markdown",
   "id": "e17e342c-c1ba-432f-b5f6-f8d98d47c189",
   "metadata": {},
   "source": [
    "## 10. Matplotlib"
   ]
  },
  {
   "cell_type": "code",
   "execution_count": 531,
   "id": "e3267673-7797-4464-9d20-293881ff6b4a",
   "metadata": {},
   "outputs": [],
   "source": [
    "import matplotlib.pyplot as plt"
   ]
  },
  {
   "cell_type": "code",
   "execution_count": 532,
   "id": "ee37b710-86a8-4c8c-9de6-75a64124e0b8",
   "metadata": {},
   "outputs": [
    {
     "data": {
      "text/plain": [
       "Text(0, 0.5, 'Y axis')"
      ]
     },
     "execution_count": 532,
     "metadata": {},
     "output_type": "execute_result"
    },
    {
     "data": {
      "image/png": "[encoded data removed]",
      "text/plain": [
       "<Figure size 640x480 with 1 Axes>"
      ]
     },
     "metadata": {},
     "output_type": "display_data"
    }
   ],
   "source": [
    "%matplotlib inline\n",
    "\n",
    "xarr = np.arange(1, 10, 0.1)\n",
    "yarr = np.sin(xarr)\n",
    "\n",
    "plt.plot(xarr, yarr, 'ro-')\n",
    "\n",
    "plt.title(\"Matplotlib demo\")\n",
    "plt.xlabel(\"X axis\")\n",
    "plt.ylabel(\"Y axis\")"
   ]
  },
  {
   "cell_type": "code",
   "execution_count": 533,
   "id": "3e1a60a3-d171-46fb-9332-b2d5ce802ead",
   "metadata": {},
   "outputs": [],
   "source": [
    "## 11. Performance Optimization"
   ]
  },
  {
   "cell_type": "markdown",
   "id": "dade968d-39d1-42f3-bfbc-16c2a9a9089f",
   "metadata": {},
   "source": [
    "Optimizing code for performance is crucial in data science. Compare vectorization with loops, delve into NumPy’s C API, and explore memory views to enhance the efficiency of your code."
   ]
  },
  {
   "cell_type": "markdown",
   "id": "8421fbd8-7751-4b41-b21c-29c06bdd91a0",
   "metadata": {},
   "source": [
    "### 11.1 Vectorization vs. Loops"
   ]
  },
  {
   "cell_type": "code",
   "execution_count": 534,
   "id": "808c3b18-e1e7-4708-8769-b16305a74295",
   "metadata": {},
   "outputs": [],
   "source": [
    "# Vectorization vs. Loops\n",
    "def add_arrays_vectorized(a, b):\n",
    "    return a + b\n",
    "def add_arrays_loops(a, b):\n",
    "    result = np.empty_like(a)\n",
    "    for i in range(a.shape[0]):\n",
    "        result[i] = a[i] + b[i]\n",
    "    return result"
   ]
  },
  {
   "cell_type": "markdown",
   "id": "e71ad99c-19eb-47e8-a6b9-bc3b9a476605",
   "metadata": {},
   "source": [
    "### 11.2 NumPy’s C API"
   ]
  },
  {
   "cell_type": "code",
   "execution_count": 535,
   "id": "acb836d1-84c7-48b3-bce1-ba294b875642",
   "metadata": {},
   "outputs": [],
   "source": [
    "# NumPy's C API\n",
    "\n",
    "# c_extension = np.ctypeslib.load_library('example', 'path/to/library')\n",
    "# c_extension.add_arrays(a, b)"
   ]
  },
  {
   "cell_type": "markdown",
   "id": "7965d320-4329-403e-b5e8-da42b34344fc",
   "metadata": {},
   "source": [
    "### 11.3 Memory views"
   ]
  },
  {
   "cell_type": "code",
   "execution_count": 536,
   "id": "5861d234-aacd-47b2-96c6-774fd1ceeabc",
   "metadata": {},
   "outputs": [],
   "source": [
    "# Memory views\n",
    "\n",
    "# arr_memory_view = np.array([[1, 2, 3], [4, 5, 6]])\n",
    "# memory_view = arr_memory_view[:, ::2].view(np.int16)"
   ]
  },
  {
   "cell_type": "markdown",
   "id": "7a936de0-6124-49d9-a2a7-fd9a744182ef",
   "metadata": {},
   "source": [
    "## 12. NumPy and data science"
   ]
  },
  {
   "cell_type": "markdown",
   "id": "3ce9101e-9f47-4162-bb47-03d69ec6261e",
   "metadata": {},
   "source": [
    "NumPy plays a pivotal role in data science. Learn how to integrate NumPy with pandas for data analysis and apply it to machine learning tasks using popular libraries like scikit-learn."
   ]
  },
  {
   "cell_type": "markdown",
   "id": "196bc876-f3ee-4d62-9719-68aac260d965",
   "metadata": {},
   "source": [
    "### 12.1 NumPy in data analysis"
   ]
  },
  {
   "cell_type": "code",
   "execution_count": 537,
   "id": "d6780623-55fc-4863-9d59-c60ff08c94f3",
   "metadata": {},
   "outputs": [
    {
     "data": {
      "text/html": [
       "<div>\n",
       "<style scoped>\n",
       "    .dataframe tbody tr th:only-of-type {\n",
       "        vertical-align: middle;\n",
       "    }\n",
       "\n",
       "    .dataframe tbody tr th {\n",
       "        vertical-align: top;\n",
       "    }\n",
       "\n",
       "    .dataframe thead th {\n",
       "        text-align: right;\n",
       "    }\n",
       "</style>\n",
       "<table border=\"1\" class=\"dataframe\">\n",
       "  <thead>\n",
       "    <tr style=\"text-align: right;\">\n",
       "      <th></th>\n",
       "      <th>A</th>\n",
       "      <th>B</th>\n",
       "      <th>C</th>\n",
       "    </tr>\n",
       "  </thead>\n",
       "  <tbody>\n",
       "    <tr>\n",
       "      <th>0</th>\n",
       "      <td>1</td>\n",
       "      <td>2</td>\n",
       "      <td>3</td>\n",
       "    </tr>\n",
       "    <tr>\n",
       "      <th>1</th>\n",
       "      <td>4</td>\n",
       "      <td>5</td>\n",
       "      <td>6</td>\n",
       "    </tr>\n",
       "  </tbody>\n",
       "</table>\n",
       "</div>"
      ],
      "text/plain": [
       "   A  B  C\n",
       "0  1  2  3\n",
       "1  4  5  6"
      ]
     },
     "execution_count": 537,
     "metadata": {},
     "output_type": "execute_result"
    }
   ],
   "source": [
    "# NumPy in Data Analysis\n",
    "import pandas as pd\n",
    "data = np.array([[1, 2, 3], [4, 5, 6]])\n",
    "df = pd.DataFrame(data, columns=['A', 'B', 'C'])\n",
    "df"
   ]
  },
  {
   "cell_type": "markdown",
   "id": "ca4fb803-58db-489a-a763-1d5635a16dec",
   "metadata": {},
   "source": [
    "### 12.2 Integration with Pandas"
   ]
  },
  {
   "cell_type": "code",
   "execution_count": 538,
   "id": "9b8592db-58a2-4759-ac3d-0582b6f76bb0",
   "metadata": {},
   "outputs": [],
   "source": [
    "import pandas as pd\n",
    "\n",
    "# df_from_np = pd.DataFrame(arr_2d, columns=['A', 'B', 'C'])\n",
    "# df_from_np"
   ]
  },
  {
   "cell_type": "markdown",
   "id": "60e7a76b-42e0-4849-b98c-7fa35cf2ed9f",
   "metadata": {},
   "source": [
    "### 12.3 Machine learning with NumPy"
   ]
  },
  {
   "cell_type": "code",
   "execution_count": 539,
   "id": "c95aa05e-9b41-4f6e-b35e-0bef87681c33",
   "metadata": {},
   "outputs": [],
   "source": [
    "from sklearn.model_selection import train_test_split\n",
    "from sklearn.linear_model import LinearRegression\n",
    "\n",
    "# X_train, X_test, y_train, y_test = train_test_split(features, target, test_size=0.2)\n",
    "# model = LinearRegression()\n",
    "# model.fit(X_train, y_train)"
   ]
  },
  {
   "cell_type": "markdown",
   "id": "3e95d43d-6529-4028-9e83-ad5e918abe36",
   "metadata": {},
   "source": [
    "## 13. Best Practices and Tips"
   ]
  },
  {
   "cell_type": "markdown",
   "id": "c8bc68e2-60f3-410d-b739-39c325a22553",
   "metadata": {},
   "source": [
    "Discover best practices to optimize memory usage, enhance code efficiency, and handle missing data effectively. Troubleshoot common errors and gain insights into debugging NumPy code."
   ]
  },
  {
   "cell_type": "markdown",
   "id": "cc4063cb-aa57-4ea4-bc03-6e7c32f8cd86",
   "metadata": {},
   "source": [
    "### 13.1 Efficient Memory Usage"
   ]
  },
  {
   "cell_type": "markdown",
   "id": "ede4ccfe-53a5-42bf-b893-e3a50cac072e",
   "metadata": {},
   "source": [
    "### 13.2 Code Optimization"
   ]
  },
  {
   "cell_type": "markdown",
   "id": "f208d6fe-03f1-4718-94a7-8ffbc44d554c",
   "metadata": {},
   "source": [
    "### 13.3 Handling Missing Data"
   ]
  },
  {
   "cell_type": "markdown",
   "id": "a919d6e9-fb16-4ddb-9185-80bc3227ca64",
   "metadata": {},
   "source": [
    "### 14.1 Common Errors"
   ]
  },
  {
   "cell_type": "markdown",
   "id": "42fa5316-a5e9-427f-b551-e80e07fd7597",
   "metadata": {},
   "source": [
    "### 14.2 Debugging NumPy Code"
   ]
  },
  {
   "cell_type": "markdown",
   "id": "613b023e-6a74-4fff-a33d-7d7e6437dbcb",
   "metadata": {},
   "source": [
    "## 14. Conclusion"
   ]
  },
  {
   "cell_type": "markdown",
   "id": "68cb2f14-a2e9-438e-bd29-d400f1dc6f52",
   "metadata": {},
   "source": [
    "In this comprehensive NumPy tutorial, we covered the essentials of numerical computing in Python. From array creation to linear algebra, random number generation, and advanced techniques, you’ve gained a solid foundation in using NumPy for various data science and machine learning tasks.\n",
    "\n",
    "To further enhance your NumPy skills, consider exploring the official NumPy documentation and working on real-world projects. Additionally, dive into more advanced topics like multi-dimensional indexing, optimization strategies, and integration with other libraries in the scientific Python ecosystem."
   ]
  },
  {
   "cell_type": "code",
   "execution_count": null,
   "id": "b7d32f48-71c8-4fb1-8f36-e37bc5d922d5",
   "metadata": {},
   "outputs": [],
   "source": []
  }
 ],
 "metadata": {
  "kernelspec": {
   "display_name": "Python 3 (ipykernel)",
   "language": "python",
   "name": "python3"
  },
  "language_info": {
   "codemirror_mode": {
    "name": "ipython",
    "version": 3
   },
   "file_extension": ".py",
   "mimetype": "text/x-python",
   "name": "python",
   "nbconvert_exporter": "python",
   "pygments_lexer": "ipython3",
   "version": "3.10.8"
  }
 },
 "nbformat": 4,
 "nbformat_minor": 5
}
